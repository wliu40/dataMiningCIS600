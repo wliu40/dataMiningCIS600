{
 "cells": [
  {
   "cell_type": "code",
   "execution_count": 1,
   "metadata": {
    "collapsed": false
   },
   "outputs": [
    {
     "name": "stderr",
     "output_type": "stream",
     "text": [
      "Warning message:\n",
      "\"package 'arules' was built under R version 3.3.3\"Loading required package: Matrix\n",
      "\n",
      "Attaching package: 'arules'\n",
      "\n",
      "The following objects are masked from 'package:base':\n",
      "\n",
      "    abbreviate, write\n",
      "\n"
     ]
    }
   ],
   "source": [
    "library(arules)\n"
   ]
  },
  {
   "cell_type": "markdown",
   "metadata": {},
   "source": [
    "## Preprocessing steps required for association rule mining"
   ]
  },
  {
   "cell_type": "code",
   "execution_count": 2,
   "metadata": {
    "collapsed": true
   },
   "outputs": [],
   "source": [
    "bk <-read.csv(\"bankdata.csv\",header = TRUE, sep = ',')"
   ]
  },
  {
   "cell_type": "code",
   "execution_count": 3,
   "metadata": {
    "collapsed": false
   },
   "outputs": [],
   "source": [
    "#remove id field\n",
    "bk[,1] <-NULL"
   ]
  },
  {
   "cell_type": "code",
   "execution_count": 4,
   "metadata": {
    "collapsed": false
   },
   "outputs": [
    {
     "data": {
      "text/html": [
       "<table>\n",
       "<thead><tr><th scope=col>age</th><th scope=col>sex</th><th scope=col>region</th><th scope=col>income</th><th scope=col>married</th><th scope=col>children</th><th scope=col>car</th><th scope=col>save_act</th><th scope=col>current_act</th><th scope=col>mortgage</th><th scope=col>pep</th></tr></thead>\n",
       "<tbody>\n",
       "\t<tr><td>54        </td><td>MALE      </td><td>INNER_CITY</td><td>26707.9   </td><td>YES       </td><td>1         </td><td>NO        </td><td>YES       </td><td>YES       </td><td>YES       </td><td>YES       </td></tr>\n",
       "\t<tr><td>27        </td><td>FEMALE    </td><td>INNER_CITY</td><td>11604.4   </td><td>YES       </td><td>2         </td><td>YES       </td><td>YES       </td><td>YES       </td><td>NO        </td><td>NO        </td></tr>\n",
       "\t<tr><td>42        </td><td>MALE      </td><td>INNER_CITY</td><td>15499.9   </td><td>YES       </td><td>0         </td><td>YES       </td><td>NO        </td><td>YES       </td><td>YES       </td><td>YES       </td></tr>\n",
       "\t<tr><td>43        </td><td>MALE      </td><td>TOWN      </td><td>33088.5   </td><td>NO        </td><td>0         </td><td>NO        </td><td>YES       </td><td>YES       </td><td>YES       </td><td>NO        </td></tr>\n",
       "\t<tr><td>64        </td><td>FEMALE    </td><td>INNER_CITY</td><td>34513.6   </td><td>YES       </td><td>1         </td><td>NO        </td><td>YES       </td><td>YES       </td><td>NO        </td><td>YES       </td></tr>\n",
       "\t<tr><td>43        </td><td>MALE      </td><td>TOWN      </td><td>32395.5   </td><td>YES       </td><td>3         </td><td>YES       </td><td>YES       </td><td>YES       </td><td>NO        </td><td>NO        </td></tr>\n",
       "</tbody>\n",
       "</table>\n"
      ],
      "text/latex": [
       "\\begin{tabular}{r|lllllllllll}\n",
       " age & sex & region & income & married & children & car & save\\_act & current\\_act & mortgage & pep\\\\\n",
       "\\hline\n",
       "\t 54           & MALE         & INNER\\_CITY & 26707.9      & YES          & 1            & NO           & YES          & YES          & YES          & YES         \\\\\n",
       "\t 27           & FEMALE       & INNER\\_CITY & 11604.4      & YES          & 2            & YES          & YES          & YES          & NO           & NO          \\\\\n",
       "\t 42           & MALE         & INNER\\_CITY & 15499.9      & YES          & 0            & YES          & NO           & YES          & YES          & YES         \\\\\n",
       "\t 43         & MALE       & TOWN       & 33088.5    & NO         & 0          & NO         & YES        & YES        & YES        & NO        \\\\\n",
       "\t 64           & FEMALE       & INNER\\_CITY & 34513.6      & YES          & 1            & NO           & YES          & YES          & NO           & YES         \\\\\n",
       "\t 43         & MALE       & TOWN       & 32395.5    & YES        & 3          & YES        & YES        & YES        & NO         & NO        \\\\\n",
       "\\end{tabular}\n"
      ],
      "text/markdown": [
       "\n",
       "age | sex | region | income | married | children | car | save_act | current_act | mortgage | pep | \n",
       "|---|---|---|---|---|---|\n",
       "| 54         | MALE       | INNER_CITY | 26707.9    | YES        | 1          | NO         | YES        | YES        | YES        | YES        | \n",
       "| 27         | FEMALE     | INNER_CITY | 11604.4    | YES        | 2          | YES        | YES        | YES        | NO         | NO         | \n",
       "| 42         | MALE       | INNER_CITY | 15499.9    | YES        | 0          | YES        | NO         | YES        | YES        | YES        | \n",
       "| 43         | MALE       | TOWN       | 33088.5    | NO         | 0          | NO         | YES        | YES        | YES        | NO         | \n",
       "| 64         | FEMALE     | INNER_CITY | 34513.6    | YES        | 1          | NO         | YES        | YES        | NO         | YES        | \n",
       "| 43         | MALE       | TOWN       | 32395.5    | YES        | 3          | YES        | YES        | YES        | NO         | NO         | \n",
       "\n",
       "\n"
      ],
      "text/plain": [
       "  age sex    region     income  married children car save_act current_act\n",
       "1 54  MALE   INNER_CITY 26707.9 YES     1        NO  YES      YES        \n",
       "2 27  FEMALE INNER_CITY 11604.4 YES     2        YES YES      YES        \n",
       "3 42  MALE   INNER_CITY 15499.9 YES     0        YES NO       YES        \n",
       "4 43  MALE   TOWN       33088.5 NO      0        NO  YES      YES        \n",
       "5 64  FEMALE INNER_CITY 34513.6 YES     1        NO  YES      YES        \n",
       "6 43  MALE   TOWN       32395.5 YES     3        YES YES      YES        \n",
       "  mortgage pep\n",
       "1 YES      YES\n",
       "2 NO       NO \n",
       "3 YES      YES\n",
       "4 YES      NO \n",
       "5 NO       YES\n",
       "6 NO       NO "
      ]
     },
     "metadata": {},
     "output_type": "display_data"
    }
   ],
   "source": [
    "head(bk)"
   ]
  },
  {
   "cell_type": "code",
   "execution_count": 5,
   "metadata": {
    "collapsed": false
   },
   "outputs": [],
   "source": [
    "#discretize continuous attribute to norminal\n",
    "bk[[\"age\"]] <- ordered(cut(bk[[\"age\"]], c(10, 40, 100)), labels = c(\"Young\", \"Senior\"))"
   ]
  },
  {
   "cell_type": "code",
   "execution_count": 7,
   "metadata": {
    "collapsed": false
   },
   "outputs": [],
   "source": [
    "bk[[\"income\"]] <- discretize(bk[[\"income\"]], categories = 2)"
   ]
  },
  {
   "cell_type": "code",
   "execution_count": 8,
   "metadata": {
    "collapsed": false
   },
   "outputs": [],
   "source": [
    "#bk[[\"children\"]] <- discretize(bk[[\"children\"]], categories = 2)\n",
    "bk[[\"children\"]] <- ordered(cut(bk[[\"children\"]], c(-1,0,10)), labels = c(\"NoChildren\", \"HaveChildren\"))"
   ]
  },
  {
   "cell_type": "code",
   "execution_count": 9,
   "metadata": {
    "collapsed": false
   },
   "outputs": [
    {
     "data": {
      "text/html": [
       "<table>\n",
       "<thead><tr><th scope=col>age</th><th scope=col>sex</th><th scope=col>region</th><th scope=col>income</th><th scope=col>married</th><th scope=col>children</th><th scope=col>car</th><th scope=col>save_act</th><th scope=col>current_act</th><th scope=col>mortgage</th><th scope=col>pep</th></tr></thead>\n",
       "<tbody>\n",
       "\t<tr><td>Senior       </td><td>MALE         </td><td>INNER_CITY   </td><td>[ 6294,34712)</td><td>YES          </td><td>HaveChildren </td><td>NO           </td><td>YES          </td><td>YES          </td><td>YES          </td><td>YES          </td></tr>\n",
       "\t<tr><td>Young        </td><td>FEMALE       </td><td>INNER_CITY   </td><td>[ 6294,34712)</td><td>YES          </td><td>HaveChildren </td><td>YES          </td><td>YES          </td><td>YES          </td><td>NO           </td><td>NO           </td></tr>\n",
       "\t<tr><td>Senior       </td><td>MALE         </td><td>INNER_CITY   </td><td>[ 6294,34712)</td><td>YES          </td><td>NoChildren   </td><td>YES          </td><td>NO           </td><td>YES          </td><td>YES          </td><td>YES          </td></tr>\n",
       "\t<tr><td>Senior       </td><td>MALE         </td><td>TOWN         </td><td>[ 6294,34712)</td><td>NO           </td><td>NoChildren   </td><td>NO           </td><td>YES          </td><td>YES          </td><td>YES          </td><td>NO           </td></tr>\n",
       "\t<tr><td>Senior       </td><td>FEMALE       </td><td>INNER_CITY   </td><td>[ 6294,34712)</td><td>YES          </td><td>HaveChildren </td><td>NO           </td><td>YES          </td><td>YES          </td><td>NO           </td><td>YES          </td></tr>\n",
       "\t<tr><td>Senior       </td><td>MALE         </td><td>TOWN         </td><td>[ 6294,34712)</td><td>YES          </td><td>HaveChildren </td><td>YES          </td><td>YES          </td><td>YES          </td><td>NO           </td><td>NO           </td></tr>\n",
       "</tbody>\n",
       "</table>\n"
      ],
      "text/latex": [
       "\\begin{tabular}{r|lllllllllll}\n",
       " age & sex & region & income & married & children & car & save\\_act & current\\_act & mortgage & pep\\\\\n",
       "\\hline\n",
       "\t Senior          & MALE            & INNER\\_CITY    & {[} 6294,34712) & YES             & HaveChildren    & NO              & YES             & YES             & YES             & YES            \\\\\n",
       "\t Young           & FEMALE          & INNER\\_CITY    & {[} 6294,34712) & YES             & HaveChildren    & YES             & YES             & YES             & NO              & NO             \\\\\n",
       "\t Senior          & MALE            & INNER\\_CITY    & {[} 6294,34712) & YES             & NoChildren      & YES             & NO              & YES             & YES             & YES            \\\\\n",
       "\t Senior          & MALE            & TOWN            & {[} 6294,34712) & NO              & NoChildren      & NO              & YES             & YES             & YES             & NO             \\\\\n",
       "\t Senior          & FEMALE          & INNER\\_CITY    & {[} 6294,34712) & YES             & HaveChildren    & NO              & YES             & YES             & NO              & YES            \\\\\n",
       "\t Senior          & MALE            & TOWN            & {[} 6294,34712) & YES             & HaveChildren    & YES             & YES             & YES             & NO              & NO             \\\\\n",
       "\\end{tabular}\n"
      ],
      "text/markdown": [
       "\n",
       "age | sex | region | income | married | children | car | save_act | current_act | mortgage | pep | \n",
       "|---|---|---|---|---|---|\n",
       "| Senior        | MALE          | INNER_CITY    | [ 6294,34712) | YES           | HaveChildren  | NO            | YES           | YES           | YES           | YES           | \n",
       "| Young         | FEMALE        | INNER_CITY    | [ 6294,34712) | YES           | HaveChildren  | YES           | YES           | YES           | NO            | NO            | \n",
       "| Senior        | MALE          | INNER_CITY    | [ 6294,34712) | YES           | NoChildren    | YES           | NO            | YES           | YES           | YES           | \n",
       "| Senior        | MALE          | TOWN          | [ 6294,34712) | NO            | NoChildren    | NO            | YES           | YES           | YES           | NO            | \n",
       "| Senior        | FEMALE        | INNER_CITY    | [ 6294,34712) | YES           | HaveChildren  | NO            | YES           | YES           | NO            | YES           | \n",
       "| Senior        | MALE          | TOWN          | [ 6294,34712) | YES           | HaveChildren  | YES           | YES           | YES           | NO            | NO            | \n",
       "\n",
       "\n"
      ],
      "text/plain": [
       "  age    sex    region     income        married children     car save_act\n",
       "1 Senior MALE   INNER_CITY [ 6294,34712) YES     HaveChildren NO  YES     \n",
       "2 Young  FEMALE INNER_CITY [ 6294,34712) YES     HaveChildren YES YES     \n",
       "3 Senior MALE   INNER_CITY [ 6294,34712) YES     NoChildren   YES NO      \n",
       "4 Senior MALE   TOWN       [ 6294,34712) NO      NoChildren   NO  YES     \n",
       "5 Senior FEMALE INNER_CITY [ 6294,34712) YES     HaveChildren NO  YES     \n",
       "6 Senior MALE   TOWN       [ 6294,34712) YES     HaveChildren YES YES     \n",
       "  current_act mortgage pep\n",
       "1 YES         YES      YES\n",
       "2 YES         NO       NO \n",
       "3 YES         YES      YES\n",
       "4 YES         YES      NO \n",
       "5 YES         NO       YES\n",
       "6 YES         NO       NO "
      ]
     },
     "metadata": {},
     "output_type": "display_data"
    }
   ],
   "source": [
    "head(bk)"
   ]
  },
  {
   "cell_type": "code",
   "execution_count": 10,
   "metadata": {
    "collapsed": true
   },
   "outputs": [],
   "source": [
    "bk[sapply(bk, is.character)] <- lapply(bk[sapply(bk, is.character)],as.factor)"
   ]
  },
  {
   "cell_type": "code",
   "execution_count": 11,
   "metadata": {
    "collapsed": false
   },
   "outputs": [
    {
     "data": {
      "text/plain": [
       "     age          sex             region              income    married  \n",
       " Young :234   FEMALE:248   INNER_CITY:221   [ 6294,34712):361   NO :169  \n",
       " Senior:266   MALE  :252   RURAL     : 83   [34712,63130]:139   YES:331  \n",
       "                           SUBURBAN  : 55                                \n",
       "                           TOWN      :141                                \n",
       "         children    car      save_act  current_act mortgage   pep     \n",
       " NoChildren  :222   NO :248   NO :156   NO :124     NO :324   NO :267  \n",
       " HaveChildren:278   YES:252   YES:344   YES:376     YES:176   YES:233  \n",
       "                                                                       \n",
       "                                                                       "
      ]
     },
     "metadata": {},
     "output_type": "display_data"
    }
   ],
   "source": [
    "summary(bk)"
   ]
  },
  {
   "cell_type": "code",
   "execution_count": 12,
   "metadata": {
    "collapsed": true
   },
   "outputs": [],
   "source": [
    "bk_tran <- as(bk, \"transactions\") "
   ]
  },
  {
   "cell_type": "code",
   "execution_count": 14,
   "metadata": {
    "collapsed": false
   },
   "outputs": [
    {
     "name": "stdout",
     "output_type": "stream",
     "text": [
      "Apriori\n",
      "\n",
      "Parameter specification:\n",
      " confidence minval smax arem  aval originalSupport maxtime support minlen\n",
      "        0.8    0.1    1 none FALSE            TRUE       5     0.1      1\n",
      " maxlen target   ext\n",
      "     10  rules FALSE\n",
      "\n",
      "Algorithmic control:\n",
      " filter tree heap memopt load sort verbose\n",
      "    0.1 TRUE TRUE  FALSE TRUE    2    TRUE\n",
      "\n",
      "Absolute minimum support count: 50 \n",
      "\n",
      "set item appearances ...[0 item(s)] done [0.00s].\n",
      "set transactions ...[24 item(s), 500 transaction(s)] done [0.00s].\n",
      "sorting and recoding items ... [24 item(s)] done [0.00s].\n",
      "creating transaction tree ... done [0.00s].\n",
      "checking subsets of size 1 2 3 4 5 6 done [0.00s].\n",
      "writing ... [508 rule(s)] done [0.00s].\n",
      "creating S4 object  ... done [0.00s].\n"
     ]
    }
   ],
   "source": [
    "rules = apriori(bk_tran)"
   ]
  },
  {
   "cell_type": "code",
   "execution_count": 16,
   "metadata": {
    "collapsed": false
   },
   "outputs": [
    {
     "data": {
      "image/png": "[encoded data removed]",
      "text/plain": [
       "plot without title"
      ]
     },
     "metadata": {},
     "output_type": "display_data"
    }
   ],
   "source": [
    "itemFrequencyPlot(bk_tran, topN = 10)"
   ]
  },
  {
   "cell_type": "markdown",
   "metadata": {},
   "source": [
    "## Experiment 0\n",
    "#### min_suport = 0.2, confidence = 0.4, minlen = 2, pep=TRUE as RHS"
   ]
  },
  {
   "cell_type": "code",
   "execution_count": 17,
   "metadata": {
    "collapsed": false
   },
   "outputs": [
    {
     "name": "stdout",
     "output_type": "stream",
     "text": [
      "Apriori\n",
      "\n",
      "Parameter specification:\n",
      " confidence minval smax arem  aval originalSupport maxtime support minlen\n",
      "        0.4    0.1    1 none FALSE            TRUE       5     0.2      2\n",
      " maxlen target   ext\n",
      "     10  rules FALSE\n",
      "\n",
      "Algorithmic control:\n",
      " filter tree heap memopt load sort verbose\n",
      "    0.1 TRUE TRUE  FALSE TRUE    2    TRUE\n",
      "\n",
      "Absolute minimum support count: 100 \n",
      "\n",
      "set item appearances ...[0 item(s)] done [0.00s].\n",
      "set transactions ...[24 item(s), 500 transaction(s)] done [0.00s].\n",
      "sorting and recoding items ... [22 item(s)] done [0.00s].\n",
      "creating transaction tree ... done [0.00s].\n",
      "checking subsets of size 1 2 3 4 5 done [0.00s].\n",
      "writing ... [758 rule(s)] done [0.00s].\n",
      "creating S4 object  ... done [0.00s].\n"
     ]
    },
    {
     "data": {
      "text/plain": [
       "set of 22 rules\n",
       "\n",
       "rule length distribution (lhs + rhs):sizes\n",
       " 2  3 \n",
       "12 10 \n",
       "\n",
       "   Min. 1st Qu.  Median    Mean 3rd Qu.    Max. \n",
       "  2.000   2.000   2.000   2.455   3.000   3.000 \n",
       "\n",
       "summary of quality measures:\n",
       "    support         confidence          lift       \n",
       " Min.   :0.2000   Min.   :0.4238   Min.   :0.9095  \n",
       " 1st Qu.:0.2160   1st Qu.:0.4574   1st Qu.:0.9816  \n",
       " Median :0.2280   Median :0.4841   Median :1.0389  \n",
       " Mean   :0.2456   Mean   :0.5019   Mean   :1.0770  \n",
       " 3rd Qu.:0.2695   3rd Qu.:0.5295   3rd Qu.:1.1362  \n",
       " Max.   :0.3540   Max.   :0.6623   Max.   :1.4211  \n",
       "\n",
       "mining info:\n",
       "    data ntransactions support confidence\n",
       " bk_tran           500     0.2        0.4"
      ]
     },
     "metadata": {},
     "output_type": "display_data"
    },
    {
     "name": "stdout",
     "output_type": "stream",
     "text": [
      "     lhs                                        rhs       support confidence\n",
      "[1]  {age=Senior,children=HaveChildren}      => {pep=YES} 0.200   0.6622517 \n",
      "[2]  {married=NO}                            => {pep=YES} 0.204   0.6035503 \n",
      "[3]  {children=HaveChildren,save_act=YES}    => {pep=YES} 0.228   0.5757576 \n",
      "[4]  {children=HaveChildren,mortgage=NO}     => {pep=YES} 0.208   0.5621622 \n",
      "[5]  {children=HaveChildren,current_act=YES} => {pep=YES} 0.228   0.5402844 \n",
      "[6]  {age=Senior,current_act=YES}            => {pep=YES} 0.214   0.5297030 \n",
      "[7]  {children=HaveChildren}                 => {pep=YES} 0.294   0.5287770 \n",
      "[8]  {age=Senior}                            => {pep=YES} 0.278   0.5225564 \n",
      "[9]  {age=Senior,save_act=YES}               => {pep=YES} 0.208   0.5098039 \n",
      "[10] {save_act=YES,mortgage=NO}              => {pep=YES} 0.224   0.4977778 \n",
      "[11] {sex=MALE}                              => {pep=YES} 0.244   0.4841270 \n",
      "[12] {car=YES}                               => {pep=YES} 0.244   0.4841270 \n",
      "[13] {current_act=YES,mortgage=NO}           => {pep=YES} 0.242   0.4840000 \n",
      "[14] {mortgage=NO}                           => {pep=YES} 0.306   0.4722222 \n",
      "[15] {current_act=YES}                       => {pep=YES} 0.354   0.4707447 \n",
      "[16] {region=INNER_CITY}                     => {pep=YES} 0.206   0.4660633 \n",
      "[17] {save_act=YES,current_act=YES}          => {pep=YES} 0.240   0.4545455 \n",
      "[18] {save_act=YES}                          => {pep=YES} 0.308   0.4476744 \n",
      "[19] {car=NO}                                => {pep=YES} 0.222   0.4475806 \n",
      "[20] {sex=FEMALE}                            => {pep=YES} 0.222   0.4475806 \n",
      "[21] {income=[ 6294,34712),current_act=YES}  => {pep=YES} 0.224   0.4258555 \n",
      "[22] {income=[ 6294,34712)}                  => {pep=YES} 0.306   0.4238227 \n",
      "     lift     \n",
      "[1]  1.4211409\n",
      "[2]  1.2951723\n",
      "[3]  1.2355313\n",
      "[4]  1.2063566\n",
      "[5]  1.1594085\n",
      "[6]  1.1367017\n",
      "[7]  1.1347145\n",
      "[8]  1.1213656\n",
      "[9]  1.0939998\n",
      "[10] 1.0681927\n",
      "[11] 1.0388991\n",
      "[12] 1.0388991\n",
      "[13] 1.0386266\n",
      "[14] 1.0133524\n",
      "[15] 1.0101817\n",
      "[16] 1.0001359\n",
      "[17] 0.9754194\n",
      "[18] 0.9606747\n",
      "[19] 0.9604735\n",
      "[20] 0.9604735\n",
      "[21] 0.9138530\n",
      "[22] 0.9094908\n"
     ]
    }
   ],
   "source": [
    "rules = apriori(bk_tran, parameter = list(support = 0.2, confidence = 0.4,minlen = 2))\n",
    "pep_rules = subset(rules,rhs %in% \"pep=YES\")\n",
    "#summary(pep_rules)\n",
    "inspect(sort(pep_rules, by = \"lift\"))"
   ]
  },
  {
   "cell_type": "markdown",
   "metadata": {},
   "source": [
    "## Experiment 1\n",
    "#### min_suport = 0.2, confidence = 0.4, minlen = 2, sex=MALE & married=NO & pep=TRUE as RHS"
   ]
  },
  {
   "cell_type": "code",
   "execution_count": 18,
   "metadata": {
    "collapsed": false
   },
   "outputs": [
    {
     "name": "stdout",
     "output_type": "stream",
     "text": [
      "Apriori\n",
      "\n",
      "Parameter specification:\n",
      " confidence minval smax arem  aval originalSupport maxtime support minlen\n",
      "        0.4    0.1    1 none FALSE            TRUE       5     0.1      2\n",
      " maxlen target   ext\n",
      "     10  rules FALSE\n",
      "\n",
      "Algorithmic control:\n",
      " filter tree heap memopt load sort verbose\n",
      "    0.1 TRUE TRUE  FALSE TRUE    2    TRUE\n",
      "\n",
      "Absolute minimum support count: 50 \n",
      "\n",
      "set item appearances ...[0 item(s)] done [0.00s].\n",
      "set transactions ...[24 item(s), 500 transaction(s)] done [0.00s].\n",
      "sorting and recoding items ... [24 item(s)] done [0.00s].\n",
      "creating transaction tree ... done [0.00s].\n",
      "checking subsets of size 1 2 3 4 5 6 done [0.02s].\n",
      "writing ... [5667 rule(s)] done [0.36s].\n",
      "creating S4 object  ... done [0.00s].\n"
     ]
    },
    {
     "data": {
      "text/plain": [
       "set of 1 rules\n",
       "\n",
       "rule length distribution (lhs + rhs):sizes\n",
       "3 \n",
       "1 \n",
       "\n",
       "   Min. 1st Qu.  Median    Mean 3rd Qu.    Max. \n",
       "      3       3       3       3       3       3 \n",
       "\n",
       "summary of quality measures:\n",
       "    support      confidence          lift      \n",
       " Min.   :0.1   Min.   :0.5952   Min.   :1.277  \n",
       " 1st Qu.:0.1   1st Qu.:0.5952   1st Qu.:1.277  \n",
       " Median :0.1   Median :0.5952   Median :1.277  \n",
       " Mean   :0.1   Mean   :0.5952   Mean   :1.277  \n",
       " 3rd Qu.:0.1   3rd Qu.:0.5952   3rd Qu.:1.277  \n",
       " Max.   :0.1   Max.   :0.5952   Max.   :1.277  \n",
       "\n",
       "mining info:\n",
       "    data ntransactions support confidence\n",
       " bk_tran           500     0.1        0.4"
      ]
     },
     "metadata": {},
     "output_type": "display_data"
    },
    {
     "name": "stdout",
     "output_type": "stream",
     "text": [
      "    lhs                      rhs       support confidence lift    \n",
      "[1] {sex=MALE,married=NO} => {pep=YES} 0.1     0.5952381  1.277335\n"
     ]
    }
   ],
   "source": [
    "rules = apriori(bk_tran, parameter = list(support = 0.1, confidence = 0.4,minlen = 2))\n",
    "pep_rules = subset(rules,lhs %ain% c(\"sex=MALE\",\"married=NO\")& rhs %in% \"pep=YES\")\n",
    "#summary(pep_rules)\n",
    "inspect(sort(pep_rules, by = \"lift\"))"
   ]
  },
  {
   "cell_type": "markdown",
   "metadata": {},
   "source": [
    "## Experiment 2\n",
    "#### min_suport = 0.3, confidence = 0.4, minlen = 2, pep=TRUE as RHS\n",
    "#### 6 rules were generated"
   ]
  },
  {
   "cell_type": "code",
   "execution_count": 19,
   "metadata": {
    "collapsed": false
   },
   "outputs": [
    {
     "name": "stdout",
     "output_type": "stream",
     "text": [
      "Apriori\n",
      "\n",
      "Parameter specification:\n",
      " confidence minval smax arem  aval originalSupport maxtime support minlen\n",
      "       0.04    0.1    1 none FALSE            TRUE       5     0.1      2\n",
      " maxlen target   ext\n",
      "     10  rules FALSE\n",
      "\n",
      "Algorithmic control:\n",
      " filter tree heap memopt load sort verbose\n",
      "    0.1 TRUE TRUE  FALSE TRUE    2    TRUE\n",
      "\n",
      "Absolute minimum support count: 50 \n",
      "\n",
      "set item appearances ...[0 item(s)] done [0.00s].\n",
      "set transactions ...[24 item(s), 500 transaction(s)] done [0.00s].\n",
      "sorting and recoding items ... [24 item(s)] done [0.00s].\n",
      "creating transaction tree ... done [0.00s].\n",
      "checking subsets of size 1 2 3 4 5 6 done [0.00s].\n",
      "writing ... [6092 rule(s)] done [0.04s].\n",
      "creating S4 object  ... done [0.00s].\n"
     ]
    },
    {
     "data": {
      "text/plain": [
       "set of 10 rules\n",
       "\n",
       "rule length distribution (lhs + rhs):sizes\n",
       "2 3 4 \n",
       "1 6 3 \n",
       "\n",
       "   Min. 1st Qu.  Median    Mean 3rd Qu.    Max. \n",
       "   2.00    3.00    3.00    3.20    3.75    4.00 \n",
       "\n",
       "summary of quality measures:\n",
       "    support         confidence          lift       \n",
       " Min.   :0.1000   Min.   :0.3571   Min.   :0.7664  \n",
       " 1st Qu.:0.1020   1st Qu.:0.3862   1st Qu.:0.8287  \n",
       " Median :0.1120   Median :0.3956   Median :0.8488  \n",
       " Mean   :0.1266   Mean   :0.3964   Mean   :0.8507  \n",
       " 3rd Qu.:0.1375   3rd Qu.:0.4022   3rd Qu.:0.8630  \n",
       " Max.   :0.1880   Max.   :0.4365   Max.   :0.9367  \n",
       "\n",
       "mining info:\n",
       "    data ntransactions support confidence\n",
       " bk_tran           500     0.1       0.04"
      ]
     },
     "metadata": {},
     "output_type": "display_data"
    },
    {
     "name": "stdout",
     "output_type": "stream",
     "text": [
      "     lhs                       rhs       support confidence      lift\n",
      "[1]  {age=Young}            => {pep=YES}   0.188  0.4017094 0.8620373\n",
      "[2]  {age=Young,                                                     \n",
      "      income=[ 6294,34712)} => {pep=YES}   0.176  0.3911111 0.8392942\n",
      "[3]  {age=Young,                                                     \n",
      "      current_act=YES}      => {pep=YES}   0.140  0.4022989 0.8633023\n",
      "[4]  {age=Young,                                                     \n",
      "      income=[ 6294,34712),                                          \n",
      "      current_act=YES}      => {pep=YES}   0.130  0.3892216 0.8352394\n",
      "[5]  {age=Young,                                                     \n",
      "      mortgage=NO}          => {pep=YES}   0.114  0.3851351 0.8264702\n",
      "[6]  {age=Young,                                                     \n",
      "      sex=MALE}             => {pep=YES}   0.110  0.4365079 0.9367123\n",
      "[7]  {age=Young,                                                     \n",
      "      income=[ 6294,34712),                                          \n",
      "      mortgage=NO}          => {pep=YES}   0.108  0.3776224 0.8103484\n",
      "[8]  {age=Young,                                                     \n",
      "      car=NO}               => {pep=YES}   0.100  0.4000000 0.8583691\n",
      "[9]  {age=Young,                                                     \n",
      "      save_act=YES}         => {pep=YES}   0.100  0.3571429 0.7664010\n",
      "[10] {age=Young,                                                     \n",
      "      sex=MALE,                                                      \n",
      "      income=[ 6294,34712)} => {pep=YES}   0.100  0.4237288 0.9092893\n"
     ]
    }
   ],
   "source": [
    "rules = apriori(bk_tran, parameter = list(support = 0.1, confidence = 0.04,minlen = 2))\n",
    "pep_rules = subset(rules, lhs %in% \"age=Young\" & rhs %in% \"pep=YES\")\n",
    "#summary(pep_rules)\n",
    "inspect(sort(pep_rules, by = \"support\"))"
   ]
  },
  {
   "cell_type": "markdown",
   "metadata": {},
   "source": [
    "# Experiment 3\n",
    "#### min_suport = 0.1, confidence = 0.8, minlen = 2, income=[34712,63130] & pep=TRUE as RHS & lift > 1.0\n",
    "#### 10 rules were generated"
   ]
  },
  {
   "cell_type": "code",
   "execution_count": 20,
   "metadata": {
    "collapsed": false
   },
   "outputs": [
    {
     "name": "stdout",
     "output_type": "stream",
     "text": [
      "Apriori\n",
      "\n",
      "Parameter specification:\n",
      " confidence minval smax arem  aval originalSupport maxtime support minlen\n",
      "        0.8    0.1    1 none FALSE            TRUE       5     0.1      3\n",
      " maxlen target   ext\n",
      "     10  rules FALSE\n",
      "\n",
      "Algorithmic control:\n",
      " filter tree heap memopt load sort verbose\n",
      "    0.1 TRUE TRUE  FALSE TRUE    2    TRUE\n",
      "\n",
      "Absolute minimum support count: 50 \n",
      "\n",
      "set item appearances ...[0 item(s)] done [0.00s].\n",
      "set transactions ...[24 item(s), 500 transaction(s)] done [0.00s].\n",
      "sorting and recoding items ... [24 item(s)] done [0.00s].\n",
      "creating transaction tree ... done [0.00s].\n",
      "checking subsets of size 1 2 3 4 5 6 done [0.00s].\n",
      "writing ... [503 rule(s)] done [0.00s].\n",
      "creating S4 object  ... done [0.00s].\n"
     ]
    },
    {
     "data": {
      "text/plain": [
       "set of 8 rules\n",
       "\n",
       "rule length distribution (lhs + rhs):sizes\n",
       "3 4 5 \n",
       "1 4 3 \n",
       "\n",
       "   Min. 1st Qu.  Median    Mean 3rd Qu.    Max. \n",
       "   3.00    4.00    4.00    4.25    5.00    5.00 \n",
       "\n",
       "summary of quality measures:\n",
       "    support         confidence          lift      \n",
       " Min.   :0.1020   Min.   :0.8158   Min.   :1.751  \n",
       " 1st Qu.:0.1035   1st Qu.:0.8170   1st Qu.:1.753  \n",
       " Median :0.1140   Median :0.8245   Median :1.769  \n",
       " Mean   :0.1148   Mean   :0.8282   Mean   :1.777  \n",
       " 3rd Qu.:0.1240   3rd Qu.:0.8290   3rd Qu.:1.779  \n",
       " Max.   :0.1340   Max.   :0.8644   Max.   :1.855  \n",
       "\n",
       "mining info:\n",
       "    data ntransactions support confidence\n",
       " bk_tran           500     0.1        0.8"
      ]
     },
     "metadata": {},
     "output_type": "display_data"
    },
    {
     "name": "stdout",
     "output_type": "stream",
     "text": [
      "    lhs                        rhs       support confidence     lift\n",
      "[1] {income=[34712,63130],                                          \n",
      "     children=HaveChildren,                                         \n",
      "     mortgage=NO}           => {pep=YES}   0.102  0.8644068 1.854950\n",
      "[2] {income=[34712,63130],                                          \n",
      "     children=HaveChildren,                                         \n",
      "     save_act=YES,                                                  \n",
      "     current_act=YES}       => {pep=YES}   0.102  0.8360656 1.794132\n",
      "[3] {income=[34712,63130],                                          \n",
      "     children=HaveChildren,                                         \n",
      "     save_act=YES}          => {pep=YES}   0.124  0.8266667 1.773963\n",
      "[4] {age=Senior,                                                    \n",
      "     income=[34712,63130],                                          \n",
      "     children=HaveChildren,                                         \n",
      "     current_act=YES}       => {pep=YES}   0.104  0.8253968 1.771238\n",
      "[5] {income=[34712,63130],                                          \n",
      "     children=HaveChildren,                                         \n",
      "     current_act=YES}       => {pep=YES}   0.112  0.8235294 1.767230\n",
      "[6] {income=[34712,63130],                                          \n",
      "     children=HaveChildren} => {pep=YES}   0.134  0.8170732 1.753376\n",
      "[7] {age=Senior,                                                    \n",
      "     income=[34712,63130],                                          \n",
      "     children=HaveChildren,                                         \n",
      "     save_act=YES}          => {pep=YES}   0.116  0.8169014 1.753007\n",
      "[8] {age=Senior,                                                    \n",
      "     income=[34712,63130],                                          \n",
      "     children=HaveChildren} => {pep=YES}   0.124  0.8157895 1.750621\n"
     ]
    }
   ],
   "source": [
    "rules = apriori(bk_tran, parameter = list(support = 0.1, confidence = 0.8,minlen = 3))\n",
    "pep_rules = subset(rules, lhs %in% \"income=[34712,63130]\" & rhs %in% \"pep=YES\" & lift > 1.0)\n",
    "#summary(pep_rules)\n",
    "inspect(sort(pep_rules, by = \"lift\"))"
   ]
  },
  {
   "cell_type": "markdown",
   "metadata": {},
   "source": [
    "## Three interesting rules "
   ]
  },
  {
   "cell_type": "raw",
   "metadata": {},
   "source": [
    "                lhs                        rhs       support    confidence    lift\n",
    "{sex=MALE,married=NO}                         => {pep=YES}    0.1      0.5952381    1.277335\n",
    "{age=Senior, children=HaveChildren,save_act=YES}       => {pep=YES}    0.212     0.6235294    1.3380459\n",
    "{income=[34712,63130],children=HaveChildren,mortgage=NO}  => {pep=YES}    0.102     0.8644068    1.854950"
   ]
  },
  {
   "cell_type": "markdown",
   "metadata": {},
   "source": [
    "## Observations"
   ]
  },
  {
   "cell_type": "markdown",
   "metadata": {},
   "source": [
    "1. From __experiment 0__, we can see that compares with female, male has more interest in the PEP product, also, senior people have higher change to buy PEP.\n",
    "2. From __expriment 1__, we can see a sinlge male has significant relationship with the PEP purchase behavior.\n",
    "3. From __expriment 2__ and __experiment 3__, we can see that the younger people(age < 35) doesn't have much interest buying our product.\n",
    "4. __Experiment 4__ investigated the customers who have a higher income, since those people have much interest in purchasing the PEP product."
   ]
  },
  {
   "cell_type": "markdown",
   "metadata": {},
   "source": [
    "## Recommendations"
   ]
  },
  {
   "cell_type": "markdown",
   "metadata": {},
   "source": [
    "The target customer should have the following feathers: \n",
    "__\n",
    "1.single male; \n",
    "2.having no mortgage; \n",
    "3.having a saving account; \n",
    "4.senior people who has children; \n",
    "5.having higher income(income > 34712$)__."
   ]
  },
  {
   "cell_type": "markdown",
   "metadata": {},
   "source": [
    "### Calculate support, confidence and lift"
   ]
  },
  {
   "cell_type": "code",
   "execution_count": 52,
   "metadata": {
    "collapsed": true
   },
   "outputs": [],
   "source": [
    "bk2<-as.data.frame(bk)"
   ]
  },
  {
   "cell_type": "code",
   "execution_count": 53,
   "metadata": {
    "collapsed": false
   },
   "outputs": [
    {
     "data": {
      "text/plain": [
       "     age          sex             region              income   \n",
       " Young :234   FEMALE:248   INNER_CITY:221   [ 6294,34712):361  \n",
       " Senior:266   MALE  :252   RURAL     : 83   [34712,63130]:139  \n",
       "                           SUBURBAN  : 55                      \n",
       "                           TOWN      :141                      \n",
       "   married                  children    car      save_act  current_act\n",
       " Length:500         NoChildren  :222   NO :248   NO :156   NO :124    \n",
       " Class :character   HaveChildren:278   YES:252   YES:344   YES:376    \n",
       " Mode  :character                                                     \n",
       "                                                                      \n",
       " mortgage   pep     \n",
       " NO :324   NO :267  \n",
       " YES:176   YES:233  \n",
       "                    \n",
       "                    "
      ]
     },
     "metadata": {},
     "output_type": "display_data"
    }
   ],
   "source": [
    "summary(bk2)"
   ]
  },
  {
   "cell_type": "code",
   "execution_count": 58,
   "metadata": {
    "collapsed": true
   },
   "outputs": [],
   "source": [
    "## this doesnot work in jupyter notebook, but works in RStudio!\n",
    "sigma_male_marryNo <- nrow(bk2[ bk2$sex==\"MALE\" & bk2$married == \"NO\",]) # = 83\n",
    "sigma_male_marryNo_pepYes <-nrow (bk[( bk$sex==\"MALE\" & bk$married == \"NO\" & bk$pep==\"YES\"),]) # = 50"
   ]
  },
  {
   "cell_type": "markdown",
   "metadata": {},
   "source": [
    "now caculate the support, confidence and lift for the following rule;\n",
    "\n",
    "__{sex=MALE,married=NO} => {pep=YES}__\n",
    "\n",
    "support = 50/500 = 0.1\n",
    "\n",
    "confidence = 50/84 = 0.5952381\n",
    "\n",
    "lift = (50x500)/(233x84) = 1.277335\n"
   ]
  },
  {
   "cell_type": "code",
   "execution_count": null,
   "metadata": {
    "collapsed": true
   },
   "outputs": [],
   "source": []
  }
 ],
 "metadata": {
  "anaconda-cloud": {},
  "kernelspec": {
   "display_name": "R",
   "language": "R",
   "name": "ir"
  },
  "language_info": {
   "codemirror_mode": "r",
   "file_extension": ".r",
   "mimetype": "text/x-r-source",
   "name": "R",
   "pygments_lexer": "r",
   "version": "3.3.2"
  }
 },
 "nbformat": 4,
 "nbformat_minor": 1
}
