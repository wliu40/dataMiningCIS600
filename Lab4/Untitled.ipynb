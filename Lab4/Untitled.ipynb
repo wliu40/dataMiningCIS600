{
 "cells": [
  {
   "cell_type": "markdown",
   "metadata": {},
   "source": [
    "## Lab 4"
   ]
  },
  {
   "cell_type": "markdown",
   "metadata": {},
   "source": [
    "To implement Naive Bayes classifier on text data, the necessary packages\n",
    "are __tm__ for text mining and __e1071__ for Naive Bayes classifier. "
   ]
  },
  {
   "cell_type": "code",
   "execution_count": 58,
   "metadata": {
    "collapsed": false
   },
   "outputs": [],
   "source": [
    "library(tm)\n",
    "library(e1071)"
   ]
  },
  {
   "cell_type": "markdown",
   "metadata": {},
   "source": [
    "The dataset provided along with the exercise is SMS SPAM dataset\n",
    "(sms spam.csv). It is textual data which has unprocessed text that is\n",
    "user written. Dataset contains two columns viz. type and text. Attribute\n",
    "”type” indicates type of message i.e. if the message is SPAM\n",
    "or HAM. Attribute ”text” is user composed text message. It is the\n",
    "task of student to train Naive Bayes classifier on this text data and\n",
    "classify the same."
   ]
  },
  {
   "cell_type": "code",
   "execution_count": 59,
   "metadata": {
    "collapsed": false
   },
   "outputs": [
    {
     "name": "stdout",
     "output_type": "stream",
     "text": [
      "[1] \"ham\"\n"
     ]
    },
    {
     "data": {
      "text/html": [
       "<table>\n",
       "<thead><tr><th scope=col>type</th><th scope=col>text</th></tr></thead>\n",
       "<tbody>\n",
       "\t<tr><td>ham                                                                                                                                                              </td><td>Hope you are having a good week. Just checking in                                                                                                                </td></tr>\n",
       "\t<tr><td>ham                                                                                                                                                              </td><td>K..give back my thanks.                                                                                                                                          </td></tr>\n",
       "\t<tr><td>ham                                                                                                                                                              </td><td>Am also doing in cbe only. But have to pay.                                                                                                                      </td></tr>\n",
       "\t<tr><td>spam                                                                                                                                                             </td><td>complimentary 4 STAR Ibiza Holiday or ￡10,000 cash needs your URGENT collection. 09066364349 NOW from Landline not to lose out! Box434SK38WP150PPM18+           </td></tr>\n",
       "\t<tr><td>spam                                                                                                                                                             </td><td>okmail: Dear Dave this is your final notice to collect your 4* Tenerife Holiday or #5000 CASH award! Call 09061743806 from landline. TCs SAE Box326 CW25WX 150ppm</td></tr>\n",
       "\t<tr><td>ham                                                                                                                                                              </td><td>Aiya we discuss later lar... Pick u up at 4 is it?                                                                                                               </td></tr>\n",
       "</tbody>\n",
       "</table>\n"
      ],
      "text/latex": [
       "\\begin{tabular}{r|ll}\n",
       " type & text\\\\\n",
       "\\hline\n",
       "\t ham                                                                                                                                                               & Hope you are having a good week. Just checking in                                                                                                                \\\\\n",
       "\t ham                                                                                                                                                               & K..give back my thanks.                                                                                                                                          \\\\\n",
       "\t ham                                                                                                                                                               & Am also doing in cbe only. But have to pay.                                                                                                                      \\\\\n",
       "\t spam                                                                                                                                                              & complimentary 4 STAR Ibiza Holiday or ￡10,000 cash needs your URGENT collection. 09066364349 NOW from Landline not to lose out! Box434SK38WP150PPM18+           \\\\\n",
       "\t spam                                                                                                                                                                & okmail: Dear Dave this is your final notice to collect your 4* Tenerife Holiday or \\#5000 CASH award! Call 09061743806 from landline. TCs SAE Box326 CW25WX 150ppm\\\\\n",
       "\t ham                                                                                                                                                               & Aiya we discuss later lar... Pick u up at 4 is it?                                                                                                               \\\\\n",
       "\\end{tabular}\n"
      ],
      "text/markdown": [
       "\n",
       "type | text | \n",
       "|---|---|---|---|---|---|\n",
       "| ham                                                                                                                                                               | Hope you are having a good week. Just checking in                                                                                                                 | \n",
       "| ham                                                                                                                                                               | K..give back my thanks.                                                                                                                                           | \n",
       "| ham                                                                                                                                                               | Am also doing in cbe only. But have to pay.                                                                                                                       | \n",
       "| spam                                                                                                                                                              | complimentary 4 STAR Ibiza Holiday or ￡10,000 cash needs your URGENT collection. 09066364349 NOW from Landline not to lose out! Box434SK38WP150PPM18+            | \n",
       "| spam                                                                                                                                                              | okmail: Dear Dave this is your final notice to collect your 4* Tenerife Holiday or #5000 CASH award! Call 09061743806 from landline. TCs SAE Box326 CW25WX 150ppm | \n",
       "| ham                                                                                                                                                               | Aiya we discuss later lar... Pick u up at 4 is it?                                                                                                                | \n",
       "\n",
       "\n"
      ],
      "text/plain": [
       "  type\n",
       "1 ham \n",
       "2 ham \n",
       "3 ham \n",
       "4 spam\n",
       "5 spam\n",
       "6 ham \n",
       "  text                                                                                                                                                             \n",
       "1 Hope you are having a good week. Just checking in                                                                                                                \n",
       "2 K..give back my thanks.                                                                                                                                          \n",
       "3 Am also doing in cbe only. But have to pay.                                                                                                                      \n",
       "4 complimentary 4 STAR Ibiza Holiday or ￡10,000 cash needs your URGENT collection. 09066364349 NOW from Landline not to lose out! Box434SK38WP150PPM18+           \n",
       "5 okmail: Dear Dave this is your final notice to collect your 4* Tenerife Holiday or #5000 CASH award! Call 09061743806 from landline. TCs SAE Box326 CW25WX 150ppm\n",
       "6 Aiya we discuss later lar... Pick u up at 4 is it?                                                                                                               "
      ]
     },
     "metadata": {},
     "output_type": "display_data"
    },
    {
     "name": "stdout",
     "output_type": "stream",
     "text": [
      "[1] 5559    2\n"
     ]
    },
    {
     "data": {
      "text/html": [
       "'ham'"
      ],
      "text/latex": [
       "'ham'"
      ],
      "text/markdown": [
       "'ham'"
      ],
      "text/plain": [
       "[1] \"ham\""
      ]
     },
     "metadata": {},
     "output_type": "display_data"
    }
   ],
   "source": [
    "sms_raw <-read.csv(\"F:/dataMining600/Lab4/sms_spam.csv\",stringsAsFactors = FALSE)\n",
    "print(sms_raw$type[239])\n",
    "### this is important to the \" duplicated row.names\" error\n",
    "#colnames(sms_raw) <- c(colnames(sms_raw)[-1],\"x\")\n",
    "#sms_raw$x <- NULL\n",
    "### \n",
    "head(sms_raw)\n",
    "print(dim(sms_raw))\n",
    "sms_raw$type[239]"
   ]
  },
  {
   "cell_type": "markdown",
   "metadata": {},
   "source": [
    "In text mining, CORPUS refers to collection of documents. To process\n",
    "text, every individual document (here, message is a document) has to\n",
    "1\n",
    "be put into corpus. Bundle of documents constitute CORPUS. sms raw\n",
    "is a dataframe that has two attributes viz. ”type” and ”text”. Attribute\n",
    "”text” indicates documents. These documents are to be converted\n",
    "to CORPUS"
   ]
  },
  {
   "cell_type": "code",
   "execution_count": 60,
   "metadata": {
    "collapsed": false
   },
   "outputs": [
    {
     "data": {
      "text/plain": [
       "<<VCorpus>>\n",
       "Metadata:  corpus specific: 0, document level (indexed): 0\n",
       "Content:  documents: 5559"
      ]
     },
     "metadata": {},
     "output_type": "display_data"
    }
   ],
   "source": [
    "sms_corpus <- VCorpus(VectorSource(sms_raw$text))\n",
    "sms_corpus"
   ]
  },
  {
   "cell_type": "markdown",
   "metadata": {},
   "source": [
    "Data cleaning is a priority if user intends to extract meaningful information.\n",
    "Text processing involves:\n",
    "#### (a) Removing Numbers form text\n",
    "#### (b) Removing punctuation\n",
    "#### (c) converting to lower case\n",
    "#### (d) Removing stopwords\n",
    "#### (e) Removing extra white-spaces\n",
    "For the above CORPUS sms corpus, text processing involves above\n",
    "mentioned steps. R commands for the same are as follows:\n"
   ]
  },
  {
   "cell_type": "code",
   "execution_count": 61,
   "metadata": {
    "collapsed": false
   },
   "outputs": [],
   "source": [
    "## the following code is to clean the text by delete all the non-ascii characters\n",
    "for(i in 1:length(sms_raw$text)){\n",
    "     sms_raw$text[i] = iconv(sms_raw$text[i], \"latin1\", \"ASCII\", sub=\"\")\n",
    "}\n",
    "\n",
    "## have to remvoe all the non-ascii chars before excuting the following:\n",
    "sms_corpus_clean <- tm_map(sms_corpus, removeNumbers)\n",
    "sms_corpus_clean <- tm_map(sms_corpus_clean,removePunctuation)\n",
    "sms_corpus_clean <- tm_map(sms_corpus_clean,content_transformer(tolower))"
   ]
  },
  {
   "cell_type": "code",
   "execution_count": 62,
   "metadata": {
    "collapsed": false
   },
   "outputs": [
    {
     "data": {
      "text/html": [
       "<dl>\n",
       "\t<dt>$`1`</dt>\n",
       "\t\t<dd>'Hope you are having a good week. Just checking in'</dd>\n",
       "\t<dt>$`2`</dt>\n",
       "\t\t<dd>'K..give back my thanks.'</dd>\n",
       "\t<dt>$`3`</dt>\n",
       "\t\t<dd>'Am also doing in cbe only. But have to pay.'</dd>\n",
       "\t<dt>$`4`</dt>\n",
       "\t\t<dd>'complimentary 4 STAR Ibiza Holiday or ￡10,000 cash needs your URGENT collection. 09066364349 NOW from Landline not to lose out! Box434SK38WP150PPM18+'</dd>\n",
       "</dl>\n"
      ],
      "text/latex": [
       "\\begin{description}\n",
       "\\item[\\$`1`] 'Hope you are having a good week. Just checking in'\n",
       "\\item[\\$`2`] 'K..give back my thanks.'\n",
       "\\item[\\$`3`] 'Am also doing in cbe only. But have to pay.'\n",
       "\\item[\\$`4`] 'complimentary 4 STAR Ibiza Holiday or ￡10,000 cash needs your URGENT collection. 09066364349 NOW from Landline not to lose out! Box434SK38WP150PPM18+'\n",
       "\\end{description}\n"
      ],
      "text/markdown": [
       "$`1`\n",
       ":   'Hope you are having a good week. Just checking in'\n",
       "$`2`\n",
       ":   'K..give back my thanks.'\n",
       "$`3`\n",
       ":   'Am also doing in cbe only. But have to pay.'\n",
       "$`4`\n",
       ":   'complimentary 4 STAR Ibiza Holiday or ￡10,000 cash needs your URGENT collection. 09066364349 NOW from Landline not to lose out! Box434SK38WP150PPM18+'\n",
       "\n",
       "\n"
      ],
      "text/plain": [
       "$`1`\n",
       "[1] \"Hope you are having a good week. Just checking in\"\n",
       "\n",
       "$`2`\n",
       "[1] \"K..give back my thanks.\"\n",
       "\n",
       "$`3`\n",
       "[1] \"Am also doing in cbe only. But have to pay.\"\n",
       "\n",
       "$`4`\n",
       "[1] \"complimentary 4 STAR Ibiza Holiday or ￡10,000 cash needs your URGENT collection. 09066364349 NOW from Landline not to lose out! Box434SK38WP150PPM18+\"\n"
      ]
     },
     "metadata": {},
     "output_type": "display_data"
    },
    {
     "data": {
      "text/html": [
       "<dl>\n",
       "\t<dt>$`1`</dt>\n",
       "\t\t<dd>'hope you are having a good week just checking in'</dd>\n",
       "\t<dt>$`2`</dt>\n",
       "\t\t<dd>'kgive back my thanks'</dd>\n",
       "\t<dt>$`3`</dt>\n",
       "\t\t<dd>'am also doing in cbe only but have to pay'</dd>\n",
       "\t<dt>$`4`</dt>\n",
       "\t\t<dd><span style=white-space:pre-wrap>'complimentary  star ibiza holiday or ￡ cash needs your urgent collection  now from landline not to lose out boxskwpppm'</span></dd>\n",
       "</dl>\n"
      ],
      "text/latex": [
       "\\begin{description}\n",
       "\\item[\\$`1`] 'hope you are having a good week just checking in'\n",
       "\\item[\\$`2`] 'kgive back my thanks'\n",
       "\\item[\\$`3`] 'am also doing in cbe only but have to pay'\n",
       "\\item[\\$`4`] 'complimentary  star ibiza holiday or ￡ cash needs your urgent collection  now from landline not to lose out boxskwpppm'\n",
       "\\end{description}\n"
      ],
      "text/markdown": [
       "$`1`\n",
       ":   'hope you are having a good week just checking in'\n",
       "$`2`\n",
       ":   'kgive back my thanks'\n",
       "$`3`\n",
       ":   'am also doing in cbe only but have to pay'\n",
       "$`4`\n",
       ":   <span style=white-space:pre-wrap>'complimentary  star ibiza holiday or ￡ cash needs your urgent collection  now from landline not to lose out boxskwpppm'</span>\n",
       "\n",
       "\n"
      ],
      "text/plain": [
       "$`1`\n",
       "[1] \"hope you are having a good week just checking in\"\n",
       "\n",
       "$`2`\n",
       "[1] \"kgive back my thanks\"\n",
       "\n",
       "$`3`\n",
       "[1] \"am also doing in cbe only but have to pay\"\n",
       "\n",
       "$`4`\n",
       "[1] \"complimentary  star ibiza holiday or ￡ cash needs your urgent collection  now from landline not to lose out boxskwpppm\"\n"
      ]
     },
     "metadata": {},
     "output_type": "display_data"
    }
   ],
   "source": [
    "lapply(sms_corpus[1:4], as.character)\n",
    "lapply(sms_corpus_clean[1:4], as.character)"
   ]
  },
  {
   "cell_type": "markdown",
   "metadata": {},
   "source": [
    "For a classifier to be implemented, it is necessary that the data be placed under necessary attributes. Text data can be converted into\n",
    "similar representation using __Document Term Matrix__ or __Term Document Matrix__. In Document Term Matrix, documents are represented\n",
    "along rows and terms (words) extracted from these documents 2 are placed along columns (vice-versa in Term-Document matrix).\n",
    "Document-Term matrix in R using the above generated CORPUS is obtained by R command"
   ]
  },
  {
   "cell_type": "code",
   "execution_count": 63,
   "metadata": {
    "collapsed": false
   },
   "outputs": [
    {
     "name": "stdout",
     "output_type": "stream",
     "text": [
      "<<DocumentTermMatrix (documents: 5559, terms: 8390)>>\n",
      "Non-/sparse entries: 57560/46582450\n",
      "Sparsity           : 100%\n",
      "Maximal term length: 40\n",
      "Weighting          : term frequency (tf)\n",
      "Sample             :\n",
      "      Terms\n",
      "Docs   and are call for have now that the you your\n",
      "  1628   4   3    0   1    0   0    1   2   5    0\n",
      "  2046   4   0    0   0    4   0    2  10  13    0\n",
      "  2993   3   1    0   2    2   0    1   2   4    1\n",
      "  313    4   0    0   6    1   0    2   8   0    0\n",
      "  3522   1   0    0   1    0   0    0   2   0    0\n",
      "  399    1   0    0   1    0   0    0   2   0    0\n",
      "  4493   1   0    0   2    0   0    2   2   5    0\n",
      "  5279   0   0    0   3    1   0    1   1   0    0\n",
      "  64     1   0    0   0    0   0    1   3   4    0\n",
      "  808    1   0    0   1    3   0    1   2   3    0\n",
      "<<VCorpus>>\n",
      "Metadata:  corpus specific: 0, document level (indexed): 0\n",
      "Content:  documents: 4\n"
     ]
    }
   ],
   "source": [
    "sms_dtm <- DocumentTermMatrix(sms_corpus_clean)\n",
    "inspect(sms_dtm)\n",
    "print (sms_corpus_clean[1:4])"
   ]
  },
  {
   "cell_type": "markdown",
   "metadata": {},
   "source": [
    "For the purpose of classification, data is split to training and test sets.For simplicity 75% data is chosen for training and rest is made into test set. R command for test-train split is following:"
   ]
  },
  {
   "cell_type": "code",
   "execution_count": 64,
   "metadata": {
    "collapsed": false
   },
   "outputs": [
    {
     "name": "stdout",
     "output_type": "stream",
     "text": [
      "[1] 5559 8390\n"
     ]
    }
   ],
   "source": [
    "# creating training and test datasets\n",
    "## there are 1865 documents, 6901 terms\n",
    "print (dim(sms_dtm))"
   ]
  },
  {
   "cell_type": "code",
   "execution_count": 67,
   "metadata": {
    "collapsed": false
   },
   "outputs": [
    {
     "name": "stdout",
     "output_type": "stream",
     "text": [
      "<<DocumentTermMatrix (documents: 5559, terms: 8390)>>\n",
      "Non-/sparse entries: 57560/46582450\n",
      "Sparsity           : 100%\n",
      "Maximal term length: 40\n",
      "Weighting          : term frequency (tf)\n",
      "Sample             :\n",
      "      Terms\n",
      "Docs   and are call for have now that the you your\n",
      "  1628   4   3    0   1    0   0    1   2   5    0\n",
      "  2046   4   0    0   0    4   0    2  10  13    0\n",
      "  2993   3   1    0   2    2   0    1   2   4    1\n",
      "  313    4   0    0   6    1   0    2   8   0    0\n",
      "  3522   1   0    0   1    0   0    0   2   0    0\n",
      "  399    1   0    0   1    0   0    0   2   0    0\n",
      "  4493   1   0    0   2    0   0    2   2   5    0\n",
      "  5279   0   0    0   3    1   0    1   1   0    0\n",
      "  64     1   0    0   0    0   0    1   3   4    0\n",
      "  808    1   0    0   1    3   0    1   2   3    0\n"
     ]
    }
   ],
   "source": [
    "sms_dtm_train <- sms_dtm[1:4000, ]\n",
    "sms_dtm_test <- sms_dtm[4001:5559, ]\n",
    "inspect(sms_dtm)\n"
   ]
  },
  {
   "cell_type": "markdown",
   "metadata": {},
   "source": [
    "Document-Term matrix when visualized, it can be seen that the matrix\n",
    "is sparse that is there are almost all zeros in the entries with 1s present\n",
    "at very few locations. Hence, it is algorithmically advantageous to work\n",
    "with frequent words, viz. words appearing in most of the documents.\n",
    "To extract frequent terms, say for instance words that occur a minimum\n",
    "of 5 times, findFreqTerms function is used\n"
   ]
  },
  {
   "cell_type": "code",
   "execution_count": 68,
   "metadata": {
    "collapsed": true
   },
   "outputs": [],
   "source": [
    "freq_terms <- findFreqTerms(sms_dtm_train, 5)"
   ]
  },
  {
   "cell_type": "code",
   "execution_count": 69,
   "metadata": {
    "collapsed": false
   },
   "outputs": [],
   "source": [
    "# create DTMs with only the frequent terms\n",
    "sms_dtm_freq_train <- sms_dtm_train[ , freq_terms]\n",
    "sms_dtm_freq_test <- sms_dtm_test[ , freq_terms]\n"
   ]
  },
  {
   "cell_type": "code",
   "execution_count": 70,
   "metadata": {
    "collapsed": false
   },
   "outputs": [
    {
     "name": "stdout",
     "output_type": "stream",
     "text": [
      "<<DocumentTermMatrix (documents: 4000, terms: 1287)>>\n",
      "Non-/sparse entries: 33144/5114856\n",
      "Sparsity           : 99%\n",
      "Maximal term length: 19\n",
      "Weighting          : term frequency (tf)\n",
      "Sample             :\n",
      "      Terms\n",
      "Docs   and are call for have now that the you your\n",
      "  1613   3   0    0   0    0   0    3   3   8    0\n",
      "  1628   4   3    0   1    0   0    1   2   5    0\n",
      "  2046   4   0    0   0    4   0    2  10  13    0\n",
      "  2993   3   1    0   2    2   0    1   2   4    1\n",
      "  313    4   0    0   6    1   0    2   8   0    0\n",
      "  3522   1   0    0   1    0   0    0   2   0    0\n",
      "  3854   1   1    0   0    0   0    1   3   4    0\n",
      "  399    1   0    0   1    0   0    0   2   0    0\n",
      "  64     1   0    0   0    0   0    1   3   4    0\n",
      "  808    1   0    0   1    3   0    1   2   3    0\n"
     ]
    }
   ],
   "source": [
    "inspect(sms_dtm_freq_train)"
   ]
  },
  {
   "cell_type": "code",
   "execution_count": 71,
   "metadata": {
    "collapsed": false
   },
   "outputs": [
    {
     "data": {
      "text/html": [
       "'ham'"
      ],
      "text/latex": [
       "'ham'"
      ],
      "text/markdown": [
       "'ham'"
      ],
      "text/plain": [
       "[1] \"ham\""
      ]
     },
     "metadata": {},
     "output_type": "display_data"
    }
   ],
   "source": [
    "sms_raw$type[1600]"
   ]
  },
  {
   "cell_type": "code",
   "execution_count": 77,
   "metadata": {
    "collapsed": false
   },
   "outputs": [],
   "source": [
    "sms_train_labels = sms_raw$type[1:4000]\n",
    "sms_test_labels = sms_raw$type[4001:5559]"
   ]
  },
  {
   "cell_type": "code",
   "execution_count": 78,
   "metadata": {
    "collapsed": true
   },
   "outputs": [],
   "source": [
    "convert_counts <- function(x)\n",
    "{\n",
    "x <- ifelse(x > 0, \"Yes\", \"No\")\n",
    "}\n",
    "sms_train <- apply(sms_dtm_freq_train, MARGIN = 2,convert_counts)\n",
    "sms_test <- apply(sms_dtm_freq_test, MARGIN = 2,convert_counts)\n"
   ]
  },
  {
   "cell_type": "code",
   "execution_count": 79,
   "metadata": {
    "collapsed": false
   },
   "outputs": [],
   "source": [
    "sms_classifier <- naiveBayes(as.matrix(sms_train),as.factor(sms_train_labels))"
   ]
  },
  {
   "cell_type": "code",
   "execution_count": 80,
   "metadata": {
    "collapsed": true
   },
   "outputs": [],
   "source": [
    "sms_test_pred <- predict(sms_classifier,as.matrix(sms_test))"
   ]
  },
  {
   "cell_type": "code",
   "execution_count": 81,
   "metadata": {
    "collapsed": false
   },
   "outputs": [
    {
     "name": "stdout",
     "output_type": "stream",
     "text": [
      "[1] 2 2\n"
     ]
    }
   ],
   "source": [
    "tb <- table(\"Predicted\" = sms_test_pred, \"Actual\" = sms_test_labels)"
   ]
  },
  {
   "cell_type": "code",
   "execution_count": 83,
   "metadata": {
    "collapsed": false
   },
   "outputs": [
    {
     "data": {
      "text/plain": [
       "         Actual\n",
       "Predicted  ham spam\n",
       "     ham  1346   29\n",
       "     spam    6  178"
      ]
     },
     "metadata": {},
     "output_type": "display_data"
    }
   ],
   "source": [
    "tb"
   ]
  }
 ],
 "metadata": {
  "anaconda-cloud": {},
  "kernelspec": {
   "display_name": "R",
   "language": "R",
   "name": "ir"
  },
  "language_info": {
   "codemirror_mode": "r",
   "file_extension": ".r",
   "mimetype": "text/x-r-source",
   "name": "R",
   "pygments_lexer": "r",
   "version": "3.3.2"
  }
 },
 "nbformat": 4,
 "nbformat_minor": 1
}
