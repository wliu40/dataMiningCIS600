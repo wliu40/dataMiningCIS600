{
 "cells": [
  {
   "cell_type": "markdown",
   "metadata": {
    "collapsed": true
   },
   "source": [
    "# HW1 for Data Mining"
   ]
  },
  {
   "cell_type": "markdown",
   "metadata": {},
   "source": [
    "## Problem 1\n"
   ]
  },
  {
   "cell_type": "markdown",
   "metadata": {},
   "source": [
    "![img](docTermMatrix.png)"
   ]
  },
  {
   "cell_type": "markdown",
   "metadata": {},
   "source": [
    "In a doc-term matrix, as we can see an example, the M(i,j) represents the the term in jth column occurs in the ith doc. Since the zero entries means the term doesnot appear in a specific doc, and its importance is not comparable to its counter part. So, this is a typical asymmetric discrete feature. On the other hand, the way of making a doc-term matrix to be continuous is through so called tf-idf normalization. As the equation shown below:"
   ]
  },
  {
   "cell_type": "markdown",
   "metadata": {},
   "source": [
    "![img](tf-idf.png)"
   ]
  },
  {
   "cell_type": "markdown",
   "metadata": {},
   "source": [
    "However, tf-idf normalized features will keep asymmetric, since the whole term remains 0, if tf(i,k) is 0. So, the zero term remains meaningful."
   ]
  },
  {
   "cell_type": "markdown",
   "metadata": {},
   "source": [
    "## Problem 2"
   ]
  },
  {
   "cell_type": "markdown",
   "metadata": {},
   "source": [
    "### 1)"
   ]
  },
  {
   "cell_type": "markdown",
   "metadata": {},
   "source": [
    "Terms appear in every doc will get 0, since log(1) = 0. Terms appear in only one doc will get the max value, e.g., log(m). m is the size of the docs."
   ]
  },
  {
   "cell_type": "markdown",
   "metadata": {},
   "source": [
    "### 2)"
   ]
  },
  {
   "cell_type": "markdown",
   "metadata": {},
   "source": [
    "This transformation will cancel out the terms that occurs in every document, since those terms are not important. While the terms appear rarely have more importance."
   ]
  },
  {
   "cell_type": "markdown",
   "metadata": {},
   "source": [
    "## Problem 3"
   ]
  },
  {
   "cell_type": "code",
   "execution_count": 1,
   "metadata": {
    "collapsed": false
   },
   "outputs": [
    {
     "name": "stderr",
     "output_type": "stream",
     "text": [
      "Parsed with column specification:\n",
      "cols(\n",
      "  ID = col_integer(),\n",
      "  year = col_integer(),\n",
      "  mo = col_integer(),\n",
      "  month = col_character(),\n",
      "  quarter = col_character(),\n",
      "  st = col_character(),\n",
      "  state = col_character(),\n",
      "  country = col_character(),\n",
      "  product = col_character(),\n",
      "  category = col_character(),\n",
      "  unit_price = col_integer(),\n",
      "  unit = col_integer(),\n",
      "  amount = col_integer()\n",
      ")\n"
     ]
    }
   ],
   "source": [
    "library(readr)\n",
    "sales <- read_csv(\"sales.csv\")"
   ]
  },
  {
   "cell_type": "code",
   "execution_count": 89,
   "metadata": {
    "collapsed": false
   },
   "outputs": [
    {
     "data": {
      "text/html": [
       "<table>\n",
       "<thead><tr><th scope=col>ID</th><th scope=col>year</th><th scope=col>mo</th><th scope=col>month</th><th scope=col>quarter</th><th scope=col>st</th><th scope=col>state</th><th scope=col>country</th><th scope=col>product</th><th scope=col>category</th><th scope=col>unit_price</th><th scope=col>unit</th><th scope=col>amount</th></tr></thead>\n",
       "<tbody>\n",
       "\t<tr><td>1         </td><td>2013      </td><td> 7        </td><td>Jul       </td><td>Q3        </td><td>ON        </td><td>Ontario   </td><td>Canada    </td><td>Tablet    </td><td>Electronic</td><td> 500      </td><td>42        </td><td>21000     </td></tr>\n",
       "\t<tr><td>2         </td><td>2013      </td><td> 6        </td><td>Jun       </td><td>Q2        </td><td>WA        </td><td>Washington</td><td>USA       </td><td>Chair     </td><td>Furniture </td><td> 120      </td><td>12        </td><td> 1440     </td></tr>\n",
       "\t<tr><td>3         </td><td>2013      </td><td> 4        </td><td>Apr       </td><td>Q2        </td><td>NY        </td><td>New York  </td><td>USA       </td><td>Mattress  </td><td>Furniture </td><td> 800      </td><td>41        </td><td>32800     </td></tr>\n",
       "\t<tr><td>4         </td><td>2013      </td><td> 7        </td><td>Jul       </td><td>Q3        </td><td>WA        </td><td>Washington</td><td>USA       </td><td>Laptop    </td><td>Electronic</td><td>1000      </td><td>27        </td><td>27000     </td></tr>\n",
       "\t<tr><td>5         </td><td>2013      </td><td> 8        </td><td>Aug       </td><td>Q3        </td><td>QU        </td><td>Quebec    </td><td>Canada    </td><td>Chair     </td><td>Furniture </td><td> 120      </td><td>23        </td><td> 2760     </td></tr>\n",
       "\t<tr><td>6         </td><td>2013      </td><td>10        </td><td>Oct       </td><td>Q4        </td><td>NY        </td><td>New York  </td><td>USA       </td><td>Printer   </td><td>Electronic</td><td> 200      </td><td>28        </td><td> 5600     </td></tr>\n",
       "</tbody>\n",
       "</table>\n"
      ],
      "text/latex": [
       "\\begin{tabular}{r|lllllllllllll}\n",
       " ID & year & mo & month & quarter & st & state & country & product & category & unit\\_price & unit & amount\\\\\n",
       "\\hline\n",
       "\t 1          & 2013       &  7         & Jul        & Q3         & ON         & Ontario    & Canada     & Tablet     & Electronic &  500       & 42         & 21000     \\\\\n",
       "\t 2          & 2013       &  6         & Jun        & Q2         & WA         & Washington & USA        & Chair      & Furniture  &  120       & 12         &  1440     \\\\\n",
       "\t 3          & 2013       &  4         & Apr        & Q2         & NY         & New York   & USA        & Mattress   & Furniture  &  800       & 41         & 32800     \\\\\n",
       "\t 4          & 2013       &  7         & Jul        & Q3         & WA         & Washington & USA        & Laptop     & Electronic & 1000       & 27         & 27000     \\\\\n",
       "\t 5          & 2013       &  8         & Aug        & Q3         & QU         & Quebec     & Canada     & Chair      & Furniture  &  120       & 23         &  2760     \\\\\n",
       "\t 6          & 2013       & 10         & Oct        & Q4         & NY         & New York   & USA        & Printer    & Electronic &  200       & 28         &  5600     \\\\\n",
       "\\end{tabular}\n"
      ],
      "text/markdown": [
       "\n",
       "ID | year | mo | month | quarter | st | state | country | product | category | unit_price | unit | amount | \n",
       "|---|---|---|---|---|---|\n",
       "| 1          | 2013       |  7         | Jul        | Q3         | ON         | Ontario    | Canada     | Tablet     | Electronic |  500       | 42         | 21000      | \n",
       "| 2          | 2013       |  6         | Jun        | Q2         | WA         | Washington | USA        | Chair      | Furniture  |  120       | 12         |  1440      | \n",
       "| 3          | 2013       |  4         | Apr        | Q2         | NY         | New York   | USA        | Mattress   | Furniture  |  800       | 41         | 32800      | \n",
       "| 4          | 2013       |  7         | Jul        | Q3         | WA         | Washington | USA        | Laptop     | Electronic | 1000       | 27         | 27000      | \n",
       "| 5          | 2013       |  8         | Aug        | Q3         | QU         | Quebec     | Canada     | Chair      | Furniture  |  120       | 23         |  2760      | \n",
       "| 6          | 2013       | 10         | Oct        | Q4         | NY         | New York   | USA        | Printer    | Electronic |  200       | 28         |  5600      | \n",
       "\n",
       "\n"
      ],
      "text/plain": [
       "  ID year mo month quarter st state      country product  category   unit_price\n",
       "1 1  2013  7 Jul   Q3      ON Ontario    Canada  Tablet   Electronic  500      \n",
       "2 2  2013  6 Jun   Q2      WA Washington USA     Chair    Furniture   120      \n",
       "3 3  2013  4 Apr   Q2      NY New York   USA     Mattress Furniture   800      \n",
       "4 4  2013  7 Jul   Q3      WA Washington USA     Laptop   Electronic 1000      \n",
       "5 5  2013  8 Aug   Q3      QU Quebec     Canada  Chair    Furniture   120      \n",
       "6 6  2013 10 Oct   Q4      NY New York   USA     Printer  Electronic  200      \n",
       "  unit amount\n",
       "1 42   21000 \n",
       "2 12    1440 \n",
       "3 41   32800 \n",
       "4 27   27000 \n",
       "5 23    2760 \n",
       "6 28    5600 "
      ]
     },
     "metadata": {},
     "output_type": "display_data"
    }
   ],
   "source": [
    "sales <- as.data.frame(sales)\n",
    "head(sales)"
   ]
  },
  {
   "cell_type": "code",
   "execution_count": 62,
   "metadata": {
    "collapsed": false
   },
   "outputs": [
    {
     "data": {
      "text/html": [
       "<table>\n",
       "<thead><tr><th scope=col>state</th><th scope=col>quarter</th><th scope=col>amount</th></tr></thead>\n",
       "<tbody>\n",
       "\t<tr><td>California</td><td>Q1        </td><td>2858120   </td></tr>\n",
       "\t<tr><td>California</td><td>Q2        </td><td>3444980   </td></tr>\n",
       "\t<tr><td>California</td><td>Q3        </td><td>2935020   </td></tr>\n",
       "\t<tr><td>California</td><td>Q4        </td><td>3518500   </td></tr>\n",
       "\t<tr><td>New York  </td><td>Q1        </td><td>2862880   </td></tr>\n",
       "\t<tr><td>New York  </td><td>Q2        </td><td>3370020   </td></tr>\n",
       "\t<tr><td>New York  </td><td>Q3        </td><td>3027120   </td></tr>\n",
       "\t<tr><td>New York  </td><td>Q4        </td><td>2796860   </td></tr>\n",
       "\t<tr><td>Ontario   </td><td>Q1        </td><td>1621560   </td></tr>\n",
       "\t<tr><td>Ontario   </td><td>Q2        </td><td>1191220   </td></tr>\n",
       "\t<tr><td>Ontario   </td><td>Q3        </td><td>1664920   </td></tr>\n",
       "\t<tr><td>Ontario   </td><td>Q4        </td><td>1315340   </td></tr>\n",
       "\t<tr><td>Quebec    </td><td>Q1        </td><td>1148520   </td></tr>\n",
       "\t<tr><td>Quebec    </td><td>Q2        </td><td>1781880   </td></tr>\n",
       "\t<tr><td>Quebec    </td><td>Q3        </td><td>1207940   </td></tr>\n",
       "\t<tr><td>Quebec    </td><td>Q4        </td><td>1493440   </td></tr>\n",
       "\t<tr><td>Washington</td><td>Q1        </td><td>1378720   </td></tr>\n",
       "\t<tr><td>Washington</td><td>Q2        </td><td>1735540   </td></tr>\n",
       "\t<tr><td>Washington</td><td>Q3        </td><td>1679640   </td></tr>\n",
       "\t<tr><td>Washington</td><td>Q4        </td><td>1654780   </td></tr>\n",
       "</tbody>\n",
       "</table>\n"
      ],
      "text/latex": [
       "\\begin{tabular}{r|lll}\n",
       " state & quarter & amount\\\\\n",
       "\\hline\n",
       "\t California & Q1         & 2858120   \\\\\n",
       "\t California & Q2         & 3444980   \\\\\n",
       "\t California & Q3         & 2935020   \\\\\n",
       "\t California & Q4         & 3518500   \\\\\n",
       "\t New York   & Q1         & 2862880   \\\\\n",
       "\t New York   & Q2         & 3370020   \\\\\n",
       "\t New York   & Q3         & 3027120   \\\\\n",
       "\t New York   & Q4         & 2796860   \\\\\n",
       "\t Ontario    & Q1         & 1621560   \\\\\n",
       "\t Ontario    & Q2         & 1191220   \\\\\n",
       "\t Ontario    & Q3         & 1664920   \\\\\n",
       "\t Ontario    & Q4         & 1315340   \\\\\n",
       "\t Quebec     & Q1         & 1148520   \\\\\n",
       "\t Quebec     & Q2         & 1781880   \\\\\n",
       "\t Quebec     & Q3         & 1207940   \\\\\n",
       "\t Quebec     & Q4         & 1493440   \\\\\n",
       "\t Washington & Q1         & 1378720   \\\\\n",
       "\t Washington & Q2         & 1735540   \\\\\n",
       "\t Washington & Q3         & 1679640   \\\\\n",
       "\t Washington & Q4         & 1654780   \\\\\n",
       "\\end{tabular}\n"
      ],
      "text/markdown": [
       "\n",
       "state | quarter | amount | \n",
       "|---|---|---|---|---|---|---|---|---|---|---|---|---|---|---|---|---|---|---|---|\n",
       "| California | Q1         | 2858120    | \n",
       "| California | Q2         | 3444980    | \n",
       "| California | Q3         | 2935020    | \n",
       "| California | Q4         | 3518500    | \n",
       "| New York   | Q1         | 2862880    | \n",
       "| New York   | Q2         | 3370020    | \n",
       "| New York   | Q3         | 3027120    | \n",
       "| New York   | Q4         | 2796860    | \n",
       "| Ontario    | Q1         | 1621560    | \n",
       "| Ontario    | Q2         | 1191220    | \n",
       "| Ontario    | Q3         | 1664920    | \n",
       "| Ontario    | Q4         | 1315340    | \n",
       "| Quebec     | Q1         | 1148520    | \n",
       "| Quebec     | Q2         | 1781880    | \n",
       "| Quebec     | Q3         | 1207940    | \n",
       "| Quebec     | Q4         | 1493440    | \n",
       "| Washington | Q1         | 1378720    | \n",
       "| Washington | Q2         | 1735540    | \n",
       "| Washington | Q3         | 1679640    | \n",
       "| Washington | Q4         | 1654780    | \n",
       "\n",
       "\n"
      ],
      "text/plain": [
       "   state      quarter amount \n",
       "1  California Q1      2858120\n",
       "2  California Q2      3444980\n",
       "3  California Q3      2935020\n",
       "4  California Q4      3518500\n",
       "5  New York   Q1      2862880\n",
       "6  New York   Q2      3370020\n",
       "7  New York   Q3      3027120\n",
       "8  New York   Q4      2796860\n",
       "9  Ontario    Q1      1621560\n",
       "10 Ontario    Q2      1191220\n",
       "11 Ontario    Q3      1664920\n",
       "12 Ontario    Q4      1315340\n",
       "13 Quebec     Q1      1148520\n",
       "14 Quebec     Q2      1781880\n",
       "15 Quebec     Q3      1207940\n",
       "16 Quebec     Q4      1493440\n",
       "17 Washington Q1      1378720\n",
       "18 Washington Q2      1735540\n",
       "19 Washington Q3      1679640\n",
       "20 Washington Q4      1654780"
      ]
     },
     "metadata": {},
     "output_type": "display_data"
    }
   ],
   "source": [
    "library(plyr)\n",
    "# group the original dataset usint multiple column name, here we use state and quarter\n",
    "dataSummayByStates = ddply(sales,.(state, quarter),numcolwise(sum))\n",
    "keeps <- c(\"state\",\"quarter\", \"amount\")\n",
    "dataSummayByStates <- dataSummayByStates[keeps]\n",
    "dataSummayByStates"
   ]
  },
  {
   "cell_type": "code",
   "execution_count": 66,
   "metadata": {
    "collapsed": false
   },
   "outputs": [
    {
     "data": {},
     "metadata": {},
     "output_type": "display_data"
    },
    {
     "data": {
      "image/png": "[encoded data removed]",
      "text/plain": [
       "plot without title"
      ]
     },
     "metadata": {},
     "output_type": "display_data"
    }
   ],
   "source": [
    "library(ggplot2)\n",
    "ggplot(dataSummayByStates, aes(factor(state), amount/1000000, fill = quarter)) + \n",
    "       geom_bar(stat=\"identity\", position = \"dodge\") +\n",
    "       scale_fill_brewer(palette = \"Set1\") +\n",
    "       xlab(\"States\") +\n",
    "       ylab(\"Sales(millions)\")+\n",
    "       ggtitle(\"Sales by states\")\n",
    "     "
   ]
  },
  {
   "cell_type": "code",
   "execution_count": 33,
   "metadata": {
    "collapsed": false
   },
   "outputs": [
    {
     "data": {
      "text/html": [
       "<table>\n",
       "<thead><tr><th scope=col>month</th><th scope=col>ID</th><th scope=col>year</th><th scope=col>mo</th><th scope=col>unit_price</th><th scope=col>unit</th><th scope=col>amount</th></tr></thead>\n",
       "<tbody>\n",
       "\t<tr><td>Apr    </td><td>378538 </td><td>521500 </td><td>1036   </td><td>106940 </td><td>8250   </td><td>3443900</td></tr>\n",
       "\t<tr><td>Aug    </td><td>395416 </td><td>473175 </td><td>1880   </td><td>111240 </td><td>7521   </td><td>3547320</td></tr>\n",
       "\t<tr><td>Dec    </td><td>383058 </td><td>511431 </td><td>3048   </td><td>104640 </td><td>8215   </td><td>3383040</td></tr>\n",
       "\t<tr><td>Feb    </td><td>326987 </td><td>461084 </td><td> 458   </td><td> 94780 </td><td>7405   </td><td>3086980</td></tr>\n",
       "\t<tr><td>Jan    </td><td>338941 </td><td>459076 </td><td> 228   </td><td>101700 </td><td>7390   </td><td>3290880</td></tr>\n",
       "\t<tr><td>Jul    </td><td>368096 </td><td>505392 </td><td>1757   </td><td>101280 </td><td>8494   </td><td>3437900</td></tr>\n",
       "\t<tr><td>Jun    </td><td>407271 </td><td>535585 </td><td>1596   </td><td>117520 </td><td>8814   </td><td>4106920</td></tr>\n",
       "\t<tr><td>Mar    </td><td>396855 </td><td>549692 </td><td> 819   </td><td>107820 </td><td>8937   </td><td>3491940</td></tr>\n",
       "\t<tr><td>May    </td><td>389354 </td><td>513441 </td><td>1275   </td><td>116020 </td><td>8529   </td><td>3972820</td></tr>\n",
       "\t<tr><td>Nov    </td><td>335051 </td><td>473178 </td><td>2585   </td><td>102000 </td><td>7766   </td><td>3374660</td></tr>\n",
       "\t<tr><td>Oct    </td><td>397270 </td><td>527538 </td><td>2620   </td><td>112800 </td><td>9233   </td><td>4021220</td></tr>\n",
       "\t<tr><td>Sep    </td><td>384663 </td><td>509426 </td><td>2277   </td><td>105580 </td><td>8540   </td><td>3529420</td></tr>\n",
       "</tbody>\n",
       "</table>\n"
      ],
      "text/latex": [
       "\\begin{tabular}{r|lllllll}\n",
       " month & ID & year & mo & unit\\_price & unit & amount\\\\\n",
       "\\hline\n",
       "\t Apr     & 378538  & 521500  & 1036    & 106940  & 8250    & 3443900\\\\\n",
       "\t Aug     & 395416  & 473175  & 1880    & 111240  & 7521    & 3547320\\\\\n",
       "\t Dec     & 383058  & 511431  & 3048    & 104640  & 8215    & 3383040\\\\\n",
       "\t Feb     & 326987  & 461084  &  458    &  94780  & 7405    & 3086980\\\\\n",
       "\t Jan     & 338941  & 459076  &  228    & 101700  & 7390    & 3290880\\\\\n",
       "\t Jul     & 368096  & 505392  & 1757    & 101280  & 8494    & 3437900\\\\\n",
       "\t Jun     & 407271  & 535585  & 1596    & 117520  & 8814    & 4106920\\\\\n",
       "\t Mar     & 396855  & 549692  &  819    & 107820  & 8937    & 3491940\\\\\n",
       "\t May     & 389354  & 513441  & 1275    & 116020  & 8529    & 3972820\\\\\n",
       "\t Nov     & 335051  & 473178  & 2585    & 102000  & 7766    & 3374660\\\\\n",
       "\t Oct     & 397270  & 527538  & 2620    & 112800  & 9233    & 4021220\\\\\n",
       "\t Sep     & 384663  & 509426  & 2277    & 105580  & 8540    & 3529420\\\\\n",
       "\\end{tabular}\n"
      ],
      "text/markdown": [
       "\n",
       "month | ID | year | mo | unit_price | unit | amount | \n",
       "|---|---|---|---|---|---|---|---|---|---|---|---|\n",
       "| Apr     | 378538  | 521500  | 1036    | 106940  | 8250    | 3443900 | \n",
       "| Aug     | 395416  | 473175  | 1880    | 111240  | 7521    | 3547320 | \n",
       "| Dec     | 383058  | 511431  | 3048    | 104640  | 8215    | 3383040 | \n",
       "| Feb     | 326987  | 461084  |  458    |  94780  | 7405    | 3086980 | \n",
       "| Jan     | 338941  | 459076  |  228    | 101700  | 7390    | 3290880 | \n",
       "| Jul     | 368096  | 505392  | 1757    | 101280  | 8494    | 3437900 | \n",
       "| Jun     | 407271  | 535585  | 1596    | 117520  | 8814    | 4106920 | \n",
       "| Mar     | 396855  | 549692  |  819    | 107820  | 8937    | 3491940 | \n",
       "| May     | 389354  | 513441  | 1275    | 116020  | 8529    | 3972820 | \n",
       "| Nov     | 335051  | 473178  | 2585    | 102000  | 7766    | 3374660 | \n",
       "| Oct     | 397270  | 527538  | 2620    | 112800  | 9233    | 4021220 | \n",
       "| Sep     | 384663  | 509426  | 2277    | 105580  | 8540    | 3529420 | \n",
       "\n",
       "\n"
      ],
      "text/plain": [
       "   month ID     year   mo   unit_price unit amount \n",
       "1  Apr   378538 521500 1036 106940     8250 3443900\n",
       "2  Aug   395416 473175 1880 111240     7521 3547320\n",
       "3  Dec   383058 511431 3048 104640     8215 3383040\n",
       "4  Feb   326987 461084  458  94780     7405 3086980\n",
       "5  Jan   338941 459076  228 101700     7390 3290880\n",
       "6  Jul   368096 505392 1757 101280     8494 3437900\n",
       "7  Jun   407271 535585 1596 117520     8814 4106920\n",
       "8  Mar   396855 549692  819 107820     8937 3491940\n",
       "9  May   389354 513441 1275 116020     8529 3972820\n",
       "10 Nov   335051 473178 2585 102000     7766 3374660\n",
       "11 Oct   397270 527538 2620 112800     9233 4021220\n",
       "12 Sep   384663 509426 2277 105580     8540 3529420"
      ]
     },
     "metadata": {},
     "output_type": "display_data"
    }
   ],
   "source": [
    "dataSummary = ddply(sales,.(month),numcolwise(sum))\n",
    "dataSummary"
   ]
  },
  {
   "cell_type": "code",
   "execution_count": 35,
   "metadata": {
    "collapsed": false
   },
   "outputs": [
    {
     "data": {
      "image/png": "[encoded data removed]",
      "text/plain": [
       "Plot with title \"Q-Q Plot, amount\""
      ]
     },
     "metadata": {},
     "output_type": "display_data"
    }
   ],
   "source": [
    "qqnorm(dataSummary$amount,main = \"Q-Q Plot, amount\")\n",
    "qqline(dataSummary$amount)"
   ]
  },
  {
   "cell_type": "code",
   "execution_count": 39,
   "metadata": {
    "collapsed": false
   },
   "outputs": [
    {
     "data": {
      "image/png": "[encoded data removed]",
      "text/plain": [
       "Plot with title \"Q-Q Plot, log(amount)\""
      ]
     },
     "metadata": {},
     "output_type": "display_data"
    }
   ],
   "source": [
    "qqnorm(log(dataSummary$amount),main = \"Q-Q Plot, log(amount)\")\n",
    "qqline(log(dataSummary$amount))"
   ]
  },
  {
   "cell_type": "code",
   "execution_count": 21,
   "metadata": {
    "collapsed": false
   },
   "outputs": [],
   "source": [
    "heights <- tapply(sales$amount, sales$mo, mean)\n",
    "# add Confidence interval to data\n",
    "lower <-tapply(sales$amount, sales$mo, function(v) t.test(v)$conf.int[1])\n",
    "upper <-tapply(sales$amount, sales$mo, function(v) t.test(v)$conf.int[2])"
   ]
  },
  {
   "cell_type": "code",
   "execution_count": 29,
   "metadata": {
    "collapsed": false
   },
   "outputs": [
    {
     "data": {
      "image/png": "[encoded data removed]",
      "text/plain": [
       "Plot with title \"Mean sales amount by Month\""
      ]
     },
     "metadata": {},
     "output_type": "display_data"
    }
   ],
   "source": [
    "library(gplots)\n",
    "barplot2(heights,\n",
    "        plot.ci = TRUE, ci.l = lower, ci.u = upper, xpd = FALSE,\n",
    "        main = \"Mean sales amount by Month\", \n",
    "        names.arg = c(\"Jan\", \"Feb\", \"Mar\", \"Apr\", \"May\", \"Jun\", \"Jul\", \"Aug\", \"Sep\", \"Oct\", \"Nov\", \"Dec\"),\n",
    "        col=c(\"grey\"),\n",
    "        ylab = \"Sales Amount\")\n",
    "        "
   ]
  },
  {
   "cell_type": "markdown",
   "metadata": {},
   "source": [
    "## Problem 4"
   ]
  },
  {
   "cell_type": "code",
   "execution_count": 88,
   "metadata": {
    "collapsed": false
   },
   "outputs": [
    {
     "data": {
      "text/html": [
       "<table>\n",
       "<thead><tr><th scope=col>ID</th><th scope=col>year</th><th scope=col>mo</th><th scope=col>month</th><th scope=col>quarter</th><th scope=col>st</th><th scope=col>state</th><th scope=col>country</th><th scope=col>product</th><th scope=col>category</th><th scope=col>unit_price</th><th scope=col>unit</th><th scope=col>amount</th></tr></thead>\n",
       "<tbody>\n",
       "\t<tr><td>1         </td><td>2013      </td><td> 7        </td><td>Jul       </td><td>Q3        </td><td>ON        </td><td>Ontario   </td><td>Canada    </td><td>Tablet    </td><td>Electronic</td><td> 500      </td><td>42        </td><td>21000     </td></tr>\n",
       "\t<tr><td>2         </td><td>2013      </td><td> 6        </td><td>Jun       </td><td>Q2        </td><td>WA        </td><td>Washington</td><td>USA       </td><td>Chair     </td><td>Furniture </td><td> 120      </td><td>12        </td><td> 1440     </td></tr>\n",
       "\t<tr><td>3         </td><td>2013      </td><td> 4        </td><td>Apr       </td><td>Q2        </td><td>NY        </td><td>New York  </td><td>USA       </td><td>Mattress  </td><td>Furniture </td><td> 800      </td><td>41        </td><td>32800     </td></tr>\n",
       "\t<tr><td>4         </td><td>2013      </td><td> 7        </td><td>Jul       </td><td>Q3        </td><td>WA        </td><td>Washington</td><td>USA       </td><td>Laptop    </td><td>Electronic</td><td>1000      </td><td>27        </td><td>27000     </td></tr>\n",
       "\t<tr><td>5         </td><td>2013      </td><td> 8        </td><td>Aug       </td><td>Q3        </td><td>QU        </td><td>Quebec    </td><td>Canada    </td><td>Chair     </td><td>Furniture </td><td> 120      </td><td>23        </td><td> 2760     </td></tr>\n",
       "\t<tr><td>6         </td><td>2013      </td><td>10        </td><td>Oct       </td><td>Q4        </td><td>NY        </td><td>New York  </td><td>USA       </td><td>Printer   </td><td>Electronic</td><td> 200      </td><td>28        </td><td> 5600     </td></tr>\n",
       "</tbody>\n",
       "</table>\n"
      ],
      "text/latex": [
       "\\begin{tabular}{r|lllllllllllll}\n",
       " ID & year & mo & month & quarter & st & state & country & product & category & unit\\_price & unit & amount\\\\\n",
       "\\hline\n",
       "\t 1          & 2013       &  7         & Jul        & Q3         & ON         & Ontario    & Canada     & Tablet     & Electronic &  500       & 42         & 21000     \\\\\n",
       "\t 2          & 2013       &  6         & Jun        & Q2         & WA         & Washington & USA        & Chair      & Furniture  &  120       & 12         &  1440     \\\\\n",
       "\t 3          & 2013       &  4         & Apr        & Q2         & NY         & New York   & USA        & Mattress   & Furniture  &  800       & 41         & 32800     \\\\\n",
       "\t 4          & 2013       &  7         & Jul        & Q3         & WA         & Washington & USA        & Laptop     & Electronic & 1000       & 27         & 27000     \\\\\n",
       "\t 5          & 2013       &  8         & Aug        & Q3         & QU         & Quebec     & Canada     & Chair      & Furniture  &  120       & 23         &  2760     \\\\\n",
       "\t 6          & 2013       & 10         & Oct        & Q4         & NY         & New York   & USA        & Printer    & Electronic &  200       & 28         &  5600     \\\\\n",
       "\\end{tabular}\n"
      ],
      "text/markdown": [
       "\n",
       "ID | year | mo | month | quarter | st | state | country | product | category | unit_price | unit | amount | \n",
       "|---|---|---|---|---|---|\n",
       "| 1          | 2013       |  7         | Jul        | Q3         | ON         | Ontario    | Canada     | Tablet     | Electronic |  500       | 42         | 21000      | \n",
       "| 2          | 2013       |  6         | Jun        | Q2         | WA         | Washington | USA        | Chair      | Furniture  |  120       | 12         |  1440      | \n",
       "| 3          | 2013       |  4         | Apr        | Q2         | NY         | New York   | USA        | Mattress   | Furniture  |  800       | 41         | 32800      | \n",
       "| 4          | 2013       |  7         | Jul        | Q3         | WA         | Washington | USA        | Laptop     | Electronic | 1000       | 27         | 27000      | \n",
       "| 5          | 2013       |  8         | Aug        | Q3         | QU         | Quebec     | Canada     | Chair      | Furniture  |  120       | 23         |  2760      | \n",
       "| 6          | 2013       | 10         | Oct        | Q4         | NY         | New York   | USA        | Printer    | Electronic |  200       | 28         |  5600      | \n",
       "\n",
       "\n"
      ],
      "text/plain": [
       "  ID year mo month quarter st state      country product  category   unit_price\n",
       "1 1  2013  7 Jul   Q3      ON Ontario    Canada  Tablet   Electronic  500      \n",
       "2 2  2013  6 Jun   Q2      WA Washington USA     Chair    Furniture   120      \n",
       "3 3  2013  4 Apr   Q2      NY New York   USA     Mattress Furniture   800      \n",
       "4 4  2013  7 Jul   Q3      WA Washington USA     Laptop   Electronic 1000      \n",
       "5 5  2013  8 Aug   Q3      QU Quebec     Canada  Chair    Furniture   120      \n",
       "6 6  2013 10 Oct   Q4      NY New York   USA     Printer  Electronic  200      \n",
       "  unit amount\n",
       "1 42   21000 \n",
       "2 12    1440 \n",
       "3 41   32800 \n",
       "4 27   27000 \n",
       "5 23    2760 \n",
       "6 28    5600 "
      ]
     },
     "metadata": {},
     "output_type": "display_data"
    }
   ],
   "source": [
    "head(sales)"
   ]
  },
  {
   "cell_type": "code",
   "execution_count": 152,
   "metadata": {
    "collapsed": false
   },
   "outputs": [
    {
     "data": {
      "text/html": [
       "<table>\n",
       "<thead><tr><th scope=col>year</th><th scope=col>month</th><th scope=col>state</th><th scope=col>product</th><th scope=col>amount</th></tr></thead>\n",
       "<tbody>\n",
       "\t<tr><td>2013      </td><td>Jul       </td><td>Ontario   </td><td>Tablet    </td><td>21000     </td></tr>\n",
       "\t<tr><td>2013      </td><td>Jun       </td><td>Washington</td><td>Chair     </td><td> 1440     </td></tr>\n",
       "\t<tr><td>2013      </td><td>Apr       </td><td>New York  </td><td>Mattress  </td><td>32800     </td></tr>\n",
       "\t<tr><td>2013      </td><td>Jul       </td><td>Washington</td><td>Laptop    </td><td>27000     </td></tr>\n",
       "\t<tr><td>2013      </td><td>Aug       </td><td>Quebec    </td><td>Chair     </td><td> 2760     </td></tr>\n",
       "\t<tr><td>2013      </td><td>Oct       </td><td>New York  </td><td>Printer   </td><td> 5600     </td></tr>\n",
       "</tbody>\n",
       "</table>\n"
      ],
      "text/latex": [
       "\\begin{tabular}{r|lllll}\n",
       " year & month & state & product & amount\\\\\n",
       "\\hline\n",
       "\t 2013       & Jul        & Ontario    & Tablet     & 21000     \\\\\n",
       "\t 2013       & Jun        & Washington & Chair      &  1440     \\\\\n",
       "\t 2013       & Apr        & New York   & Mattress   & 32800     \\\\\n",
       "\t 2013       & Jul        & Washington & Laptop     & 27000     \\\\\n",
       "\t 2013       & Aug        & Quebec     & Chair      &  2760     \\\\\n",
       "\t 2013       & Oct        & New York   & Printer    &  5600     \\\\\n",
       "\\end{tabular}\n"
      ],
      "text/markdown": [
       "\n",
       "year | month | state | product | amount | \n",
       "|---|---|---|---|---|---|\n",
       "| 2013       | Jul        | Ontario    | Tablet     | 21000      | \n",
       "| 2013       | Jun        | Washington | Chair      |  1440      | \n",
       "| 2013       | Apr        | New York   | Mattress   | 32800      | \n",
       "| 2013       | Jul        | Washington | Laptop     | 27000      | \n",
       "| 2013       | Aug        | Quebec     | Chair      |  2760      | \n",
       "| 2013       | Oct        | New York   | Printer    |  5600      | \n",
       "\n",
       "\n"
      ],
      "text/plain": [
       "  year month state      product  amount\n",
       "1 2013 Jul   Ontario    Tablet   21000 \n",
       "2 2013 Jun   Washington Chair     1440 \n",
       "3 2013 Apr   New York   Mattress 32800 \n",
       "4 2013 Jul   Washington Laptop   27000 \n",
       "5 2013 Aug   Quebec     Chair     2760 \n",
       "6 2013 Oct   New York   Printer   5600 "
      ]
     },
     "metadata": {},
     "output_type": "display_data"
    }
   ],
   "source": [
    "keep <- c(\"year\",\"month\", \"state\", \"product\",  \"amount\")\n",
    "sales_revenue <- sales[keep]\n",
    "sales_revenue <- as.data.frame(sales_revenue)\n",
    "head(sales_revenue)"
   ]
  },
  {
   "cell_type": "code",
   "execution_count": 160,
   "metadata": {
    "collapsed": false
   },
   "outputs": [
    {
     "data": {
      "text/html": [
       "<dl>\n",
       "\t<dt>$year</dt>\n",
       "\t\t<dd><ol class=list-inline>\n",
       "\t<li>'2013'</li>\n",
       "\t<li>'2014'</li>\n",
       "</ol>\n",
       "</dd>\n",
       "\t<dt>$month</dt>\n",
       "\t\t<dd><ol class=list-inline>\n",
       "\t<li>'Apr'</li>\n",
       "\t<li>'Aug'</li>\n",
       "\t<li>'Dec'</li>\n",
       "\t<li>'Feb'</li>\n",
       "\t<li>'Jan'</li>\n",
       "\t<li>'Jul'</li>\n",
       "\t<li>'Jun'</li>\n",
       "\t<li>'Mar'</li>\n",
       "\t<li>'May'</li>\n",
       "\t<li>'Nov'</li>\n",
       "\t<li>'Oct'</li>\n",
       "\t<li>'Sep'</li>\n",
       "</ol>\n",
       "</dd>\n",
       "\t<dt>$state</dt>\n",
       "\t\t<dd><ol class=list-inline>\n",
       "\t<li>'California'</li>\n",
       "\t<li>'New York'</li>\n",
       "\t<li>'Ontario'</li>\n",
       "\t<li>'Quebec'</li>\n",
       "\t<li>'Washington'</li>\n",
       "</ol>\n",
       "</dd>\n",
       "\t<dt>$product</dt>\n",
       "\t\t<dd><ol class=list-inline>\n",
       "\t<li>'Chair'</li>\n",
       "\t<li>'Laptop'</li>\n",
       "\t<li>'Mattress'</li>\n",
       "\t<li>'Printer'</li>\n",
       "\t<li>'Tablet'</li>\n",
       "</ol>\n",
       "</dd>\n",
       "</dl>\n"
      ],
      "text/latex": [
       "\\begin{description}\n",
       "\\item[\\$year] \\begin{enumerate*}\n",
       "\\item '2013'\n",
       "\\item '2014'\n",
       "\\end{enumerate*}\n",
       "\n",
       "\\item[\\$month] \\begin{enumerate*}\n",
       "\\item 'Apr'\n",
       "\\item 'Aug'\n",
       "\\item 'Dec'\n",
       "\\item 'Feb'\n",
       "\\item 'Jan'\n",
       "\\item 'Jul'\n",
       "\\item 'Jun'\n",
       "\\item 'Mar'\n",
       "\\item 'May'\n",
       "\\item 'Nov'\n",
       "\\item 'Oct'\n",
       "\\item 'Sep'\n",
       "\\end{enumerate*}\n",
       "\n",
       "\\item[\\$state] \\begin{enumerate*}\n",
       "\\item 'California'\n",
       "\\item 'New York'\n",
       "\\item 'Ontario'\n",
       "\\item 'Quebec'\n",
       "\\item 'Washington'\n",
       "\\end{enumerate*}\n",
       "\n",
       "\\item[\\$product] \\begin{enumerate*}\n",
       "\\item 'Chair'\n",
       "\\item 'Laptop'\n",
       "\\item 'Mattress'\n",
       "\\item 'Printer'\n",
       "\\item 'Tablet'\n",
       "\\end{enumerate*}\n",
       "\n",
       "\\end{description}\n"
      ],
      "text/markdown": [
       "$year\n",
       ":   1. '2013'\n",
       "2. '2014'\n",
       "\n",
       "\n",
       "\n",
       "$month\n",
       ":   1. 'Apr'\n",
       "2. 'Aug'\n",
       "3. 'Dec'\n",
       "4. 'Feb'\n",
       "5. 'Jan'\n",
       "6. 'Jul'\n",
       "7. 'Jun'\n",
       "8. 'Mar'\n",
       "9. 'May'\n",
       "10. 'Nov'\n",
       "11. 'Oct'\n",
       "12. 'Sep'\n",
       "\n",
       "\n",
       "\n",
       "$state\n",
       ":   1. 'California'\n",
       "2. 'New York'\n",
       "3. 'Ontario'\n",
       "4. 'Quebec'\n",
       "5. 'Washington'\n",
       "\n",
       "\n",
       "\n",
       "$product\n",
       ":   1. 'Chair'\n",
       "2. 'Laptop'\n",
       "3. 'Mattress'\n",
       "4. 'Printer'\n",
       "5. 'Tablet'\n",
       "\n",
       "\n",
       "\n",
       "\n",
       "\n"
      ],
      "text/plain": [
       "$year\n",
       "[1] \"2013\" \"2014\"\n",
       "\n",
       "$month\n",
       " [1] \"Apr\" \"Aug\" \"Dec\" \"Feb\" \"Jan\" \"Jul\" \"Jun\" \"Mar\" \"May\" \"Nov\" \"Oct\" \"Sep\"\n",
       "\n",
       "$state\n",
       "[1] \"California\" \"New York\"   \"Ontario\"    \"Quebec\"     \"Washington\"\n",
       "\n",
       "$product\n",
       "[1] \"Chair\"    \"Laptop\"   \"Mattress\" \"Printer\"  \"Tablet\"  \n"
      ]
     },
     "metadata": {},
     "output_type": "display_data"
    }
   ],
   "source": [
    "revenue_cube <- \n",
    "    tapply(sales_revenue$amount, \n",
    "           sales_revenue[,c(\"year\", \"month\", \"state\", \"product\"),], \n",
    "           FUN=function(x){return(sum(x))})\n",
    "dimnames(revenue_cube)\n"
   ]
  },
  {
   "cell_type": "markdown",
   "metadata": {},
   "source": [
    "### Slice"
   ]
  },
  {
   "cell_type": "code",
   "execution_count": 154,
   "metadata": {
    "collapsed": false
   },
   "outputs": [
    {
     "data": {
      "text/html": [
       "<dl class=dl-horizontal>\n",
       "\t<dt>California</dt>\n",
       "\t\t<dd>130000</dd>\n",
       "\t<dt>New York</dt>\n",
       "\t\t<dd>153000</dd>\n",
       "\t<dt>Ontario</dt>\n",
       "\t\t<dd>39000</dd>\n",
       "\t<dt>Quebec</dt>\n",
       "\t\t<dd>62000</dd>\n",
       "\t<dt>Washington</dt>\n",
       "\t\t<dd>57000</dd>\n",
       "</dl>\n"
      ],
      "text/latex": [
       "\\begin{description*}\n",
       "\\item[California] 130000\n",
       "\\item[New York] 153000\n",
       "\\item[Ontario] 39000\n",
       "\\item[Quebec] 62000\n",
       "\\item[Washington] 57000\n",
       "\\end{description*}\n"
      ],
      "text/markdown": [
       "California\n",
       ":   130000New York\n",
       ":   153000Ontario\n",
       ":   39000Quebec\n",
       ":   62000Washington\n",
       ":   57000\n",
       "\n"
      ],
      "text/plain": [
       "California   New York    Ontario     Quebec Washington \n",
       "    130000     153000      39000      62000      57000 "
      ]
     },
     "metadata": {},
     "output_type": "display_data"
    }
   ],
   "source": [
    "#Slice operation: compute the revenue for Laptop during January of 2013 in each state\n",
    "revenue_cube['2013','Jan',,'Laptop']"
   ]
  },
  {
   "cell_type": "markdown",
   "metadata": {},
   "source": [
    "### Dice"
   ]
  },
  {
   "cell_type": "code",
   "execution_count": null,
   "metadata": {
    "collapsed": true
   },
   "outputs": [],
   "source": [
    "#Dice operation: compute the revenue for the furniture products (Mattress and Chair) during the second quarter \n",
    "# (April, May and June) of 2014 in each state.\n",
    "# the following line could be correctly displayed on RStudio as follows, but not on Jupyter notebook\n",
    "revenue_cube['2014',c('Apr','May','Jun'),,c('Chair','Mattress')]"
   ]
  },
  {
   "cell_type": "raw",
   "metadata": {},
   "source": [
    ", , product = Chair\n",
    "\n",
    "     state\n",
    "month California New York Ontario Quebec Washington\n",
    "  Apr      56160    56040   21960  25920      29400\n",
    "  May      62640    64320   25200  39480      36960\n",
    "  Jun      57960    43560   15480  18480      12720\n",
    "\n",
    ", , product = Mattress\n",
    "\n",
    "     state\n",
    "month California New York Ontario Quebec Washington\n",
    "  Apr      56000    47200      NA 127200         NA\n",
    "  May      60000    15200      NA   2400      51200\n",
    "  Jun     149600   111200      NA  59200     128800"
   ]
  },
  {
   "cell_type": "markdown",
   "metadata": {},
   "source": [
    "### Rollup"
   ]
  },
  {
   "cell_type": "code",
   "execution_count": 150,
   "metadata": {
    "collapsed": false
   },
   "outputs": [
    {
     "data": {
      "text/html": [
       "<table>\n",
       "<thead><tr><th></th><th scope=col>Chair</th><th scope=col>Laptop</th><th scope=col>Mattress</th><th scope=col>Printer</th><th scope=col>Tablet</th></tr></thead>\n",
       "<tbody>\n",
       "\t<tr><th scope=row>2013</th><td>2412240</td><td>8109000</td><td>3420000</td><td>786600 </td><td>6158500</td></tr>\n",
       "\t<tr><th scope=row>2014</th><td>2382960</td><td>8435000</td><td>3358400</td><td>872800 </td><td>6751500</td></tr>\n",
       "</tbody>\n",
       "</table>\n"
      ],
      "text/latex": [
       "\\begin{tabular}{r|lllll}\n",
       "  & Chair & Laptop & Mattress & Printer & Tablet\\\\\n",
       "\\hline\n",
       "\t2013 & 2412240 & 8109000 & 3420000 & 786600  & 6158500\\\\\n",
       "\t2014 & 2382960 & 8435000 & 3358400 & 872800  & 6751500\\\\\n",
       "\\end{tabular}\n"
      ],
      "text/markdown": [
       "\n",
       "| <!--/--> | Chair | Laptop | Mattress | Printer | Tablet | \n",
       "|---|---|\n",
       "| 2013 | 2412240 | 8109000 | 3420000 | 786600  | 6158500 | \n",
       "| 2014 | 2382960 | 8435000 | 3358400 | 872800  | 6751500 | \n",
       "\n",
       "\n"
      ],
      "text/plain": [
       "      product\n",
       "year   Chair   Laptop  Mattress Printer Tablet \n",
       "  2013 2412240 8109000 3420000  786600  6158500\n",
       "  2014 2382960 8435000 3358400  872800  6751500"
      ]
     },
     "metadata": {},
     "output_type": "display_data"
    }
   ],
   "source": [
    "# Rollup operation: compute the annual revenue for each product and collapse the state and month dimensions.\n",
    "apply(revenue_cube, c(\"year\", \"product\"),\n",
    "      FUN=function(x) {return(sum(x, na.rm=TRUE))})"
   ]
  },
  {
   "cell_type": "markdown",
   "metadata": {},
   "source": [
    "### Drilldown"
   ]
  },
  {
   "cell_type": "code",
   "execution_count": null,
   "metadata": {
    "collapsed": false
   },
   "outputs": [],
   "source": [
    "# Drilldown operation: compute the annual and monthly revenue for each product and collapse the state dimension\n",
    "apply(revenue_cube, c(\"year\", \"month\", \"product\"), \n",
    "      FUN=function(x) {return(sum(x, na.rm=TRUE))})"
   ]
  },
  {
   "cell_type": "code",
   "execution_count": null,
   "metadata": {
    "collapsed": true
   },
   "outputs": [],
   "source": [
    ", , product = Chair\n",
    "\n",
    "      month\n",
    "year      Apr    Aug    Dec    Feb    Jan    Jul    Jun    Mar    May    Nov    Oct    Sep\n",
    "  2013 286320 125640 223920 159000 192960 204840 198720 237960 117120 137400 269160 259200\n",
    "  2014 189480 204480 201120 201480 144720 237360 148200 247680 228600 174360 180960 224520\n",
    "\n",
    ", , product = Laptop\n",
    "\n",
    "      month\n",
    "year      Apr    Aug    Dec    Feb    Jan    Jul    Jun    Mar     May    Nov    Oct    Sep\n",
    "  2013 801000 895000 581000 558000 441000 614000 836000 622000 1087000 419000 827000 428000\n",
    "  2014 648000 755000 623000 440000 638000 593000 896000 689000  581000 723000 892000 957000\n",
    "\n",
    ", , product = Mattress\n",
    "\n",
    "      month\n",
    "year      Apr    Aug    Dec    Feb    Jan    Jul    Jun    Mar    May    Nov    Oct    Sep\n",
    "  2013 280000 201600 374400 502400 443200 201600 148800 276800 425600 216800 212800 136000\n",
    "  2014 230400 307200 243200 204800 312800 195200 448800 178400 128800 233600 490400 384800\n",
    "\n",
    ", , product = Printer\n",
    "\n",
    "      month\n",
    "year     Apr   Aug   Dec   Feb   Jan   Jul    Jun    Mar   May    Nov    Oct   Sep\n",
    "  2013 29600 67000 58200 93400 43400 35800  74800  71000 67600 100800 127400 17600\n",
    "  2014 30600 55400 83200 65400 61800 71600 119600 105600 91600  73200  68000 46800\n",
    "\n",
    ", , product = Tablet\n",
    "\n",
    "      month\n",
    "year      Apr    Aug    Dec    Feb    Jan    Jul    Jun    Mar    May    Nov    Oct    Sep\n",
    "  2013 463500 455000 382500 414500 429500 720000 664500 492500 590500 595500 379000 571500\n",
    "  2014 485000 481000 612500 448000 583500 564500 571500 571000 655000 701000 574500 504000\n"
   ]
  }
 ],
 "metadata": {
  "anaconda-cloud": {},
  "kernelspec": {
   "display_name": "R",
   "language": "R",
   "name": "ir"
  },
  "language_info": {
   "codemirror_mode": "r",
   "file_extension": ".r",
   "mimetype": "text/x-r-source",
   "name": "R",
   "pygments_lexer": "r",
   "version": "3.3.2"
  }
 },
 "nbformat": 4,
 "nbformat_minor": 1
}
