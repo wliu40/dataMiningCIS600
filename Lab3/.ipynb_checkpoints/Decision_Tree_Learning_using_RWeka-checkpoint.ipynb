{
 "cells": [
  {
   "cell_type": "code",
   "execution_count": 3,
   "metadata": {
    "collapsed": false
   },
   "outputs": [],
   "source": [
    "library(rJava)\n",
    "library(RWeka)"
   ]
  },
  {
   "cell_type": "code",
   "execution_count": 4,
   "metadata": {
    "collapsed": true
   },
   "outputs": [],
   "source": [
    "?Weka_classifier_trees"
   ]
  },
  {
   "cell_type": "markdown",
   "metadata": {},
   "source": [
    "### Weka_classifier_trees {RWeka}\tR Documentation\n",
    "R/Weka Classifier Trees\n",
    "#### Description\n",
    "R interfaces to Weka regression and classification tree learners.\n",
    "#### Usage\n",
    "J48(formula, data, subset, na.action,control = Weka_control(), options = NULL)\n",
    "\n",
    "LMT(formula, data, subset, na.action,control = Weka_control(), options = NULL)\n",
    "\n",
    "M5P(formula, data, subset, na.action,control = Weka_control(), options = NULL)\n",
    "\n",
    "DecisionStump(formula, data, subset, na.action, control = Weka_control(), options = NULL)\n",
    "\n",
    "#### Arguments\n",
    "\n",
    "** formula **\n",
    ":a symbolic description of the model to be fit.\n",
    "\n",
    "** data\t**\n",
    ":an optional data frame containing the variables in the model.\n",
    "\n",
    "** subset **\n",
    ":an optional vector specifying a subset of observations to be used in the fitting process.\n",
    "\n",
    "** na.action **\t:a function which indicates what should happen when the data contain NAs. See model.frame for details.\n",
    "\n",
    "** control**\n",
    ":an object of class Weka_control giving options to be passed to the Weka learner. Available options can be obtained on-line using the Weka Option Wizard WOW, or the Weka documentation.\n",
    "\n",
    "** options** :a named list of further options, or NULL (default). See Details.\n",
    "\n",
    "\n",
    "**(a) formula** - If we want to predict X based on attributes Y and Z, the\n",
    "formula takes the form of X ∼ Y + Z. If we want to predict X based\n",
    "on all the attributes, you can use the shorthand X ∼ .\n",
    "\n",
    "**(b) data** - This is the training data.\n",
    "\n",
    "**(c) control** - This is used to set various parameters for the decision tree.\n",
    "You can view the available controls with,\n",
    "\n"
   ]
  },
  {
   "cell_type": "code",
   "execution_count": 5,
   "metadata": {
    "collapsed": false
   },
   "outputs": [
    {
     "data": {
      "text/plain": [
       "-U      Use unpruned tree.\n",
       "-O      Do not collapse tree.\n",
       "-C <pruning confidence>\n",
       "        Set confidence threshold for pruning.  (default 0.25)\n",
       "\tNumber of arguments: 1.\n",
       "-M <minimum number of instances>\n",
       "        Set minimum number of instances per leaf.  (default 2)\n",
       "\tNumber of arguments: 1.\n",
       "-R      Use reduced error pruning.\n",
       "-N <number of folds>\n",
       "        Set number of folds for reduced error pruning. One fold is used\n",
       "        as pruning set.  (default 3)\n",
       "\tNumber of arguments: 1.\n",
       "-B      Use binary splits only.\n",
       "-S      Do not perform subtree raising.\n",
       "-L      Do not clean up after the tree has been built.\n",
       "-A      Laplace smoothing for predicted probabilities.\n",
       "-J      Do not use MDL correction for info gain on numeric attributes.\n",
       "-Q <seed>\n",
       "        Seed for random data shuffling (default 1).\n",
       "\tNumber of arguments: 1.\n",
       "-doNotMakeSplitPointActualValue\n",
       "        Do not make split point actual value.\n",
       "-output-debug-info\n",
       "        If set, classifier is run in debug mode and may output\n",
       "        additional info to the console\n",
       "-do-not-check-capabilities\n",
       "        If set, classifier capabilities are not checked before\n",
       "        classifier is built (use with caution).\n",
       "-num-decimal-places\n",
       "        The number of decimal places for the output of numbers in the\n",
       "        model (default 2).\n",
       "\tNumber of arguments: 1.\n",
       "-batch-size\n",
       "        The desired batch size for batch prediction (default 100).\n",
       "\tNumber of arguments: 1."
      ]
     },
     "metadata": {},
     "output_type": "display_data"
    }
   ],
   "source": [
    "WOW(J48)"
   ]
  },
  {
   "cell_type": "code",
   "execution_count": 8,
   "metadata": {
    "collapsed": false
   },
   "outputs": [
    {
     "data": {
      "text/html": [
       "<table>\n",
       "<thead><tr><th scope=col>age</th><th scope=col>workclass</th><th scope=col>education</th><th scope=col>marital.status</th><th scope=col>occupation</th><th scope=col>relationship</th><th scope=col>race</th><th scope=col>sex</th><th scope=col>capital.gain</th><th scope=col>capital.loss</th><th scope=col>hours.per.week</th><th scope=col>native.country</th><th scope=col>income</th></tr></thead>\n",
       "<tbody>\n",
       "\t<tr><td>59                                                        </td><td><span style=white-space:pre-wrap> Private         </span> </td><td> Some-college                                             </td><td> Married-civ-spouse                                       </td><td><span style=white-space:pre-wrap> Adm-clerical     </span></td><td> Other-relative                                           </td><td> White                                                    </td><td> Female                                                   </td><td><span style=white-space:pre-wrap>    0</span>             </td><td>0                                                         </td><td>16                                                        </td><td> United-States                                            </td><td> &gt;50K                                                  </td></tr>\n",
       "\t<tr><td>21                                                         </td><td><span style=white-space:pre-wrap> Private         </span>  </td><td> Some-college                                              </td><td><span style=white-space:pre-wrap> Never-married     </span></td><td><span style=white-space:pre-wrap> Adm-clerical     </span> </td><td><span style=white-space:pre-wrap> Own-child     </span>    </td><td> Black                                                     </td><td><span style=white-space:pre-wrap> Male  </span>            </td><td><span style=white-space:pre-wrap>    0</span>              </td><td>0                                                          </td><td>50                                                         </td><td> United-States                                             </td><td> &lt;=50K                                                  </td></tr>\n",
       "\t<tr><td>38                                                         </td><td><span style=white-space:pre-wrap> Private         </span>  </td><td><span style=white-space:pre-wrap> Bachelors   </span>      </td><td><span style=white-space:pre-wrap> Divorced          </span></td><td><span style=white-space:pre-wrap> Prof-specialty   </span> </td><td><span style=white-space:pre-wrap> Unmarried     </span>    </td><td> Black                                                     </td><td> Female                                                    </td><td>15020                                                      </td><td>0                                                          </td><td>45                                                         </td><td> United-States                                             </td><td> &gt;50K                                                   </td></tr>\n",
       "\t<tr><td>33                                                       </td><td><span style=white-space:pre-wrap> Private         </span></td><td> Some-college                                            </td><td> Married-civ-spouse                                      </td><td> Handlers-cleaners                                       </td><td><span style=white-space:pre-wrap> Husband       </span>  </td><td> White                                                   </td><td><span style=white-space:pre-wrap> Male  </span>          </td><td><span style=white-space:pre-wrap>    0</span>            </td><td>0                                                        </td><td>50                                                       </td><td> United-States                                           </td><td> &gt;50K                                                 </td></tr>\n",
       "\t<tr><td>52                                                        </td><td> Self-emp-not-inc                                         </td><td><span style=white-space:pre-wrap> HS-grad     </span>     </td><td> Married-civ-spouse                                       </td><td><span style=white-space:pre-wrap> Farming-fishing  </span></td><td><span style=white-space:pre-wrap> Husband       </span>   </td><td> White                                                    </td><td><span style=white-space:pre-wrap> Male  </span>           </td><td><span style=white-space:pre-wrap>    0</span>             </td><td>0                                                         </td><td>98                                                        </td><td> United-States                                            </td><td> &gt;50K                                                  </td></tr>\n",
       "\t<tr><td>42                                                        </td><td><span style=white-space:pre-wrap> Federal-gov     </span> </td><td><span style=white-space:pre-wrap> Bachelors   </span>     </td><td> Married-civ-spouse                                       </td><td><span style=white-space:pre-wrap> Exec-managerial  </span></td><td><span style=white-space:pre-wrap> Husband       </span>   </td><td> White                                                    </td><td><span style=white-space:pre-wrap> Male  </span>           </td><td> 7298                                                     </td><td>0                                                         </td><td>50                                                        </td><td> United-States                                            </td><td> &gt;50K                                                  </td></tr>\n",
       "</tbody>\n",
       "</table>\n"
      ],
      "text/latex": [
       "\\begin{tabular}{r|lllllllllllll}\n",
       " age & workclass & education & marital.status & occupation & relationship & race & sex & capital.gain & capital.loss & hours.per.week & native.country & income\\\\\n",
       "\\hline\n",
       "\t 59                  &  Private            &  Some-college       &  Married-civ-spouse &  Adm-clerical       &  Other-relative     &  White              &  Female             &     0               & 0                   & 16                  &  United-States      &  >50K              \\\\\n",
       "\t 21                  &  Private            &  Some-college       &  Never-married      &  Adm-clerical       &  Own-child          &  Black              &  Male               &     0               & 0                   & 50                  &  United-States      &  <=50K             \\\\\n",
       "\t 38                  &  Private            &  Bachelors          &  Divorced           &  Prof-specialty     &  Unmarried          &  Black              &  Female             & 15020               & 0                   & 45                  &  United-States      &  >50K              \\\\\n",
       "\t 33                  &  Private            &  Some-college       &  Married-civ-spouse &  Handlers-cleaners  &  Husband            &  White              &  Male               &     0               & 0                   & 50                  &  United-States      &  >50K              \\\\\n",
       "\t 52                  &  Self-emp-not-inc   &  HS-grad            &  Married-civ-spouse &  Farming-fishing    &  Husband            &  White              &  Male               &     0               & 0                   & 98                  &  United-States      &  >50K              \\\\\n",
       "\t 42                  &  Federal-gov        &  Bachelors          &  Married-civ-spouse &  Exec-managerial    &  Husband            &  White              &  Male               &  7298               & 0                   & 50                  &  United-States      &  >50K              \\\\\n",
       "\\end{tabular}\n"
      ],
      "text/markdown": [
       "\n",
       "age | workclass | education | marital.status | occupation | relationship | race | sex | capital.gain | capital.loss | hours.per.week | native.country | income | \n",
       "|---|---|---|---|---|---|\n",
       "| 59                  |  Private            |  Some-college       |  Married-civ-spouse |  Adm-clerical       |  Other-relative     |  White              |  Female             |     0               | 0                   | 16                  |  United-States      |  >50K               | \n",
       "| 21                  |  Private            |  Some-college       |  Never-married      |  Adm-clerical       |  Own-child          |  Black              |  Male               |     0               | 0                   | 50                  |  United-States      |  <=50K              | \n",
       "| 38                  |  Private            |  Bachelors          |  Divorced           |  Prof-specialty     |  Unmarried          |  Black              |  Female             | 15020               | 0                   | 45                  |  United-States      |  >50K               | \n",
       "| 33                  |  Private            |  Some-college       |  Married-civ-spouse |  Handlers-cleaners  |  Husband            |  White              |  Male               |     0               | 0                   | 50                  |  United-States      |  >50K               | \n",
       "| 52                  |  Self-emp-not-inc   |  HS-grad            |  Married-civ-spouse |  Farming-fishing    |  Husband            |  White              |  Male               |     0               | 0                   | 98                  |  United-States      |  >50K               | \n",
       "| 42                  |  Federal-gov        |  Bachelors          |  Married-civ-spouse |  Exec-managerial    |  Husband            |  White              |  Male               |  7298               | 0                   | 50                  |  United-States      |  >50K               | \n",
       "\n",
       "\n"
      ],
      "text/plain": [
       "  age workclass         education     marital.status      occupation        \n",
       "1 59   Private           Some-college  Married-civ-spouse  Adm-clerical     \n",
       "2 21   Private           Some-college  Never-married       Adm-clerical     \n",
       "3 38   Private           Bachelors     Divorced            Prof-specialty   \n",
       "4 33   Private           Some-college  Married-civ-spouse  Handlers-cleaners\n",
       "5 52   Self-emp-not-inc  HS-grad       Married-civ-spouse  Farming-fishing  \n",
       "6 42   Federal-gov       Bachelors     Married-civ-spouse  Exec-managerial  \n",
       "  relationship    race   sex     capital.gain capital.loss hours.per.week\n",
       "1  Other-relative  White  Female     0        0            16            \n",
       "2  Own-child       Black  Male       0        0            50            \n",
       "3  Unmarried       Black  Female 15020        0            45            \n",
       "4  Husband         White  Male       0        0            50            \n",
       "5  Husband         White  Male       0        0            98            \n",
       "6  Husband         White  Male    7298        0            50            \n",
       "  native.country income\n",
       "1  United-States  >50K \n",
       "2  United-States  <=50K\n",
       "3  United-States  >50K \n",
       "4  United-States  >50K \n",
       "5  United-States  >50K \n",
       "6  United-States  >50K "
      ]
     },
     "metadata": {},
     "output_type": "display_data"
    }
   ],
   "source": [
    "adult.train <- read.csv(\"adult_train.csv\")\n",
    "head(adult.train)"
   ]
  },
  {
   "cell_type": "code",
   "execution_count": 12,
   "metadata": {
    "collapsed": false
   },
   "outputs": [],
   "source": [
    "mdl <- J48(income ~ ., data = adult.train, control = Weka_control(M = 10, C = 0.25, B = F))"
   ]
  },
  {
   "cell_type": "code",
   "execution_count": 15,
   "metadata": {
    "collapsed": false
   },
   "outputs": [
    {
     "data": {
      "text/plain": [
       "\n",
       "=== Summary ===\n",
       "\n",
       "Correctly Classified Instances         769               76.9    %\n",
       "Incorrectly Classified Instances       231               23.1    %\n",
       "Kappa statistic                          0.5366\n",
       "Mean absolute error                      0.3016\n",
       "Root mean squared error                  0.4139\n",
       "Relative absolute error                 60.3336 %\n",
       "Root relative squared error             82.7864 %\n",
       "Total Number of Instances             1000     \n",
       "\n",
       "=== Detailed Accuracy By Class ===\n",
       "\n",
       "                 TP Rate  FP Rate  Precision  Recall   F-Measure  MCC      ROC Area  PRC Area  Class\n",
       "                 0.663    0.128    0.834      0.663    0.739      0.548    0.811     0.784      <=50K\n",
       "                 0.872    0.337    0.727      0.872    0.793      0.548    0.811     0.762      >50K\n",
       "Weighted Avg.    0.769    0.234    0.780      0.769    0.766      0.548    0.811     0.773     \n",
       "\n",
       "=== Confusion Matrix ===\n",
       "\n",
       "   a   b   <-- classified as\n",
       " 327 166 |   a =  <=50K\n",
       "  65 442 |   b =  >50K"
      ]
     },
     "metadata": {},
     "output_type": "display_data"
    }
   ],
   "source": [
    "adult.test <- read.csv(\"adult_test.csv\")\n",
    "evaluate_Weka_classifier(mdl, newdata = adult.test, class = T)"
   ]
  },
  {
   "cell_type": "code",
   "execution_count": 17,
   "metadata": {
    "collapsed": false
   },
   "outputs": [
    {
     "data": {
      "text/plain": [
       "=== 10 Fold Cross Validation ===\n",
       "\n",
       "=== Summary ===\n",
       "\n",
       "Correctly Classified Instances        3114               77.85   %\n",
       "Incorrectly Classified Instances       886               22.15   %\n",
       "Kappa statistic                          0.5571\n",
       "Mean absolute error                      0.2398\n",
       "Root mean squared error                  0.4206\n",
       "Relative absolute error                 47.9556 %\n",
       "Root relative squared error             84.1195 %\n",
       "Total Number of Instances             4000     \n",
       "\n",
       "=== Detailed Accuracy By Class ===\n",
       "\n",
       "                 TP Rate  FP Rate  Precision  Recall   F-Measure  MCC      ROC Area  PRC Area  Class\n",
       "                 0.761    0.204    0.790      0.761    0.775      0.557    0.817     0.776      <=50K\n",
       "                 0.796    0.239    0.768      0.796    0.782      0.557    0.817     0.763      >50K\n",
       "Weighted Avg.    0.779    0.221    0.779      0.779    0.778      0.557    0.817     0.769     \n",
       "\n",
       "=== Confusion Matrix ===\n",
       "\n",
       "    a    b   <-- classified as\n",
       " 1528  479 |    a =  <=50K\n",
       "  407 1586 |    b =  >50K"
      ]
     },
     "metadata": {},
     "output_type": "display_data"
    },
    {
     "name": "stdout",
     "output_type": "stream",
     "text": [
      "[1] \"@@@@@@@@@@@@@@@@@@@@@@@@@@@@@@@@@@@@@@@@@@@@@@@@@@@@@@@@@@@@@@@@@@@@@@@@\"\n"
     ]
    },
    {
     "data": {
      "text/plain": [
       "=== 10 Fold Cross Validation ===\n",
       "\n",
       "=== Summary ===\n",
       "\n",
       "Correctly Classified Instances        3203               80.075  %\n",
       "Incorrectly Classified Instances       797               19.925  %\n",
       "Kappa statistic                          0.6015\n",
       "Mean absolute error                      0.2696\n",
       "Root mean squared error                  0.3827\n",
       "Relative absolute error                 53.9175 %\n",
       "Root relative squared error             76.5332 %\n",
       "Total Number of Instances             4000     \n",
       "\n",
       "=== Detailed Accuracy By Class ===\n",
       "\n",
       "                 TP Rate  FP Rate  Precision  Recall   F-Measure  MCC      ROC Area  PRC Area  Class\n",
       "                 0.791    0.189    0.808      0.791    0.799      0.602    0.862     0.824      <=50K\n",
       "                 0.811    0.209    0.794      0.811    0.802      0.602    0.862     0.847      >50K\n",
       "Weighted Avg.    0.801    0.199    0.801      0.801    0.801      0.602    0.862     0.835     \n",
       "\n",
       "=== Confusion Matrix ===\n",
       "\n",
       "    a    b   <-- classified as\n",
       " 1587  420 |    a =  <=50K\n",
       "  377 1616 |    b =  >50K"
      ]
     },
     "metadata": {},
     "output_type": "display_data"
    }
   ],
   "source": [
    "#Consider two models mdl.1 and mdl.2. \n",
    "mdl.1 <- J48(income ~ ., data = adult.train, control = Weka_control(M = 2, U = T, B = T))\n",
    "mdl.2 <- J48(income ~ ., data = adult.train, control = Weka_control(M = 2, U = F, B = F))\n",
    "#compare these two models with k-fold cross, k=10\n",
    "evaluate_Weka_classifier(mdl.1, class = T, numFolds = 10)\n",
    "print(\"@@@@@@@@@@@@@@@@@@@@@@@@@@@@@@@@@@@@@@@@@@@@@@@@@@@@@@@@@@@@@@@@@@@@@@@@\")\n",
    "evaluate_Weka_classifier(mdl.2, class = T, numFolds = 10)\n"
   ]
  },
  {
   "cell_type": "code",
   "execution_count": 18,
   "metadata": {
    "collapsed": false
   },
   "outputs": [
    {
     "data": {
      "text/plain": [
       "\n",
       "=== Summary ===\n",
       "\n",
       "Correctly Classified Instances         697               69.7    %\n",
       "Incorrectly Classified Instances       303               30.3    %\n",
       "Kappa statistic                          0.3934\n",
       "Mean absolute error                      0.3267\n",
       "Root mean squared error                  0.5092\n",
       "Relative absolute error                 65.3599 %\n",
       "Root relative squared error            101.8514 %\n",
       "Total Number of Instances             1000     \n",
       "\n",
       "=== Detailed Accuracy By Class ===\n",
       "\n",
       "                 TP Rate  FP Rate  Precision  Recall   F-Measure  MCC      ROC Area  PRC Area  Class\n",
       "                 0.665    0.272    0.704      0.665    0.684      0.394    0.697     0.618      <=50K\n",
       "                 0.728    0.335    0.691      0.728    0.709      0.394    0.697     0.698      >50K\n",
       "Weighted Avg.    0.697    0.304    0.697      0.697    0.697      0.394    0.697     0.658     \n",
       "\n",
       "=== Confusion Matrix ===\n",
       "\n",
       "   a   b   <-- classified as\n",
       " 328 165 |   a =  <=50K\n",
       " 138 369 |   b =  >50K"
      ]
     },
     "metadata": {},
     "output_type": "display_data"
    },
    {
     "data": {
      "text/plain": [
       "\n",
       "=== Summary ===\n",
       "\n",
       "Correctly Classified Instances         767               76.7    %\n",
       "Incorrectly Classified Instances       233               23.3    %\n",
       "Kappa statistic                          0.5325\n",
       "Mean absolute error                      0.3   \n",
       "Root mean squared error                  0.414 \n",
       "Relative absolute error                 60.0032 %\n",
       "Root relative squared error             82.8064 %\n",
       "Total Number of Instances             1000     \n",
       "\n",
       "=== Detailed Accuracy By Class ===\n",
       "\n",
       "                 TP Rate  FP Rate  Precision  Recall   F-Measure  MCC      ROC Area  PRC Area  Class\n",
       "                 0.657    0.126    0.835      0.657    0.736      0.545    0.813     0.790      <=50K\n",
       "                 0.874    0.343    0.724      0.874    0.792      0.545    0.813     0.762      >50K\n",
       "Weighted Avg.    0.767    0.236    0.779      0.767    0.764      0.545    0.813     0.776     \n",
       "\n",
       "=== Confusion Matrix ===\n",
       "\n",
       "   a   b   <-- classified as\n",
       " 324 169 |   a =  <=50K\n",
       "  64 443 |   b =  >50K"
      ]
     },
     "metadata": {},
     "output_type": "display_data"
    }
   ],
   "source": [
    "##compare these two models with test data\n",
    "evaluate_Weka_classifier(mdl.1, class = T, newdata = adult.test)\n",
    "evaluate_Weka_classifier(mdl.2, class = T, newdata = adult.test)\n"
   ]
  },
  {
   "cell_type": "code",
   "execution_count": 19,
   "metadata": {
    "collapsed": false
   },
   "outputs": [
    {
     "name": "stderr",
     "output_type": "stream",
     "text": [
      "Type 'citation(\"pROC\")' for a citation.\n",
      "\n",
      "Attaching package: 'pROC'\n",
      "\n",
      "The following objects are masked from 'package:stats':\n",
      "\n",
      "    cov, smooth, var\n",
      "\n"
     ]
    },
    {
     "data": {
      "image/png": "[encoded data removed]",
      "text/plain": [
       "plot without title"
      ]
     },
     "metadata": {},
     "output_type": "display_data"
    },
    {
     "data": {
      "image/png": "[encoded data removed]",
      "text/plain": [
       "plot without title"
      ]
     },
     "metadata": {},
     "output_type": "display_data"
    }
   ],
   "source": [
    "#Performance Evaluation with ROC\n",
    "library(pROC)\n",
    "\n",
    "#Get the predicted class probabilities of adult.test using mdl.1 and mdl.2\n",
    "p.1 <- predict(mdl.1, newdata = adult.test, type = c(\"prob\"))\n",
    "p.2 <- predict(mdl.2, newdata = adult.test, type = c(\"prob\"))\n",
    "\n",
    "#Calculate the ROC.\n",
    "roc.1 <- roc(adult.test$income, p.1[,1])\n",
    "roc.2 <- roc(adult.test$income, p.2[,1])\n",
    "#plot ROC\n",
    "plot(roc.1)\n",
    "plot(roc.2)"
   ]
  },
  {
   "cell_type": "markdown",
   "metadata": {},
   "source": [
    "### ROC\n",
    "In statistics, a receiver operating characteristic curve, or ROC curve, is a graphical plot that illustrates the performance of a binary classifier system as its discrimination threshold is varied. The curve is created by plotting the true positive rate (TPR) against the false positive rate (FPR) at various threshold settings.\n",
    "The true-positive rate is also known as sensitivity, recall or probability of detection[1] in machine learning. The false-positive rate is also known as the fall-out or probability of false alarm and can be calculated as (1 − specificity). \n",
    "\n"
   ]
  },
  {
   "cell_type": "code",
   "execution_count": null,
   "metadata": {
    "collapsed": true
   },
   "outputs": [],
   "source": []
  }
 ],
 "metadata": {
  "anaconda-cloud": {},
  "kernelspec": {
   "display_name": "R",
   "language": "R",
   "name": "ir"
  },
  "language_info": {
   "codemirror_mode": "r",
   "file_extension": ".r",
   "mimetype": "text/x-r-source",
   "name": "R",
   "pygments_lexer": "r",
   "version": "3.3.2"
  }
 },
 "nbformat": 4,
 "nbformat_minor": 1
}
