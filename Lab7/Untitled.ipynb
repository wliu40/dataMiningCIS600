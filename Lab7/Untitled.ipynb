{
 "cells": [
  {
   "cell_type": "code",
   "execution_count": 1,
   "metadata": {
    "collapsed": true
   },
   "outputs": [],
   "source": [
    "#Installing clustertend package and loading the same\n",
    "library(clustertend)"
   ]
  },
  {
   "cell_type": "code",
   "execution_count": 2,
   "metadata": {
    "collapsed": true
   },
   "outputs": [],
   "source": [
    "#Reading WINE dataset and performing Hopkins Statistic with 10% sample\n",
    "wine <- read.csv(\"wines.csv\")"
   ]
  },
  {
   "cell_type": "code",
   "execution_count": 3,
   "metadata": {
    "collapsed": false
   },
   "outputs": [
    {
     "data": {
      "text/html": [
       "<strong>$H</strong> = 0.249768428625306"
      ],
      "text/latex": [
       "\\textbf{\\$H} = 0.249768428625306"
      ],
      "text/markdown": [
       "**$H** = 0.249768428625306"
      ],
      "text/plain": [
       "$H\n",
       "[1] 0.2497684\n"
      ]
     },
     "metadata": {},
     "output_type": "display_data"
    }
   ],
   "source": [
    "hopkins(wine, 0.1 * nrow(wine))"
   ]
  },
  {
   "cell_type": "code",
   "execution_count": 4,
   "metadata": {
    "collapsed": true
   },
   "outputs": [],
   "source": [
    "#Shuffle data as follows\n",
    "wine <- wine[sample(nrow(wine)), ]"
   ]
  },
  {
   "cell_type": "code",
   "execution_count": 5,
   "metadata": {
    "collapsed": true
   },
   "outputs": [],
   "source": [
    "# Running K-Means algorithm with K = 5\n",
    "kmeans_5 <- kmeans(wine, 5)"
   ]
  },
  {
   "cell_type": "code",
   "execution_count": 13,
   "metadata": {
    "collapsed": false
   },
   "outputs": [
    {
     "data": {
      "text/html": [
       "<dl>\n",
       "\t<dt>$names</dt>\n",
       "\t\t<dd><ol class=list-inline>\n",
       "\t<li>'cluster'</li>\n",
       "\t<li>'centers'</li>\n",
       "\t<li>'totss'</li>\n",
       "\t<li>'withinss'</li>\n",
       "\t<li>'tot.withinss'</li>\n",
       "\t<li>'betweenss'</li>\n",
       "\t<li>'size'</li>\n",
       "\t<li>'iter'</li>\n",
       "\t<li>'ifault'</li>\n",
       "</ol>\n",
       "</dd>\n",
       "\t<dt>$class</dt>\n",
       "\t\t<dd>'kmeans'</dd>\n",
       "</dl>\n"
      ],
      "text/latex": [
       "\\begin{description}\n",
       "\\item[\\$names] \\begin{enumerate*}\n",
       "\\item 'cluster'\n",
       "\\item 'centers'\n",
       "\\item 'totss'\n",
       "\\item 'withinss'\n",
       "\\item 'tot.withinss'\n",
       "\\item 'betweenss'\n",
       "\\item 'size'\n",
       "\\item 'iter'\n",
       "\\item 'ifault'\n",
       "\\end{enumerate*}\n",
       "\n",
       "\\item[\\$class] 'kmeans'\n",
       "\\end{description}\n"
      ],
      "text/markdown": [
       "$names\n",
       ":   1. 'cluster'\n",
       "2. 'centers'\n",
       "3. 'totss'\n",
       "4. 'withinss'\n",
       "5. 'tot.withinss'\n",
       "6. 'betweenss'\n",
       "7. 'size'\n",
       "8. 'iter'\n",
       "9. 'ifault'\n",
       "\n",
       "\n",
       "\n",
       "$class\n",
       ":   'kmeans'\n",
       "\n",
       "\n"
      ],
      "text/plain": [
       "$names\n",
       "[1] \"cluster\"      \"centers\"      \"totss\"        \"withinss\"     \"tot.withinss\"\n",
       "[6] \"betweenss\"    \"size\"         \"iter\"         \"ifault\"      \n",
       "\n",
       "$class\n",
       "[1] \"kmeans\"\n"
      ]
     },
     "metadata": {},
     "output_type": "display_data"
    }
   ],
   "source": [
    "#Attributes under kmeans() method can be explored using\n",
    "attributes(kmeans_5)"
   ]
  },
  {
   "cell_type": "code",
   "execution_count": 14,
   "metadata": {
    "collapsed": false
   },
   "outputs": [
    {
     "data": {
      "text/plain": [
       "   \n",
       "     1  2  3  4  5\n",
       "  1  0 27 23  9  0\n",
       "  2 29  4  0 16 22\n",
       "  3  2  1  0 24 21"
      ]
     },
     "metadata": {},
     "output_type": "display_data"
    }
   ],
   "source": [
    "#. Printing confusion matrix for K-Means clustering with K = 5 is as follows\n",
    "table(wine[,1], kmeans_5$cluster)"
   ]
  },
  {
   "cell_type": "code",
   "execution_count": 23,
   "metadata": {
    "collapsed": false
   },
   "outputs": [],
   "source": [
    "#. Hierarchical clustering with Euclidean distance as distance metric\n",
    "#and Single - Link as cluster proximity measure\n",
    "d <- dist(wine, method = \"euclidean\")\n",
    "hier <- hclust(d, method = \"single\")\n"
   ]
  },
  {
   "cell_type": "code",
   "execution_count": 25,
   "metadata": {
    "collapsed": false
   },
   "outputs": [
    {
     "data": {
      "image/png": "[encoded data removed]",
      "text/plain": [
       "Plot with title \"Cluster Dendrogram\""
      ]
     },
     "metadata": {},
     "output_type": "display_data"
    }
   ],
   "source": [
    "plot(hier)\n",
    "clusters <- cutree(hier, k = 4)\n",
    "rect.hclust(hier, k = 4, border = \"red\")\n"
   ]
  },
  {
   "cell_type": "code",
   "execution_count": 26,
   "metadata": {
    "collapsed": false
   },
   "outputs": [
    {
     "data": {
      "text/plain": [
       "   clusters\n",
       "     1  2  3  4\n",
       "  1 52  5  1  1\n",
       "  2 71  0  0  0\n",
       "  3 48  0  0  0"
      ]
     },
     "metadata": {},
     "output_type": "display_data"
    }
   ],
   "source": [
    "table(wine[,1], clusters)\n"
   ]
  },
  {
   "cell_type": "code",
   "execution_count": null,
   "metadata": {
    "collapsed": true
   },
   "outputs": [],
   "source": []
  }
 ],
 "metadata": {
  "anaconda-cloud": {},
  "kernelspec": {
   "display_name": "R",
   "language": "R",
   "name": "ir"
  },
  "language_info": {
   "codemirror_mode": "r",
   "file_extension": ".r",
   "mimetype": "text/x-r-source",
   "name": "R",
   "pygments_lexer": "r",
   "version": "3.3.2"
  }
 },
 "nbformat": 4,
 "nbformat_minor": 1
}
