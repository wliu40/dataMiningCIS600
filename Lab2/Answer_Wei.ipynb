{
 "cells": [
  {
   "cell_type": "markdown",
   "metadata": {},
   "source": [
    "### Problem 1"
   ]
  },
  {
   "cell_type": "raw",
   "metadata": {},
   "source": [
    "=== Run information ===\n",
    "\n",
    "Scheme:       weka.classifiers.trees.J48 -C 0.25 -M 2\n",
    "Relation:      iris\n",
    "Instances:     150\n",
    "Attributes:     5\n",
    "              sepal_length\n",
    "              sepal_width\n",
    "              petal_length\n",
    "              petal_width\n",
    "              species\n",
    "Test mode:    10-fold cross-validation\n",
    "\n",
    "=== Classifier model (full training set) ===\n",
    "\n",
    "J48 pruned tree\n",
    "------------------\n",
    "\n",
    "petal_width <= 0.6: setosa (50.0)\n",
    "petal_width > 0.6\n",
    "|   petal_width <= 1.7\n",
    "|   |   petal_length <= 4.9: versicolor (48.0/1.0)\n",
    "|   |   petal_length > 4.9\n",
    "|   |   |   petal_width <= 1.5: virginica (3.0)\n",
    "|   |   |   petal_width > 1.5: versicolor (3.0/1.0)\n",
    "|   petal_width > 1.7: virginica (46.0/1.0)\n",
    "\n",
    "Number of Leaves  : \t5\n",
    "\n",
    "Size of the tree : \t9\n",
    "\n",
    "\n",
    "Time taken to build model: 0.02 seconds\n",
    "\n",
    "=== Stratified cross-validation ===\n",
    "=== Summary ===\n",
    "\n",
    "Correctly Classified Instances         144               96      %\n",
    "Incorrectly Classified Instances         6                4      %\n",
    "Kappa statistic                    0.94  \n",
    "Mean absolute error                 0.035 \n",
    "Root mean squared error              0.1586\n",
    "Relative absolute error              7.8705 %\n",
    "Root relative squared error           33.6353 %\n",
    "Total Number of Instances             150     \n",
    "\n",
    "=== Detailed Accuracy By Class ===\n",
    "\n",
    "                 TP Rate  FP Rate  Precision  Recall   F-Measure  MCC      ROC Area  PRC Area  Class\n",
    "                 0.980    0.000    1.000      0.980    0.990      0.985    0.990     0.987     setosa\n",
    "                 0.940    0.030    0.940      0.940    0.940      0.910    0.952     0.880     versicolor\n",
    "                 0.960    0.030    0.941      0.960    0.950      0.925    0.961     0.905     virginica\n",
    "Weighted Avg.    0.960    0.020    0.960      0.960    0.960      0.940    0.968     0.924     \n",
    "\n",
    "=== Confusion Matrix ===\n",
    "\n",
    "  a  b  c   <-- classified as\n",
    " 49  1  0 |  a = setosa\n",
    "  0 47  3 |  b = versicolor\n",
    "  0  2 48 |  c = virginica\n"
   ]
  },
  {
   "cell_type": "markdown",
   "metadata": {},
   "source": [
    "![img](treeVisualization.png)"
   ]
  },
  {
   "cell_type": "markdown",
   "metadata": {},
   "source": [
    "1. How many misclassified instances exist when 10-fold cross validation is used?\n",
    "#### 6\n",
    "\n",
    "2. What is the percentage of Accuracy?\n",
    "#### 96%\n",
    "\n",
    "3. How many instances are classified under setosa, virginica, versicolor?\n",
    "#### 49, 51, 50\n",
    "\n",
    "4. For petal width <= 0.6, what is the class label under which the instances are classified?\n",
    "#### setosa\n",
    "\n",
    "5. For petal width <= 1.7, how many instances are classified under versicolor?\n",
    "#### 51\n",
    "\n",
    "6. For petal width > 1.7, how many instances are classified under virginica?\n",
    "#### 46"
   ]
  },
  {
   "cell_type": "markdown",
   "metadata": {},
   "source": [
    "### Problem 2"
   ]
  },
  {
   "cell_type": "markdown",
   "metadata": {},
   "source": [
    "1. Choose the breast-cancer dataset from Weka viz. breast-cancer.arff and perform decision tree learning using Random Forest classifier\n",
    "2. In Classifier Output on the right, it is mentioned that Correctly Classified Instances a.k.a Accuracy is 69.58%. The fraction x/y = 69.58%. What are the values of x and y in this case that led to 69.58%\n",
    "### x = 199, y = 286\n",
    "3. Set the number of iterations options numIterations to 50, 100, 150, 200, 250. List Accuracy for each of these options. What is the trend that is observed in accuracy values.\n",
    "### 68.88%; 69.58%; 70.63%; 70.28%; 68.58%\n",
    "4. Perform classification on breast-cancer dataset using J48. Which among Random Forest and J48 has better accuracy\n",
    "### J48 has accuracy of 75.52%, which is better."
   ]
  },
  {
   "cell_type": "raw",
   "metadata": {},
   "source": [
    "=== Run information ===\n",
    "\n",
    "Scheme:       weka.classifiers.trees.RandomForest -P 100 -I 100 -num-slots 1 -K 0 -M 1.0 -V 0.001 -S 1\n",
    "Relation:     breast-cancer\n",
    "Instances:    286\n",
    "Attributes:   10\n",
    "              age\n",
    "              menopause\n",
    "              tumor-size\n",
    "              inv-nodes\n",
    "              node-caps\n",
    "              deg-malig\n",
    "              breast\n",
    "              breast-quad\n",
    "              irradiat\n",
    "              Class\n",
    "Test mode:    10-fold cross-validation\n",
    "\n",
    "=== Classifier model (full training set) ===\n",
    "\n",
    "RandomForest\n",
    "\n",
    "Bagging with 100 iterations and base learner\n",
    "\n",
    "weka.classifiers.trees.RandomTree -K 0 -M 1.0 -V 0.001 -S 1 -do-not-check-capabilities\n",
    "\n",
    "Time taken to build model: 0.29 seconds\n",
    "\n",
    "=== Stratified cross-validation ===\n",
    "=== Summary ===\n",
    "\n",
    "Correctly Classified Instances         199               69.5804 %\n",
    "Incorrectly Classified Instances        87               30.4196 %\n",
    "Kappa statistic                          0.1736\n",
    "Mean absolute error                      0.3727\n",
    "Root mean squared error                  0.4613\n",
    "Relative absolute error                 89.0857 %\n",
    "Root relative squared error            100.9171 %\n",
    "Total Number of Instances              286     \n",
    "\n",
    "=== Detailed Accuracy By Class ===\n",
    "\n",
    "                 TP Rate  FP Rate  Precision  Recall   F-Measure  MCC      ROC Area  PRC Area  Class\n",
    "                 0.871    0.718    0.742      0.871    0.801      0.184    0.634     0.798     no-recurrence-events\n",
    "                 0.282    0.129    0.480      0.282    0.356      0.184    0.634     0.409     recurrence-events\n",
    "Weighted Avg.    0.696    0.543    0.664      0.696    0.669      0.184    0.634     0.682     \n",
    "\n",
    "=== Confusion Matrix ===\n",
    "\n",
    "   a   b   <-- classified as\n",
    " 175  26 |   a = no-recurrence-events\n",
    "  61  24 |   b = recurrence-events\n",
    "\n"
   ]
  },
  {
   "cell_type": "markdown",
   "metadata": {},
   "source": [
    "### Problem 3"
   ]
  },
  {
   "cell_type": "markdown",
   "metadata": {},
   "source": [
    "1. What is the Weka command to construct a tree by not pruning it\n",
    "### J48 -U -M2\n",
    "2. What is the Weka command command to prune a tree by allocating a minimum of 10 objects to a leaf node\n",
    "### J48 -C 0.25 -M10\n",
    "3. What is percentage accuracy of decision tree if pruning is allowed and a minimum of 10 objects are to be allocated to a leaf node\n",
    "### 74.82%"
   ]
  }
 ],
 "metadata": {
  "anaconda-cloud": {},
  "kernelspec": {
   "display_name": "Python [default]",
   "language": "python",
   "name": "python3"
  },
  "language_info": {
   "codemirror_mode": {
    "name": "ipython",
    "version": 3
   },
   "file_extension": ".py",
   "mimetype": "text/x-python",
   "name": "python",
   "nbconvert_exporter": "python",
   "pygments_lexer": "ipython3",
   "version": "3.5.2"
  }
 },
 "nbformat": 4,
 "nbformat_minor": 1
}
