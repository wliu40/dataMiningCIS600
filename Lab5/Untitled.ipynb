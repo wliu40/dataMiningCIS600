{
 "cells": [
  {
   "cell_type": "code",
   "execution_count": 1,
   "metadata": {
    "collapsed": true
   },
   "outputs": [],
   "source": [
    "library(RWeka)\n"
   ]
  },
  {
   "cell_type": "code",
   "execution_count": 2,
   "metadata": {
    "collapsed": true
   },
   "outputs": [],
   "source": [
    "?Weka_classifiers\n"
   ]
  },
  {
   "cell_type": "code",
   "execution_count": 3,
   "metadata": {
    "collapsed": true
   },
   "outputs": [],
   "source": [
    "md <-\n",
    "make_Weka_classifier(\"weka/classifiers/functions/MultilayerPerceptron\")\n"
   ]
  },
  {
   "cell_type": "code",
   "execution_count": 7,
   "metadata": {
    "collapsed": false
   },
   "outputs": [
    {
     "data": {
      "text/html": [
       "<table>\n",
       "<thead><tr><th scope=col>sepal_length</th><th scope=col>sepal_width</th><th scope=col>petal_length</th><th scope=col>petal_width</th><th scope=col>species</th></tr></thead>\n",
       "<tbody>\n",
       "\t<tr><td>5.1   </td><td>3.5   </td><td>1.4   </td><td>0.2   </td><td>setosa</td></tr>\n",
       "\t<tr><td>4.9   </td><td>3.0   </td><td>1.4   </td><td>0.2   </td><td>setosa</td></tr>\n",
       "\t<tr><td>4.7   </td><td>3.2   </td><td>1.3   </td><td>0.2   </td><td>setosa</td></tr>\n",
       "\t<tr><td>4.6   </td><td>3.1   </td><td>1.5   </td><td>0.2   </td><td>setosa</td></tr>\n",
       "\t<tr><td>5.0   </td><td>3.6   </td><td>1.4   </td><td>0.2   </td><td>setosa</td></tr>\n",
       "\t<tr><td>5.4   </td><td>3.9   </td><td>1.7   </td><td>0.4   </td><td>setosa</td></tr>\n",
       "</tbody>\n",
       "</table>\n"
      ],
      "text/latex": [
       "\\begin{tabular}{r|lllll}\n",
       " sepal\\_length & sepal\\_width & petal\\_length & petal\\_width & species\\\\\n",
       "\\hline\n",
       "\t 5.1    & 3.5    & 1.4    & 0.2    & setosa\\\\\n",
       "\t 4.9    & 3.0    & 1.4    & 0.2    & setosa\\\\\n",
       "\t 4.7    & 3.2    & 1.3    & 0.2    & setosa\\\\\n",
       "\t 4.6    & 3.1    & 1.5    & 0.2    & setosa\\\\\n",
       "\t 5.0    & 3.6    & 1.4    & 0.2    & setosa\\\\\n",
       "\t 5.4    & 3.9    & 1.7    & 0.4    & setosa\\\\\n",
       "\\end{tabular}\n"
      ],
      "text/markdown": [
       "\n",
       "sepal_length | sepal_width | petal_length | petal_width | species | \n",
       "|---|---|---|---|---|---|\n",
       "| 5.1    | 3.5    | 1.4    | 0.2    | setosa | \n",
       "| 4.9    | 3.0    | 1.4    | 0.2    | setosa | \n",
       "| 4.7    | 3.2    | 1.3    | 0.2    | setosa | \n",
       "| 4.6    | 3.1    | 1.5    | 0.2    | setosa | \n",
       "| 5.0    | 3.6    | 1.4    | 0.2    | setosa | \n",
       "| 5.4    | 3.9    | 1.7    | 0.4    | setosa | \n",
       "\n",
       "\n"
      ],
      "text/plain": [
       "  sepal_length sepal_width petal_length petal_width species\n",
       "1 5.1          3.5         1.4          0.2         setosa \n",
       "2 4.9          3.0         1.4          0.2         setosa \n",
       "3 4.7          3.2         1.3          0.2         setosa \n",
       "4 4.6          3.1         1.5          0.2         setosa \n",
       "5 5.0          3.6         1.4          0.2         setosa \n",
       "6 5.4          3.9         1.7          0.4         setosa "
      ]
     },
     "metadata": {},
     "output_type": "display_data"
    }
   ],
   "source": [
    "iris_data <- read.csv(\"iris.csv\")\n",
    "head(iris_data)"
   ]
  },
  {
   "cell_type": "code",
   "execution_count": 8,
   "metadata": {
    "collapsed": true
   },
   "outputs": [],
   "source": [
    "# indexes of rows that are selected for training and testing\n",
    "test_set_indexes <- sample(1:nrow(iris_data), 30)\n",
    "train_set_indexes <- setdiff(1:nrow(iris_data),test_set_indexes)\n",
    "# fetching rows with above indexes\n",
    "test_data <- iris_data[test_set_indexes, ]\n",
    "train_data <-iris_data[train_set_indexes, ]"
   ]
  },
  {
   "cell_type": "code",
   "execution_count": 9,
   "metadata": {
    "collapsed": false
   },
   "outputs": [
    {
     "data": {
      "text/plain": [
       "iris_data$species ~ iris_data$sepal_length + iris_data$sepal_width + \n",
       "    iris_data$petal_length + iris_data$petal_width"
      ]
     },
     "metadata": {},
     "output_type": "display_data"
    }
   ],
   "source": [
    "iris_data$species ~ iris_data$sepal_length +iris_data$sepal_width + iris_data$petal_length +iris_data$petal_width\n"
   ]
  },
  {
   "cell_type": "code",
   "execution_count": 10,
   "metadata": {
    "collapsed": true
   },
   "outputs": [],
   "source": [
    "trained_model <- md(iris_data$species ~ ., data = iris_data, subset <- train_set_indexes, control = Weka_control(G = T))\n"
   ]
  },
  {
   "cell_type": "code",
   "execution_count": 12,
   "metadata": {
    "collapsed": false
   },
   "outputs": [
    {
     "data": {
      "text/plain": [
       "Sigmoid Node 0\n",
       "    Inputs    Weights\n",
       "    Threshold    -5.724444247992982\n",
       "    Node 3    3.15545130894287\n",
       "    Node 4    7.140158749950042\n",
       "    Node 5    -3.4072194648438283\n",
       "Sigmoid Node 1\n",
       "    Inputs    Weights\n",
       "    Threshold    4.227369818718188\n",
       "    Node 3    0.4499186376807169\n",
       "    Node 4    -9.13636941549871\n",
       "    Node 5    -10.101787963523412\n",
       "Sigmoid Node 2\n",
       "    Inputs    Weights\n",
       "    Threshold    -2.5973925701129055\n",
       "    Node 3    -6.177420212816543\n",
       "    Node 4    -3.3586664417400462\n",
       "    Node 5    9.073256808817009\n",
       "Sigmoid Node 3\n",
       "    Inputs    Weights\n",
       "    Threshold    0.9891656078217729\n",
       "    Attrib sepal_length    0.7421071249526666\n",
       "    Attrib sepal_width    2.0686221638399207\n",
       "    Attrib petal_length    -3.9122067248173793\n",
       "    Attrib petal_width    -1.36093454945062\n",
       "Sigmoid Node 4\n",
       "    Inputs    Weights\n",
       "    Threshold    -3.0951776893896374\n",
       "    Attrib sepal_length    -1.3980491258020606\n",
       "    Attrib sepal_width    3.1594406205915786\n",
       "    Attrib petal_length    -3.989231490334999\n",
       "    Attrib petal_width    -3.970293686693078\n",
       "Sigmoid Node 5\n",
       "    Inputs    Weights\n",
       "    Threshold    -7.2683001674536145\n",
       "    Attrib sepal_length    -2.3080867931491698\n",
       "    Attrib sepal_width    -2.884236696172939\n",
       "    Attrib petal_length    12.750115952981812\n",
       "    Attrib petal_width    6.649715209638734\n",
       "Sigmoid Node 6\n",
       "    Inputs    Weights\n",
       "    Threshold    0.03355062157463565\n",
       "Class setosa\n",
       "    Input\n",
       "    Node 0\n",
       "Class versicolor\n",
       "    Input\n",
       "    Node 1\n",
       "Class virginica\n",
       "    Input\n",
       "    Node 2\n"
      ]
     },
     "metadata": {},
     "output_type": "display_data"
    }
   ],
   "source": [
    "trained_model\n"
   ]
  },
  {
   "cell_type": "code",
   "execution_count": 13,
   "metadata": {
    "collapsed": true
   },
   "outputs": [],
   "source": [
    "test_results <- predict(trained_model, newdata = test_data[1:4])\n"
   ]
  },
  {
   "cell_type": "code",
   "execution_count": 14,
   "metadata": {
    "collapsed": false
   },
   "outputs": [
    {
     "data": {
      "text/html": [
       "<ol class=list-inline>\n",
       "\t<li>setosa</li>\n",
       "\t<li>setosa</li>\n",
       "\t<li>setosa</li>\n",
       "\t<li>virginica</li>\n",
       "\t<li>virginica</li>\n",
       "\t<li>setosa</li>\n",
       "\t<li>virginica</li>\n",
       "\t<li>setosa</li>\n",
       "\t<li>virginica</li>\n",
       "\t<li>setosa</li>\n",
       "\t<li>virginica</li>\n",
       "\t<li>virginica</li>\n",
       "\t<li>versicolor</li>\n",
       "\t<li>versicolor</li>\n",
       "\t<li>virginica</li>\n",
       "\t<li>versicolor</li>\n",
       "\t<li>setosa</li>\n",
       "\t<li>versicolor</li>\n",
       "\t<li>virginica</li>\n",
       "\t<li>virginica</li>\n",
       "\t<li>versicolor</li>\n",
       "\t<li>versicolor</li>\n",
       "\t<li>versicolor</li>\n",
       "\t<li>versicolor</li>\n",
       "\t<li>virginica</li>\n",
       "\t<li>virginica</li>\n",
       "\t<li>virginica</li>\n",
       "\t<li>versicolor</li>\n",
       "\t<li>virginica</li>\n",
       "\t<li>virginica</li>\n",
       "</ol>\n"
      ],
      "text/latex": [
       "\\begin{enumerate*}\n",
       "\\item setosa\n",
       "\\item setosa\n",
       "\\item setosa\n",
       "\\item virginica\n",
       "\\item virginica\n",
       "\\item setosa\n",
       "\\item virginica\n",
       "\\item setosa\n",
       "\\item virginica\n",
       "\\item setosa\n",
       "\\item virginica\n",
       "\\item virginica\n",
       "\\item versicolor\n",
       "\\item versicolor\n",
       "\\item virginica\n",
       "\\item versicolor\n",
       "\\item setosa\n",
       "\\item versicolor\n",
       "\\item virginica\n",
       "\\item virginica\n",
       "\\item versicolor\n",
       "\\item versicolor\n",
       "\\item versicolor\n",
       "\\item versicolor\n",
       "\\item virginica\n",
       "\\item virginica\n",
       "\\item virginica\n",
       "\\item versicolor\n",
       "\\item virginica\n",
       "\\item virginica\n",
       "\\end{enumerate*}\n"
      ],
      "text/markdown": [
       "1. setosa\n",
       "2. setosa\n",
       "3. setosa\n",
       "4. virginica\n",
       "5. virginica\n",
       "6. setosa\n",
       "7. virginica\n",
       "8. setosa\n",
       "9. virginica\n",
       "10. setosa\n",
       "11. virginica\n",
       "12. virginica\n",
       "13. versicolor\n",
       "14. versicolor\n",
       "15. virginica\n",
       "16. versicolor\n",
       "17. setosa\n",
       "18. versicolor\n",
       "19. virginica\n",
       "20. virginica\n",
       "21. versicolor\n",
       "22. versicolor\n",
       "23. versicolor\n",
       "24. versicolor\n",
       "25. virginica\n",
       "26. virginica\n",
       "27. virginica\n",
       "28. versicolor\n",
       "29. virginica\n",
       "30. virginica\n",
       "\n",
       "\n"
      ],
      "text/plain": [
       " [1] setosa     setosa     setosa     virginica  virginica  setosa    \n",
       " [7] virginica  setosa     virginica  setosa     virginica  virginica \n",
       "[13] versicolor versicolor virginica  versicolor setosa     versicolor\n",
       "[19] virginica  virginica  versicolor versicolor versicolor versicolor\n",
       "[25] virginica  virginica  virginica  versicolor virginica  virginica \n",
       "Levels: setosa versicolor virginica"
      ]
     },
     "metadata": {},
     "output_type": "display_data"
    },
    {
     "data": {
      "text/html": [
       "<ol class=list-inline>\n",
       "\t<li>setosa</li>\n",
       "\t<li>setosa</li>\n",
       "\t<li>setosa</li>\n",
       "\t<li>virginica</li>\n",
       "\t<li>virginica</li>\n",
       "\t<li>setosa</li>\n",
       "\t<li>virginica</li>\n",
       "\t<li>setosa</li>\n",
       "\t<li>versicolor</li>\n",
       "\t<li>setosa</li>\n",
       "\t<li>virginica</li>\n",
       "\t<li>virginica</li>\n",
       "\t<li>versicolor</li>\n",
       "\t<li>versicolor</li>\n",
       "\t<li>virginica</li>\n",
       "\t<li>versicolor</li>\n",
       "\t<li>setosa</li>\n",
       "\t<li>versicolor</li>\n",
       "\t<li>virginica</li>\n",
       "\t<li>virginica</li>\n",
       "\t<li>versicolor</li>\n",
       "\t<li>versicolor</li>\n",
       "\t<li>versicolor</li>\n",
       "\t<li>versicolor</li>\n",
       "\t<li>virginica</li>\n",
       "\t<li>virginica</li>\n",
       "\t<li>virginica</li>\n",
       "\t<li>versicolor</li>\n",
       "\t<li>virginica</li>\n",
       "\t<li>virginica</li>\n",
       "</ol>\n"
      ],
      "text/latex": [
       "\\begin{enumerate*}\n",
       "\\item setosa\n",
       "\\item setosa\n",
       "\\item setosa\n",
       "\\item virginica\n",
       "\\item virginica\n",
       "\\item setosa\n",
       "\\item virginica\n",
       "\\item setosa\n",
       "\\item versicolor\n",
       "\\item setosa\n",
       "\\item virginica\n",
       "\\item virginica\n",
       "\\item versicolor\n",
       "\\item versicolor\n",
       "\\item virginica\n",
       "\\item versicolor\n",
       "\\item setosa\n",
       "\\item versicolor\n",
       "\\item virginica\n",
       "\\item virginica\n",
       "\\item versicolor\n",
       "\\item versicolor\n",
       "\\item versicolor\n",
       "\\item versicolor\n",
       "\\item virginica\n",
       "\\item virginica\n",
       "\\item virginica\n",
       "\\item versicolor\n",
       "\\item virginica\n",
       "\\item virginica\n",
       "\\end{enumerate*}\n"
      ],
      "text/markdown": [
       "1. setosa\n",
       "2. setosa\n",
       "3. setosa\n",
       "4. virginica\n",
       "5. virginica\n",
       "6. setosa\n",
       "7. virginica\n",
       "8. setosa\n",
       "9. versicolor\n",
       "10. setosa\n",
       "11. virginica\n",
       "12. virginica\n",
       "13. versicolor\n",
       "14. versicolor\n",
       "15. virginica\n",
       "16. versicolor\n",
       "17. setosa\n",
       "18. versicolor\n",
       "19. virginica\n",
       "20. virginica\n",
       "21. versicolor\n",
       "22. versicolor\n",
       "23. versicolor\n",
       "24. versicolor\n",
       "25. virginica\n",
       "26. virginica\n",
       "27. virginica\n",
       "28. versicolor\n",
       "29. virginica\n",
       "30. virginica\n",
       "\n",
       "\n"
      ],
      "text/plain": [
       " [1] setosa     setosa     setosa     virginica  virginica  setosa    \n",
       " [7] virginica  setosa     versicolor setosa     virginica  virginica \n",
       "[13] versicolor versicolor virginica  versicolor setosa     versicolor\n",
       "[19] virginica  virginica  versicolor versicolor versicolor versicolor\n",
       "[25] virginica  virginica  virginica  versicolor virginica  virginica \n",
       "Levels: setosa versicolor virginica"
      ]
     },
     "metadata": {},
     "output_type": "display_data"
    }
   ],
   "source": [
    "# prediction results\n",
    "test_results\n",
    "# actual test dataset results\n",
    "test_data[ ,5]"
   ]
  },
  {
   "cell_type": "code",
   "execution_count": 15,
   "metadata": {
    "collapsed": false
   },
   "outputs": [
    {
     "data": {
      "text/plain": [
       "            actual\n",
       "predicted    setosa versicolor virginica\n",
       "  setosa          7          0         0\n",
       "  versicolor      0          9         0\n",
       "  virginica       0          1        13"
      ]
     },
     "metadata": {},
     "output_type": "display_data"
    }
   ],
   "source": [
    "table(test_results, test_data[ ,5], dnn = list(\"predicted\",\n",
    "\"actual\"))"
   ]
  },
  {
   "cell_type": "code",
   "execution_count": 16,
   "metadata": {
    "collapsed": false
   },
   "outputs": [
    {
     "data": {
      "text/plain": [
       "=== 10 Fold Cross Validation ===\n",
       "\n",
       "=== Summary ===\n",
       "\n",
       "Correctly Classified Instances         102               85      %\n",
       "Incorrectly Classified Instances        18               15      %\n",
       "Kappa statistic                          0.7729\n",
       "Mean absolute error                      0.1121\n",
       "Root mean squared error                  0.2362\n",
       "Relative absolute error                 25.2623 %\n",
       "Root relative squared error             50.1332 %\n",
       "Total Number of Instances              120     \n",
       "\n",
       "=== Detailed Accuracy By Class ===\n",
       "\n",
       "                 TP Rate  FP Rate  Precision  Recall   F-Measure  MCC      ROC Area  PRC Area  Class\n",
       "                 1.000    0.208    0.729      1.000    0.843      0.760    0.996     0.993     setosa\n",
       "                 0.775    0.013    0.969      0.775    0.861      0.813    0.967     0.946     versicolor\n",
       "                 0.757    0.012    0.966      0.757    0.848      0.803    0.979     0.960     virginica\n",
       "Weighted Avg.    0.850    0.082    0.882      0.850    0.851      0.791    0.981     0.967     \n",
       "\n",
       "=== Confusion Matrix ===\n",
       "\n",
       "  a  b  c   <-- classified as\n",
       " 43  0  0 |  a = setosa\n",
       "  8 31  1 |  b = versicolor\n",
       "  8  1 28 |  c = virginica"
      ]
     },
     "metadata": {},
     "output_type": "display_data"
    }
   ],
   "source": [
    "evaluate_Weka_classifier(trained_model, class = TRUE,numFolds = 10)\n"
   ]
  },
  {
   "cell_type": "markdown",
   "metadata": {},
   "source": [
    "![title](pic.png)"
   ]
  },
  {
   "cell_type": "code",
   "execution_count": null,
   "metadata": {
    "collapsed": true
   },
   "outputs": [],
   "source": []
  }
 ],
 "metadata": {
  "anaconda-cloud": {},
  "kernelspec": {
   "display_name": "R",
   "language": "R",
   "name": "ir"
  },
  "language_info": {
   "codemirror_mode": "r",
   "file_extension": ".r",
   "mimetype": "text/x-r-source",
   "name": "R",
   "pygments_lexer": "r",
   "version": "3.3.2"
  }
 },
 "nbformat": 4,
 "nbformat_minor": 1
}
