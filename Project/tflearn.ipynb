{
 "cells": [
  {
   "cell_type": "code",
   "execution_count": 6,
   "metadata": {
    "collapsed": false
   },
   "outputs": [
    {
     "name": "stdout",
     "output_type": "stream",
     "text": [
      "curses is not supported on this machine (please install/reinstall curses for an optimal experience)\n"
     ]
    }
   ],
   "source": [
    "%matplotlib inline\n",
    "%config InlineBackend.figure_format = 'retina'\n",
    "\n",
    "import numpy as np\n",
    "import pandas as pd\n",
    "import tensorflow as tf\n",
    "import tflearn\n",
    "import matplotlib.pyplot as plt"
   ]
  },
  {
   "cell_type": "code",
   "execution_count": 7,
   "metadata": {
    "collapsed": false
   },
   "outputs": [],
   "source": [
    "data_path = 'train_8400_norm_2_csv.csv'\n",
    "digits = pd.read_csv(data_path)"
   ]
  },
  {
   "cell_type": "code",
   "execution_count": 8,
   "metadata": {
    "collapsed": false
   },
   "outputs": [
    {
     "data": {
      "text/html": [
       "<div>\n",
       "<table border=\"1\" class=\"dataframe\">\n",
       "  <thead>\n",
       "    <tr style=\"text-align: right;\">\n",
       "      <th></th>\n",
       "      <th>label</th>\n",
       "      <th>pixel0</th>\n",
       "      <th>pixel1</th>\n",
       "      <th>pixel2</th>\n",
       "      <th>pixel3</th>\n",
       "      <th>pixel4</th>\n",
       "      <th>pixel5</th>\n",
       "      <th>pixel6</th>\n",
       "      <th>pixel7</th>\n",
       "      <th>pixel8</th>\n",
       "      <th>...</th>\n",
       "      <th>pixel774</th>\n",
       "      <th>pixel775</th>\n",
       "      <th>pixel776</th>\n",
       "      <th>pixel777</th>\n",
       "      <th>pixel778</th>\n",
       "      <th>pixel779</th>\n",
       "      <th>pixel780</th>\n",
       "      <th>pixel781</th>\n",
       "      <th>pixel782</th>\n",
       "      <th>pixel783</th>\n",
       "    </tr>\n",
       "  </thead>\n",
       "  <tbody>\n",
       "    <tr>\n",
       "      <th>0</th>\n",
       "      <td>8</td>\n",
       "      <td>0</td>\n",
       "      <td>0</td>\n",
       "      <td>0</td>\n",
       "      <td>0</td>\n",
       "      <td>0</td>\n",
       "      <td>0</td>\n",
       "      <td>0</td>\n",
       "      <td>0</td>\n",
       "      <td>0</td>\n",
       "      <td>...</td>\n",
       "      <td>0.0</td>\n",
       "      <td>0.0</td>\n",
       "      <td>0.0</td>\n",
       "      <td>0.0</td>\n",
       "      <td>0.0</td>\n",
       "      <td>0</td>\n",
       "      <td>0</td>\n",
       "      <td>0</td>\n",
       "      <td>0</td>\n",
       "      <td>0</td>\n",
       "    </tr>\n",
       "    <tr>\n",
       "      <th>1</th>\n",
       "      <td>6</td>\n",
       "      <td>0</td>\n",
       "      <td>0</td>\n",
       "      <td>0</td>\n",
       "      <td>0</td>\n",
       "      <td>0</td>\n",
       "      <td>0</td>\n",
       "      <td>0</td>\n",
       "      <td>0</td>\n",
       "      <td>0</td>\n",
       "      <td>...</td>\n",
       "      <td>0.0</td>\n",
       "      <td>0.0</td>\n",
       "      <td>0.0</td>\n",
       "      <td>0.0</td>\n",
       "      <td>0.0</td>\n",
       "      <td>0</td>\n",
       "      <td>0</td>\n",
       "      <td>0</td>\n",
       "      <td>0</td>\n",
       "      <td>0</td>\n",
       "    </tr>\n",
       "    <tr>\n",
       "      <th>2</th>\n",
       "      <td>1</td>\n",
       "      <td>0</td>\n",
       "      <td>0</td>\n",
       "      <td>0</td>\n",
       "      <td>0</td>\n",
       "      <td>0</td>\n",
       "      <td>0</td>\n",
       "      <td>0</td>\n",
       "      <td>0</td>\n",
       "      <td>0</td>\n",
       "      <td>...</td>\n",
       "      <td>0.0</td>\n",
       "      <td>0.0</td>\n",
       "      <td>0.0</td>\n",
       "      <td>0.0</td>\n",
       "      <td>0.0</td>\n",
       "      <td>0</td>\n",
       "      <td>0</td>\n",
       "      <td>0</td>\n",
       "      <td>0</td>\n",
       "      <td>0</td>\n",
       "    </tr>\n",
       "    <tr>\n",
       "      <th>3</th>\n",
       "      <td>0</td>\n",
       "      <td>0</td>\n",
       "      <td>0</td>\n",
       "      <td>0</td>\n",
       "      <td>0</td>\n",
       "      <td>0</td>\n",
       "      <td>0</td>\n",
       "      <td>0</td>\n",
       "      <td>0</td>\n",
       "      <td>0</td>\n",
       "      <td>...</td>\n",
       "      <td>0.0</td>\n",
       "      <td>0.0</td>\n",
       "      <td>0.0</td>\n",
       "      <td>0.0</td>\n",
       "      <td>0.0</td>\n",
       "      <td>0</td>\n",
       "      <td>0</td>\n",
       "      <td>0</td>\n",
       "      <td>0</td>\n",
       "      <td>0</td>\n",
       "    </tr>\n",
       "    <tr>\n",
       "      <th>4</th>\n",
       "      <td>5</td>\n",
       "      <td>0</td>\n",
       "      <td>0</td>\n",
       "      <td>0</td>\n",
       "      <td>0</td>\n",
       "      <td>0</td>\n",
       "      <td>0</td>\n",
       "      <td>0</td>\n",
       "      <td>0</td>\n",
       "      <td>0</td>\n",
       "      <td>...</td>\n",
       "      <td>0.0</td>\n",
       "      <td>0.0</td>\n",
       "      <td>0.0</td>\n",
       "      <td>0.0</td>\n",
       "      <td>0.0</td>\n",
       "      <td>0</td>\n",
       "      <td>0</td>\n",
       "      <td>0</td>\n",
       "      <td>0</td>\n",
       "      <td>0</td>\n",
       "    </tr>\n",
       "  </tbody>\n",
       "</table>\n",
       "<p>5 rows × 785 columns</p>\n",
       "</div>"
      ],
      "text/plain": [
       "   label  pixel0  pixel1  pixel2  pixel3  pixel4  pixel5  pixel6  pixel7  \\\n",
       "0      8       0       0       0       0       0       0       0       0   \n",
       "1      6       0       0       0       0       0       0       0       0   \n",
       "2      1       0       0       0       0       0       0       0       0   \n",
       "3      0       0       0       0       0       0       0       0       0   \n",
       "4      5       0       0       0       0       0       0       0       0   \n",
       "\n",
       "   pixel8    ...     pixel774  pixel775  pixel776  pixel777  pixel778  \\\n",
       "0       0    ...          0.0       0.0       0.0       0.0       0.0   \n",
       "1       0    ...          0.0       0.0       0.0       0.0       0.0   \n",
       "2       0    ...          0.0       0.0       0.0       0.0       0.0   \n",
       "3       0    ...          0.0       0.0       0.0       0.0       0.0   \n",
       "4       0    ...          0.0       0.0       0.0       0.0       0.0   \n",
       "\n",
       "   pixel779  pixel780  pixel781  pixel782  pixel783  \n",
       "0         0         0         0         0         0  \n",
       "1         0         0         0         0         0  \n",
       "2         0         0         0         0         0  \n",
       "3         0         0         0         0         0  \n",
       "4         0         0         0         0         0  \n",
       "\n",
       "[5 rows x 785 columns]"
      ]
     },
     "execution_count": 8,
     "metadata": {},
     "output_type": "execute_result"
    }
   ],
   "source": [
    "digits.head()"
   ]
  },
  {
   "cell_type": "code",
   "execution_count": 43,
   "metadata": {
    "collapsed": false
   },
   "outputs": [],
   "source": [
    "rows = digits.shape[0]\n",
    "cols = digits.shape[1]"
   ]
  },
  {
   "cell_type": "code",
   "execution_count": 68,
   "metadata": {
    "collapsed": false
   },
   "outputs": [],
   "source": [
    "indices = np.random.permutation(digits.shape[0])\n",
    "train_idx, test_idx = indices[:int(rows*.9)], indices[int(rows*.9):]"
   ]
  },
  {
   "cell_type": "code",
   "execution_count": 142,
   "metadata": {
    "collapsed": false
   },
   "outputs": [
    {
     "name": "stdout",
     "output_type": "stream",
     "text": [
      "(7560, 785)\n",
      "(840, 785)\n"
     ]
    }
   ],
   "source": [
    "train, test = digits.ix[training_idx,:], digits.ix[test_idx,:]\n",
    "print(train.shape)\n",
    "print(test.shape)"
   ]
  },
  {
   "cell_type": "code",
   "execution_count": 171,
   "metadata": {
    "collapsed": false
   },
   "outputs": [],
   "source": [
    "trainY=train[\"label\"]\n",
    "trainX=train.ix[:,1:,]\n",
    "testY=test[\"label\"]\n",
    "testX=test.ix[:,1:,]"
   ]
  },
  {
   "cell_type": "code",
   "execution_count": 172,
   "metadata": {
    "collapsed": false
   },
   "outputs": [
    {
     "data": {
      "text/plain": [
       "numpy.ndarray"
      ]
     },
     "execution_count": 172,
     "metadata": {},
     "output_type": "execute_result"
    }
   ],
   "source": [
    "#trainY.as_matrix() convert a pandas dataframe to an array\n",
    "#pd.get_dummies convert a numpy array to one-hot dataframe\n",
    "\n",
    "trainY = pd.get_dummies(trainY.as_matrix()).as_matrix()\n",
    "testY = pd.get_dummies(testY.as_matrix()).as_matrix()\n",
    "trainX=trainX.as_matrix()\n",
    "testX=testX.as_matrix()\n",
    "type(trainY)"
   ]
  },
  {
   "cell_type": "code",
   "execution_count": 173,
   "metadata": {
    "collapsed": false
   },
   "outputs": [
    {
     "data": {
      "text/plain": [
       "array([[0, 1, 0, ..., 0, 0, 0],\n",
       "       [0, 1, 0, ..., 0, 0, 0],\n",
       "       [0, 0, 0, ..., 1, 0, 0],\n",
       "       ..., \n",
       "       [0, 0, 0, ..., 0, 1, 0],\n",
       "       [0, 0, 0, ..., 0, 1, 0],\n",
       "       [0, 0, 0, ..., 0, 0, 0]], dtype=uint8)"
      ]
     },
     "execution_count": 173,
     "metadata": {},
     "output_type": "execute_result"
    }
   ],
   "source": [
    "trainY"
   ]
  },
  {
   "cell_type": "code",
   "execution_count": 175,
   "metadata": {
    "collapsed": false
   },
   "outputs": [
    {
     "data": {
      "image/png": "[encoded data removed]",
      "text/plain": [
       "<matplotlib.figure.Figure at 0x180b1193828>"
      ]
     },
     "metadata": {
      "image/png": {
       "height": 263,
       "width": 253
      }
     },
     "output_type": "display_data"
    },
    {
     "data": {
      "image/png": "[encoded data removed]",
      "text/plain": [
       "<matplotlib.figure.Figure at 0x180b13107f0>"
      ]
     },
     "metadata": {
      "image/png": {
       "height": 263,
       "width": 253
      }
     },
     "output_type": "display_data"
    }
   ],
   "source": [
    "# Visualizing the data\n",
    "import matplotlib.pyplot as plt\n",
    "%matplotlib inline\n",
    "\n",
    "# Function for displaying a training image by it's index in the MNIST set\n",
    "def display_digit(index): \n",
    "  \n",
    "    label =  trainY[index].argmax(axis=0)\n",
    "        # Reshape 784 array into 28x28 image\n",
    "    image = trainX[index].reshape([28,28])\n",
    "    plt.title('Training data, index: %d,  Label: %d' % (index, label))\n",
    "    plt.imshow(image, cmap='gray_r')\n",
    "    plt.show()\n",
    "    \n",
    "# Display the first (index 0) training image\n",
    "display_digit(1)\n",
    "display_digit(1000)"
   ]
  },
  {
   "cell_type": "code",
   "execution_count": 176,
   "metadata": {
    "collapsed": false
   },
   "outputs": [],
   "source": [
    "# Define the neural network\n",
    "def build_model():\n",
    "    # This resets all parameters and variables, leave this here\n",
    "    tf.reset_default_graph()\n",
    "    \n",
    "    # Inputs\n",
    "    net = tflearn.input_data([None, trainX.shape[1]])\n",
    "\n",
    "    # Hidden layer(s)\n",
    "    net = tflearn.fully_connected(net, 128, activation='ReLU')\n",
    "    net = tflearn.fully_connected(net, 32, activation='ReLU')\n",
    "    \n",
    "    # Output layer and training model\n",
    "    net = tflearn.fully_connected(net, 10, activation='softmax')\n",
    "    net = tflearn.regression(net, optimizer='sgd', learning_rate=0.01, loss='categorical_crossentropy')\n",
    "    \n",
    "    model = tflearn.DNN(net)\n",
    "    return model"
   ]
  },
  {
   "cell_type": "code",
   "execution_count": 177,
   "metadata": {
    "collapsed": false
   },
   "outputs": [],
   "source": [
    "# Build the model\n",
    "model = build_model()"
   ]
  },
  {
   "cell_type": "code",
   "execution_count": 178,
   "metadata": {
    "collapsed": false
   },
   "outputs": [
    {
     "name": "stdout",
     "output_type": "stream",
     "text": [
      "Training Step: 6899  | total loss: \u001b[1m\u001b[32m1.05913\u001b[0m\u001b[0m | time: 0.694s\n",
      "| SGD | epoch: 100 | loss: 1.05913 - acc: 0.8111 -- iter: 6800/6804\n",
      "Training Step: 6900  | total loss: \u001b[1m\u001b[32m0.98092\u001b[0m\u001b[0m | time: 1.707s\n",
      "| SGD | epoch: 100 | loss: 0.98092 - acc: 0.8250 | val_loss: 0.38541 - val_acc: 0.8823 -- iter: 6804/6804\n",
      "--\n"
     ]
    }
   ],
   "source": [
    "# Training\n",
    "model.fit(trainX, trainY, validation_set=0.1, show_metric=True, batch_size=100, n_epoch=100)"
   ]
  },
  {
   "cell_type": "code",
   "execution_count": 179,
   "metadata": {
    "collapsed": false
   },
   "outputs": [
    {
     "name": "stdout",
     "output_type": "stream",
     "text": [
      "Test accuracy:  0.89880952381\n"
     ]
    }
   ],
   "source": [
    "# Compare the labels that our model predicts with the actual labels\n",
    "\n",
    "# Find the indices of the most confident prediction for each item. That tells us the predicted digit for that sample.\n",
    "predictions = np.array(model.predict(testX)).argmax(axis=1)\n",
    "\n",
    "# Calculate the accuracy, which is the percentage of times the predicated labels matched the actual labels\n",
    "actual = testY.argmax(axis=1)\n",
    "test_accuracy = np.mean(predictions == actual, axis=0)\n",
    "\n",
    "# Print out the result\n",
    "print(\"Test accuracy: \", test_accuracy)"
   ]
  },
  {
   "cell_type": "code",
   "execution_count": 180,
   "metadata": {
    "collapsed": false
   },
   "outputs": [
    {
     "data": {
      "text/plain": [
       "array([3, 0, 6, 1, 4, 1, 8, 4, 2, 0, 8, 3, 9, 9, 9, 8, 5, 5, 3, 3, 0, 3, 4,\n",
       "       5, 5, 5, 9, 0, 0, 7, 8, 6, 5, 0, 2, 7, 8, 2, 0, 9, 2, 7, 1, 6, 9, 5,\n",
       "       2, 6, 4, 0, 9, 2, 3, 9, 6, 4, 9, 0, 2, 0, 6, 0, 5, 2, 6, 2, 6, 6, 2,\n",
       "       3, 4, 7, 8, 7, 4, 6, 1, 0, 5, 3, 9, 0, 1, 9, 7, 5, 2, 7, 4, 1, 1, 6,\n",
       "       2, 6, 9, 3, 6, 2, 7, 7, 4, 7, 5, 6, 3, 1, 8, 4, 5, 8, 0, 3, 1, 6, 8,\n",
       "       5, 2, 6, 3, 0, 9, 0, 7, 8, 7, 0, 6, 7, 9, 7, 4, 4, 3, 4, 9, 6, 4, 2,\n",
       "       6, 1, 8, 1, 0, 0, 8, 0, 1, 1, 0, 8, 7, 0, 5, 0, 3, 4, 7, 9, 3, 5, 0,\n",
       "       3, 2, 4, 8, 1, 1, 4, 5, 9, 8, 2, 1, 1, 1, 7, 1, 7, 4, 2, 7, 6, 9, 7,\n",
       "       9, 3, 5, 7, 6, 0, 7, 1, 0, 7, 3, 2, 6, 0, 4, 7, 8, 3, 6, 6, 5, 3, 4,\n",
       "       1, 4, 7, 6, 0, 1, 7, 8, 0, 0, 1, 6, 7, 7, 7, 5, 6, 7, 3, 5, 4, 5, 4,\n",
       "       2, 3, 1, 3, 3, 7, 5, 5, 9, 7, 2, 0, 4, 4, 2, 1, 3, 1, 8, 9, 3, 3, 4,\n",
       "       6, 3, 2, 8, 8, 0, 5, 8, 6, 5, 1, 3, 7, 5, 4, 8, 5, 7, 7, 2, 3, 3, 4,\n",
       "       9, 2, 3, 5, 3, 5, 9, 9, 1, 8, 8, 8, 4, 1, 4, 7, 4, 8, 8, 3, 1, 0, 5,\n",
       "       3, 0, 7, 7, 0, 7, 7, 4, 4, 4, 7, 6, 0, 1, 7, 6, 1, 1, 8, 4, 4, 9, 1,\n",
       "       4, 8, 3, 3, 2, 9, 7, 5, 5, 2, 2, 5, 2, 6, 1, 6, 6, 1, 6, 4, 8, 8, 4,\n",
       "       2, 1, 5, 0, 6, 5, 2, 8, 1, 2, 0, 4, 3, 4, 6, 6, 2, 1, 6, 7, 3, 4, 3,\n",
       "       8, 7, 9, 0, 5, 3, 7, 6, 2, 0, 6, 5, 7, 4, 4, 0, 2, 3, 3, 5, 7, 6, 5,\n",
       "       8, 7, 4, 4, 0, 9, 2, 1, 8, 2, 8, 0, 7, 7, 9, 9, 9, 6, 3, 9, 9, 2, 1,\n",
       "       9, 5, 3, 1, 6, 0, 0, 1, 7, 0, 1, 9, 7, 9, 6, 3, 9, 7, 7, 8, 1, 1, 1,\n",
       "       8, 4, 3, 7, 2, 3, 8, 8, 6, 4, 5, 6, 9, 7, 8, 8, 3, 6, 6, 6, 7, 0, 6,\n",
       "       8, 9, 1, 1, 9, 7, 5, 8, 3, 2, 6, 5, 7, 3, 8, 2, 8, 9, 0, 6, 0, 2, 2,\n",
       "       6, 2, 7, 3, 5, 4, 7, 4, 8, 2, 5, 7, 3, 8, 7, 0, 8, 0, 4, 5, 8, 1, 1,\n",
       "       2, 0, 7, 7, 1, 7, 9, 5, 5, 8, 4, 7, 7, 9, 3, 0, 5, 3, 8, 0, 8, 3, 7,\n",
       "       7, 3, 9, 7, 3, 9, 7, 3, 8, 5, 4, 0, 0, 4, 8, 9, 8, 5, 5, 8, 4, 8, 8,\n",
       "       9, 3, 1, 6, 7, 8, 7, 1, 7, 2, 1, 4, 4, 6, 0, 0, 9, 2, 8, 3, 0, 2, 9,\n",
       "       8, 1, 9, 5, 0, 4, 2, 9, 3, 7, 6, 9, 4, 5, 9, 2, 1, 3, 2, 0, 1, 5, 4,\n",
       "       0, 1, 1, 9, 6, 9, 4, 3, 9, 3, 1, 1, 4, 7, 8, 3, 6, 9, 9, 2, 8, 0, 7,\n",
       "       1, 9, 1, 7, 0, 0, 6, 2, 1, 5, 8, 7, 4, 9, 3, 2, 8, 2, 4, 8, 9, 3, 2,\n",
       "       2, 1, 3, 1, 6, 1, 2, 9, 0, 8, 2, 5, 1, 0, 4, 1, 1, 9, 0, 7, 2, 8, 7,\n",
       "       6, 7, 1, 9, 8, 0, 9, 4, 5, 5, 4, 8, 7, 0, 8, 9, 1, 9, 9, 9, 6, 8, 7,\n",
       "       9, 5, 5, 6, 2, 3, 2, 8, 1, 2, 9, 8, 5, 8, 6, 8, 6, 6, 7, 8, 7, 4, 1,\n",
       "       0, 4, 9, 1, 1, 1, 0, 1, 6, 3, 8, 3, 4, 1, 7, 0, 6, 0, 1, 2, 9, 8, 7,\n",
       "       6, 4, 6, 8, 6, 7, 5, 2, 5, 9, 6, 0, 7, 5, 7, 3, 0, 8, 7, 9, 1, 3, 7,\n",
       "       7, 0, 2, 2, 8, 0, 1, 3, 9, 6, 7, 3, 5, 4, 9, 8, 4, 9, 7, 2, 0, 1, 1,\n",
       "       8, 7, 2, 1, 1, 8, 4, 2, 9, 0, 5, 7, 9, 0, 4, 9, 8, 0, 2, 0, 1, 6, 1,\n",
       "       7, 1, 4, 7, 4, 7, 5, 8, 1, 3, 2, 0, 1, 2, 9, 8, 7, 4, 7, 4, 0, 0, 7,\n",
       "       1, 5, 9, 4, 1, 9, 9, 4, 0, 6, 6, 4], dtype=int64)"
      ]
     },
     "execution_count": 180,
     "metadata": {},
     "output_type": "execute_result"
    }
   ],
   "source": [
    "predictions"
   ]
  },
  {
   "cell_type": "code",
   "execution_count": 182,
   "metadata": {
    "collapsed": false
   },
   "outputs": [
    {
     "data": {
      "text/plain": [
       "array([3, 0, 6, 1, 4, 1, 8, 4, 2, 0, 8, 3, 9, 9, 9, 8, 5, 5, 3, 3, 0, 3, 4,\n",
       "       5, 5, 5, 9, 0, 0, 7, 8, 6, 5, 0, 2, 7, 8, 2, 4, 9, 2, 7, 1, 6, 9, 5,\n",
       "       2, 6, 4, 0, 9, 2, 3, 9, 6, 4, 9, 0, 3, 0, 4, 0, 3, 6, 6, 2, 6, 6, 2,\n",
       "       3, 4, 7, 8, 7, 4, 6, 1, 0, 5, 3, 1, 0, 1, 9, 7, 5, 3, 7, 4, 1, 1, 6,\n",
       "       2, 6, 9, 3, 6, 2, 7, 7, 4, 7, 8, 6, 3, 1, 8, 4, 5, 8, 0, 2, 8, 6, 3,\n",
       "       5, 2, 6, 3, 0, 9, 0, 7, 8, 7, 0, 6, 7, 9, 7, 4, 4, 3, 4, 9, 6, 4, 2,\n",
       "       6, 3, 8, 1, 0, 0, 8, 0, 1, 1, 5, 5, 7, 0, 5, 0, 3, 4, 9, 1, 3, 5, 0,\n",
       "       3, 2, 4, 8, 1, 1, 4, 5, 9, 8, 2, 1, 1, 1, 7, 1, 7, 4, 2, 7, 6, 9, 7,\n",
       "       9, 3, 5, 9, 6, 0, 7, 1, 0, 7, 3, 5, 6, 0, 7, 7, 8, 3, 6, 6, 5, 3, 4,\n",
       "       1, 4, 7, 6, 0, 1, 7, 5, 0, 0, 1, 6, 7, 7, 9, 5, 5, 7, 3, 8, 9, 5, 4,\n",
       "       2, 3, 1, 3, 3, 7, 5, 5, 9, 7, 2, 0, 4, 4, 2, 1, 3, 1, 8, 9, 3, 3, 4,\n",
       "       6, 3, 2, 8, 8, 0, 5, 8, 6, 5, 1, 3, 7, 5, 4, 8, 5, 7, 7, 2, 3, 3, 4,\n",
       "       9, 2, 3, 3, 3, 5, 9, 9, 1, 8, 3, 8, 4, 2, 4, 7, 4, 8, 5, 3, 1, 0, 5,\n",
       "       3, 0, 7, 7, 0, 7, 7, 4, 6, 4, 7, 6, 0, 1, 7, 6, 1, 1, 8, 4, 4, 9, 1,\n",
       "       4, 9, 3, 3, 2, 4, 7, 5, 5, 2, 2, 5, 2, 6, 1, 6, 6, 1, 6, 4, 3, 8, 4,\n",
       "       2, 1, 5, 0, 6, 5, 2, 8, 1, 2, 6, 5, 3, 4, 2, 8, 2, 1, 6, 7, 3, 4, 3,\n",
       "       8, 7, 4, 0, 5, 3, 7, 5, 2, 0, 6, 5, 7, 4, 4, 0, 2, 3, 3, 5, 7, 6, 5,\n",
       "       0, 7, 4, 4, 0, 9, 2, 1, 8, 4, 3, 0, 7, 7, 9, 9, 9, 6, 3, 9, 9, 2, 1,\n",
       "       9, 5, 3, 1, 6, 0, 0, 1, 7, 0, 1, 4, 7, 9, 6, 3, 9, 7, 7, 8, 1, 1, 1,\n",
       "       8, 9, 3, 7, 2, 8, 8, 8, 2, 4, 5, 5, 9, 7, 8, 9, 3, 8, 6, 6, 7, 0, 6,\n",
       "       8, 9, 1, 1, 9, 9, 3, 8, 3, 2, 6, 5, 7, 5, 8, 2, 5, 9, 0, 5, 0, 2, 2,\n",
       "       2, 2, 7, 3, 5, 9, 7, 4, 8, 2, 5, 7, 3, 8, 7, 0, 8, 0, 4, 5, 8, 1, 1,\n",
       "       2, 0, 7, 9, 1, 7, 9, 5, 5, 8, 5, 7, 7, 9, 3, 0, 5, 3, 8, 0, 8, 3, 7,\n",
       "       7, 3, 9, 2, 3, 9, 7, 3, 8, 5, 4, 0, 0, 4, 8, 9, 8, 5, 0, 8, 4, 8, 8,\n",
       "       4, 3, 2, 2, 7, 8, 7, 1, 7, 2, 1, 4, 4, 6, 0, 0, 9, 2, 8, 3, 0, 2, 8,\n",
       "       5, 1, 9, 3, 0, 4, 2, 9, 3, 7, 6, 9, 4, 8, 9, 2, 1, 2, 2, 0, 1, 5, 4,\n",
       "       0, 1, 1, 9, 6, 9, 4, 3, 9, 3, 1, 1, 4, 7, 8, 3, 6, 9, 9, 2, 5, 0, 3,\n",
       "       7, 9, 1, 7, 0, 0, 6, 2, 1, 5, 8, 7, 9, 9, 3, 2, 8, 2, 4, 9, 9, 3, 2,\n",
       "       2, 1, 3, 1, 6, 1, 6, 9, 0, 8, 2, 5, 1, 0, 4, 1, 1, 9, 0, 7, 2, 8, 7,\n",
       "       6, 7, 1, 9, 8, 0, 9, 4, 5, 5, 4, 8, 7, 0, 8, 8, 1, 4, 9, 9, 6, 8, 7,\n",
       "       9, 5, 5, 5, 2, 5, 2, 8, 1, 2, 7, 8, 5, 8, 2, 8, 6, 6, 7, 8, 7, 4, 1,\n",
       "       0, 0, 9, 1, 1, 1, 0, 1, 6, 3, 8, 3, 4, 1, 3, 0, 6, 0, 1, 1, 9, 8, 7,\n",
       "       6, 4, 6, 8, 6, 7, 5, 8, 5, 9, 6, 0, 7, 5, 7, 3, 0, 8, 7, 9, 1, 3, 7,\n",
       "       7, 0, 2, 2, 8, 0, 1, 3, 9, 6, 7, 5, 5, 4, 9, 8, 4, 9, 7, 2, 0, 1, 1,\n",
       "       8, 7, 2, 1, 1, 8, 4, 2, 9, 0, 5, 7, 9, 0, 4, 9, 8, 0, 2, 0, 1, 6, 1,\n",
       "       9, 1, 4, 7, 4, 7, 5, 8, 1, 3, 2, 0, 1, 2, 9, 8, 7, 4, 7, 4, 0, 0, 7,\n",
       "       1, 5, 9, 4, 1, 9, 9, 4, 0, 6, 6, 4], dtype=int64)"
      ]
     },
     "execution_count": 182,
     "metadata": {},
     "output_type": "execute_result"
    }
   ],
   "source": [
    "actual"
   ]
  },
  {
   "cell_type": "code",
   "execution_count": 183,
   "metadata": {
    "collapsed": false
   },
   "outputs": [
    {
     "data": {
      "text/plain": [
       "array([[84,  0,  0,  0,  1,  1,  0,  0,  1,  0],\n",
       "       [ 0, 89,  1,  0,  0,  0,  0,  0,  0,  2],\n",
       "       [ 0,  2, 66,  2,  0,  0,  5,  1,  0,  0],\n",
       "       [ 0,  1,  2, 71,  0,  4,  0,  2,  4,  0],\n",
       "       [ 1,  0,  1,  0, 73,  0,  1,  0,  0,  5],\n",
       "       [ 1,  0,  1,  3,  2, 61,  5,  0,  6,  0],\n",
       "       [ 1,  0,  2,  0,  1,  0, 64,  0,  0,  0],\n",
       "       [ 0,  1,  0,  0,  1,  0,  0, 97,  0,  1],\n",
       "       [ 0,  1,  1,  1,  0,  3,  2,  0, 75,  2],\n",
       "       [ 0,  0,  0,  0,  4,  0,  0,  6,  3, 75]])"
      ]
     },
     "execution_count": 183,
     "metadata": {},
     "output_type": "execute_result"
    }
   ],
   "source": [
    "from sklearn.metrics import confusion_matrix\n",
    "confusion_matrix(actual, predictions)"
   ]
  },
  {
   "cell_type": "code",
   "execution_count": 186,
   "metadata": {
    "collapsed": false
   },
   "outputs": [
    {
     "name": "stdout",
     "output_type": "stream",
     "text": [
      "             precision    recall  f1-score   support\n",
      "\n",
      "    class 0       0.97      0.97      0.97        87\n",
      "    class 1       0.95      0.97      0.96        92\n",
      "    class 2       0.89      0.87      0.88        76\n",
      "    class 3       0.92      0.85      0.88        84\n",
      "    class 4       0.89      0.90      0.90        81\n",
      "    class 5       0.88      0.77      0.82        79\n",
      "    class 6       0.83      0.94      0.88        68\n",
      "    class 7       0.92      0.97      0.94       100\n",
      "    class 8       0.84      0.88      0.86        85\n",
      "    class 9       0.88      0.85      0.87        88\n",
      "\n",
      "avg / total       0.90      0.90      0.90       840\n",
      "\n"
     ]
    }
   ],
   "source": [
    "from sklearn.metrics import classification_report\n",
    "target_names = [\"class \"+ str(i) for i in range(10)]\n",
    "print(classification_report(actual, predictions, target_names=target_names))"
   ]
  },
  {
   "cell_type": "code",
   "execution_count": null,
   "metadata": {
    "collapsed": true
   },
   "outputs": [],
   "source": []
  }
 ],
 "metadata": {
  "kernelspec": {
   "display_name": "Python [conda env:tflearn]",
   "language": "python",
   "name": "conda-env-tflearn-py"
  },
  "language_info": {
   "codemirror_mode": {
    "name": "ipython",
    "version": 3
   },
   "file_extension": ".py",
   "mimetype": "text/x-python",
   "name": "python",
   "nbconvert_exporter": "python",
   "pygments_lexer": "ipython3",
   "version": "3.5.2"
  }
 },
 "nbformat": 4,
 "nbformat_minor": 1
}
