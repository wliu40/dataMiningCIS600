{
 "cells": [
  {
   "cell_type": "code",
   "execution_count": 1,
   "metadata": {
    "collapsed": true
   },
   "outputs": [],
   "source": [
    "library(rJava)\n",
    "library(RWeka)"
   ]
  },
  {
   "cell_type": "code",
   "execution_count": 2,
   "metadata": {
    "collapsed": false
   },
   "outputs": [
    {
     "data": {
      "text/html": [
       "<table>\n",
       "<thead><tr><th scope=col>age</th><th scope=col>workclass</th><th scope=col>education</th><th scope=col>marital.status</th><th scope=col>occupation</th><th scope=col>relationship</th><th scope=col>race</th><th scope=col>sex</th><th scope=col>capital.gain</th><th scope=col>capital.loss</th><th scope=col>hours.per.week</th><th scope=col>native.country</th><th scope=col>income</th></tr></thead>\n",
       "<tbody>\n",
       "\t<tr><td>59                                                        </td><td><span style=white-space:pre-wrap> Private         </span> </td><td> Some-college                                             </td><td> Married-civ-spouse                                       </td><td><span style=white-space:pre-wrap> Adm-clerical     </span></td><td> Other-relative                                           </td><td> White                                                    </td><td> Female                                                   </td><td><span style=white-space:pre-wrap>    0</span>             </td><td>0                                                         </td><td>16                                                        </td><td> United-States                                            </td><td> &gt;50K                                                  </td></tr>\n",
       "\t<tr><td>21                                                         </td><td><span style=white-space:pre-wrap> Private         </span>  </td><td> Some-college                                              </td><td><span style=white-space:pre-wrap> Never-married     </span></td><td><span style=white-space:pre-wrap> Adm-clerical     </span> </td><td><span style=white-space:pre-wrap> Own-child     </span>    </td><td> Black                                                     </td><td><span style=white-space:pre-wrap> Male  </span>            </td><td><span style=white-space:pre-wrap>    0</span>              </td><td>0                                                          </td><td>50                                                         </td><td> United-States                                             </td><td> &lt;=50K                                                  </td></tr>\n",
       "\t<tr><td>38                                                         </td><td><span style=white-space:pre-wrap> Private         </span>  </td><td><span style=white-space:pre-wrap> Bachelors   </span>      </td><td><span style=white-space:pre-wrap> Divorced          </span></td><td><span style=white-space:pre-wrap> Prof-specialty   </span> </td><td><span style=white-space:pre-wrap> Unmarried     </span>    </td><td> Black                                                     </td><td> Female                                                    </td><td>15020                                                      </td><td>0                                                          </td><td>45                                                         </td><td> United-States                                             </td><td> &gt;50K                                                   </td></tr>\n",
       "\t<tr><td>33                                                       </td><td><span style=white-space:pre-wrap> Private         </span></td><td> Some-college                                            </td><td> Married-civ-spouse                                      </td><td> Handlers-cleaners                                       </td><td><span style=white-space:pre-wrap> Husband       </span>  </td><td> White                                                   </td><td><span style=white-space:pre-wrap> Male  </span>          </td><td><span style=white-space:pre-wrap>    0</span>            </td><td>0                                                        </td><td>50                                                       </td><td> United-States                                           </td><td> &gt;50K                                                 </td></tr>\n",
       "\t<tr><td>52                                                        </td><td> Self-emp-not-inc                                         </td><td><span style=white-space:pre-wrap> HS-grad     </span>     </td><td> Married-civ-spouse                                       </td><td><span style=white-space:pre-wrap> Farming-fishing  </span></td><td><span style=white-space:pre-wrap> Husband       </span>   </td><td> White                                                    </td><td><span style=white-space:pre-wrap> Male  </span>           </td><td><span style=white-space:pre-wrap>    0</span>             </td><td>0                                                         </td><td>98                                                        </td><td> United-States                                            </td><td> &gt;50K                                                  </td></tr>\n",
       "\t<tr><td>42                                                        </td><td><span style=white-space:pre-wrap> Federal-gov     </span> </td><td><span style=white-space:pre-wrap> Bachelors   </span>     </td><td> Married-civ-spouse                                       </td><td><span style=white-space:pre-wrap> Exec-managerial  </span></td><td><span style=white-space:pre-wrap> Husband       </span>   </td><td> White                                                    </td><td><span style=white-space:pre-wrap> Male  </span>           </td><td> 7298                                                     </td><td>0                                                         </td><td>50                                                        </td><td> United-States                                            </td><td> &gt;50K                                                  </td></tr>\n",
       "</tbody>\n",
       "</table>\n"
      ],
      "text/latex": [
       "\\begin{tabular}{r|lllllllllllll}\n",
       " age & workclass & education & marital.status & occupation & relationship & race & sex & capital.gain & capital.loss & hours.per.week & native.country & income\\\\\n",
       "\\hline\n",
       "\t 59                  &  Private            &  Some-college       &  Married-civ-spouse &  Adm-clerical       &  Other-relative     &  White              &  Female             &     0               & 0                   & 16                  &  United-States      &  >50K              \\\\\n",
       "\t 21                  &  Private            &  Some-college       &  Never-married      &  Adm-clerical       &  Own-child          &  Black              &  Male               &     0               & 0                   & 50                  &  United-States      &  <=50K             \\\\\n",
       "\t 38                  &  Private            &  Bachelors          &  Divorced           &  Prof-specialty     &  Unmarried          &  Black              &  Female             & 15020               & 0                   & 45                  &  United-States      &  >50K              \\\\\n",
       "\t 33                  &  Private            &  Some-college       &  Married-civ-spouse &  Handlers-cleaners  &  Husband            &  White              &  Male               &     0               & 0                   & 50                  &  United-States      &  >50K              \\\\\n",
       "\t 52                  &  Self-emp-not-inc   &  HS-grad            &  Married-civ-spouse &  Farming-fishing    &  Husband            &  White              &  Male               &     0               & 0                   & 98                  &  United-States      &  >50K              \\\\\n",
       "\t 42                  &  Federal-gov        &  Bachelors          &  Married-civ-spouse &  Exec-managerial    &  Husband            &  White              &  Male               &  7298               & 0                   & 50                  &  United-States      &  >50K              \\\\\n",
       "\\end{tabular}\n"
      ],
      "text/markdown": [
       "\n",
       "age | workclass | education | marital.status | occupation | relationship | race | sex | capital.gain | capital.loss | hours.per.week | native.country | income | \n",
       "|---|---|---|---|---|---|\n",
       "| 59                  |  Private            |  Some-college       |  Married-civ-spouse |  Adm-clerical       |  Other-relative     |  White              |  Female             |     0               | 0                   | 16                  |  United-States      |  >50K               | \n",
       "| 21                  |  Private            |  Some-college       |  Never-married      |  Adm-clerical       |  Own-child          |  Black              |  Male               |     0               | 0                   | 50                  |  United-States      |  <=50K              | \n",
       "| 38                  |  Private            |  Bachelors          |  Divorced           |  Prof-specialty     |  Unmarried          |  Black              |  Female             | 15020               | 0                   | 45                  |  United-States      |  >50K               | \n",
       "| 33                  |  Private            |  Some-college       |  Married-civ-spouse |  Handlers-cleaners  |  Husband            |  White              |  Male               |     0               | 0                   | 50                  |  United-States      |  >50K               | \n",
       "| 52                  |  Self-emp-not-inc   |  HS-grad            |  Married-civ-spouse |  Farming-fishing    |  Husband            |  White              |  Male               |     0               | 0                   | 98                  |  United-States      |  >50K               | \n",
       "| 42                  |  Federal-gov        |  Bachelors          |  Married-civ-spouse |  Exec-managerial    |  Husband            |  White              |  Male               |  7298               | 0                   | 50                  |  United-States      |  >50K               | \n",
       "\n",
       "\n"
      ],
      "text/plain": [
       "  age workclass         education     marital.status      occupation        \n",
       "1 59   Private           Some-college  Married-civ-spouse  Adm-clerical     \n",
       "2 21   Private           Some-college  Never-married       Adm-clerical     \n",
       "3 38   Private           Bachelors     Divorced            Prof-specialty   \n",
       "4 33   Private           Some-college  Married-civ-spouse  Handlers-cleaners\n",
       "5 52   Self-emp-not-inc  HS-grad       Married-civ-spouse  Farming-fishing  \n",
       "6 42   Federal-gov       Bachelors     Married-civ-spouse  Exec-managerial  \n",
       "  relationship    race   sex     capital.gain capital.loss hours.per.week\n",
       "1  Other-relative  White  Female     0        0            16            \n",
       "2  Own-child       Black  Male       0        0            50            \n",
       "3  Unmarried       Black  Female 15020        0            45            \n",
       "4  Husband         White  Male       0        0            50            \n",
       "5  Husband         White  Male       0        0            98            \n",
       "6  Husband         White  Male    7298        0            50            \n",
       "  native.country income\n",
       "1  United-States  >50K \n",
       "2  United-States  <=50K\n",
       "3  United-States  >50K \n",
       "4  United-States  >50K \n",
       "5  United-States  >50K \n",
       "6  United-States  >50K "
      ]
     },
     "metadata": {},
     "output_type": "display_data"
    }
   ],
   "source": [
    "adult.train <- read.csv(\"adult_train.csv\")\n",
    "head(adult.train)"
   ]
  },
  {
   "cell_type": "code",
   "execution_count": 3,
   "metadata": {
    "collapsed": false
   },
   "outputs": [
    {
     "data": {
      "text/plain": [
       "-U      Use unpruned tree.\n",
       "-O      Do not collapse tree.\n",
       "-C <pruning confidence>\n",
       "        Set confidence threshold for pruning.  (default 0.25)\n",
       "\tNumber of arguments: 1.\n",
       "-M <minimum number of instances>\n",
       "        Set minimum number of instances per leaf.  (default 2)\n",
       "\tNumber of arguments: 1.\n",
       "-R      Use reduced error pruning.\n",
       "-N <number of folds>\n",
       "        Set number of folds for reduced error pruning. One fold is used\n",
       "        as pruning set.  (default 3)\n",
       "\tNumber of arguments: 1.\n",
       "-B      Use binary splits only.\n",
       "-S      Do not perform subtree raising.\n",
       "-L      Do not clean up after the tree has been built.\n",
       "-A      Laplace smoothing for predicted probabilities.\n",
       "-J      Do not use MDL correction for info gain on numeric attributes.\n",
       "-Q <seed>\n",
       "        Seed for random data shuffling (default 1).\n",
       "\tNumber of arguments: 1.\n",
       "-doNotMakeSplitPointActualValue\n",
       "        Do not make split point actual value.\n",
       "-output-debug-info\n",
       "        If set, classifier is run in debug mode and may output\n",
       "        additional info to the console\n",
       "-do-not-check-capabilities\n",
       "        If set, classifier capabilities are not checked before\n",
       "        classifier is built (use with caution).\n",
       "-num-decimal-places\n",
       "        The number of decimal places for the output of numbers in the\n",
       "        model (default 2).\n",
       "\tNumber of arguments: 1.\n",
       "-batch-size\n",
       "        The desired batch size for batch prediction (default 100).\n",
       "\tNumber of arguments: 1."
      ]
     },
     "metadata": {},
     "output_type": "display_data"
    }
   ],
   "source": [
    "WOW(J48)"
   ]
  },
  {
   "cell_type": "markdown",
   "metadata": {},
   "source": [
    "### Problem 1\n",
    "Using the adult train dataset, train three decision trees - you can use different\n",
    "hyperparameters or/and learning algorithms.\n",
    "1. Compare the size and depth of the three decision trees.\n",
    "2. Compare the training errors of the three decision trees."
   ]
  },
  {
   "cell_type": "code",
   "execution_count": 4,
   "metadata": {
    "collapsed": false
   },
   "outputs": [],
   "source": [
    "mdl <- J48(income ~ ., data = adult.train)\n",
    "mdl.2 <- J48(income ~ ., data = adult.train, control = Weka_control(M = 10, C = 0.25, B = F, U = F)) # not binary split\n",
    "mdl.3 <- J48(income ~ ., data = adult.train, control = Weka_control(M = 10, C = 0.25, B = T, U = F)) # binary split"
   ]
  },
  {
   "cell_type": "code",
   "execution_count": 5,
   "metadata": {
    "collapsed": false
   },
   "outputs": [
    {
     "name": "stdout",
     "output_type": "stream",
     "text": [
      "J48 pruned tree\n",
      "------------------\n",
      "\n",
      "capital.gain <= 5013\n",
      "|   age <= 27:  <=50K (663.0/51.0)\n",
      "|   age > 27\n",
      "|   |   marital.status =  Divorced\n",
      "|   |   |   hours.per.week <= 43:  <=50K (306.0/47.0)\n",
      "|   |   |   hours.per.week > 43\n",
      "|   |   |   |   workclass =  Federal-gov:  >50K (6.0)\n",
      "|   |   |   |   workclass =  Local-gov:  <=50K (11.0/2.0)\n",
      "|   |   |   |   workclass =  Private\n",
      "|   |   |   |   |   education =  10th:  <=50K (1.0)\n",
      "|   |   |   |   |   education =  11th:  <=50K (1.0)\n",
      "|   |   |   |   |   education =  12th:  >50K (2.0)\n",
      "|   |   |   |   |   education =  1st-4th:  <=50K (0.0)\n",
      "|   |   |   |   |   education =  5th-6th:  <=50K (1.0)\n",
      "|   |   |   |   |   education =  7th-8th:  <=50K (2.0)\n",
      "|   |   |   |   |   education =  9th:  <=50K (0.0)\n",
      "|   |   |   |   |   education =  Assoc-acdm:  <=50K (3.0/1.0)\n",
      "|   |   |   |   |   education =  Assoc-voc:  <=50K (3.0/1.0)\n",
      "|   |   |   |   |   education =  Bachelors:  >50K (20.0/6.0)\n",
      "|   |   |   |   |   education =  Doctorate:  <=50K (0.0)\n",
      "|   |   |   |   |   education =  HS-grad:  <=50K (28.0/6.0)\n",
      "|   |   |   |   |   education =  Masters:  >50K (5.0/1.0)\n",
      "|   |   |   |   |   education =  Preschool:  <=50K (0.0)\n",
      "|   |   |   |   |   education =  Prof-school:  <=50K (0.0)\n",
      "|   |   |   |   |   education =  Some-college:  <=50K (15.0/6.0)\n",
      "|   |   |   |   workclass =  Self-emp-inc\n",
      "|   |   |   |   |   age <= 46:  <=50K (5.0/1.0)\n",
      "|   |   |   |   |   age > 46:  >50K (4.0/1.0)\n",
      "|   |   |   |   workclass =  Self-emp-not-inc:  >50K (13.0/3.0)\n",
      "|   |   |   |   workclass =  State-gov:  <=50K (3.0/1.0)\n",
      "|   |   |   |   workclass =  Without-pay:  <=50K (0.0)\n",
      "|   |   marital.status =  Married-AF-spouse:  >50K (5.0/1.0)\n",
      "|   |   marital.status =  Married-civ-spouse\n",
      "|   |   |   capital.loss <= 1762\n",
      "|   |   |   |   education =  10th\n",
      "|   |   |   |   |   workclass =  Federal-gov:  <=50K (0.0)\n",
      "|   |   |   |   |   workclass =  Local-gov:  <=50K (0.0)\n",
      "|   |   |   |   |   workclass =  Private:  <=50K (22.0/7.0)\n",
      "|   |   |   |   |   workclass =  Self-emp-inc:  <=50K (1.0)\n",
      "|   |   |   |   |   workclass =  Self-emp-not-inc:  >50K (2.0)\n",
      "|   |   |   |   |   workclass =  State-gov:  >50K (2.0)\n",
      "|   |   |   |   |   workclass =  Without-pay:  <=50K (0.0)\n",
      "|   |   |   |   education =  11th:  <=50K (32.0/7.0)\n",
      "|   |   |   |   education =  12th:  <=50K (9.0/4.0)\n",
      "|   |   |   |   education =  1st-4th:  <=50K (4.0/2.0)\n",
      "|   |   |   |   education =  5th-6th:  <=50K (12.0/2.0)\n",
      "|   |   |   |   education =  7th-8th:  <=50K (37.0/8.0)\n",
      "|   |   |   |   education =  9th:  <=50K (19.0/6.0)\n",
      "|   |   |   |   education =  Assoc-acdm:  >50K (56.0/16.0)\n",
      "|   |   |   |   education =  Assoc-voc\n",
      "|   |   |   |   |   race =  Amer-Indian-Eskimo:  <=50K (2.0)\n",
      "|   |   |   |   |   race =  Asian-Pac-Islander:  <=50K (5.0/2.0)\n",
      "|   |   |   |   |   race =  Black\n",
      "|   |   |   |   |   |   age <= 40:  <=50K (3.0)\n",
      "|   |   |   |   |   |   age > 40:  >50K (4.0)\n",
      "|   |   |   |   |   race =  Other:  >50K (0.0)\n",
      "|   |   |   |   |   race =  White:  >50K (74.0/22.0)\n",
      "|   |   |   |   education =  Bachelors:  >50K (379.0/63.0)\n",
      "|   |   |   |   education =  Doctorate:  >50K (37.0/2.0)\n",
      "|   |   |   |   education =  HS-grad\n",
      "|   |   |   |   |   hours.per.week <= 39:  <=50K (67.0/21.0)\n",
      "|   |   |   |   |   hours.per.week > 39\n",
      "|   |   |   |   |   |   race =  Amer-Indian-Eskimo:  <=50K (4.0)\n",
      "|   |   |   |   |   |   race =  Asian-Pac-Islander:  <=50K (14.0/3.0)\n",
      "|   |   |   |   |   |   race =  Black:  <=50K (27.0/13.0)\n",
      "|   |   |   |   |   |   race =  Other:  <=50K (1.0)\n",
      "|   |   |   |   |   |   race =  White\n",
      "|   |   |   |   |   |   |   occupation =  Adm-clerical:  >50K (44.0/11.0)\n",
      "|   |   |   |   |   |   |   occupation =  Armed-Forces:  >50K (0.0)\n",
      "|   |   |   |   |   |   |   occupation =  Craft-repair\n",
      "|   |   |   |   |   |   |   |   age <= 40:  <=50K (45.0/19.0)\n",
      "|   |   |   |   |   |   |   |   age > 40:  >50K (68.0/22.0)\n",
      "|   |   |   |   |   |   |   occupation =  Exec-managerial:  >50K (58.0/8.0)\n",
      "|   |   |   |   |   |   |   occupation =  Farming-fishing\n",
      "|   |   |   |   |   |   |   |   capital.gain <= 1086\n",
      "|   |   |   |   |   |   |   |   |   age <= 36:  <=50K (7.0/1.0)\n",
      "|   |   |   |   |   |   |   |   |   age > 36:  >50K (20.0/8.0)\n",
      "|   |   |   |   |   |   |   |   capital.gain > 1086:  <=50K (2.0)\n",
      "|   |   |   |   |   |   |   occupation =  Handlers-cleaners:  >50K (9.0/2.0)\n",
      "|   |   |   |   |   |   |   occupation =  Machine-op-inspct\n",
      "|   |   |   |   |   |   |   |   relationship =  Husband:  >50K (47.0/20.0)\n",
      "|   |   |   |   |   |   |   |   relationship =  Not-in-family:  >50K (0.0)\n",
      "|   |   |   |   |   |   |   |   relationship =  Other-relative:  >50K (0.0)\n",
      "|   |   |   |   |   |   |   |   relationship =  Own-child:  >50K (0.0)\n",
      "|   |   |   |   |   |   |   |   relationship =  Unmarried:  >50K (0.0)\n",
      "|   |   |   |   |   |   |   |   relationship =  Wife:  <=50K (4.0/1.0)\n",
      "|   |   |   |   |   |   |   occupation =  Other-service\n",
      "|   |   |   |   |   |   |   |   relationship =  Husband:  <=50K (14.0/2.0)\n",
      "|   |   |   |   |   |   |   |   relationship =  Not-in-family:  <=50K (0.0)\n",
      "|   |   |   |   |   |   |   |   relationship =  Other-relative:  <=50K (0.0)\n",
      "|   |   |   |   |   |   |   |   relationship =  Own-child:  <=50K (0.0)\n",
      "|   |   |   |   |   |   |   |   relationship =  Unmarried:  <=50K (0.0)\n",
      "|   |   |   |   |   |   |   |   relationship =  Wife:  >50K (3.0/1.0)\n",
      "|   |   |   |   |   |   |   occupation =  Priv-house-serv:  <=50K (1.0)\n",
      "|   |   |   |   |   |   |   occupation =  Prof-specialty:  >50K (13.0/4.0)\n",
      "|   |   |   |   |   |   |   occupation =  Protective-serv\n",
      "|   |   |   |   |   |   |   |   workclass =  Federal-gov:  >50K (0.0)\n",
      "|   |   |   |   |   |   |   |   workclass =  Local-gov:  >50K (11.0/2.0)\n",
      "|   |   |   |   |   |   |   |   workclass =  Private:  <=50K (6.0/1.0)\n",
      "|   |   |   |   |   |   |   |   workclass =  Self-emp-inc:  >50K (0.0)\n",
      "|   |   |   |   |   |   |   |   workclass =  Self-emp-not-inc:  >50K (0.0)\n",
      "|   |   |   |   |   |   |   |   workclass =  State-gov:  <=50K (2.0/1.0)\n",
      "|   |   |   |   |   |   |   |   workclass =  Without-pay:  >50K (0.0)\n",
      "|   |   |   |   |   |   |   occupation =  Sales\n",
      "|   |   |   |   |   |   |   |   workclass =  Federal-gov:  >50K (0.0)\n",
      "|   |   |   |   |   |   |   |   workclass =  Local-gov:  >50K (0.0)\n",
      "|   |   |   |   |   |   |   |   workclass =  Private:  >50K (35.0/12.0)\n",
      "|   |   |   |   |   |   |   |   workclass =  Self-emp-inc:  <=50K (2.0/1.0)\n",
      "|   |   |   |   |   |   |   |   workclass =  Self-emp-not-inc:  <=50K (6.0/2.0)\n",
      "|   |   |   |   |   |   |   |   workclass =  State-gov:  <=50K (1.0)\n",
      "|   |   |   |   |   |   |   |   workclass =  Without-pay:  >50K (0.0)\n",
      "|   |   |   |   |   |   |   occupation =  Tech-support:  >50K (11.0/2.0)\n",
      "|   |   |   |   |   |   |   occupation =  Transport-moving\n",
      "|   |   |   |   |   |   |   |   age <= 51\n",
      "|   |   |   |   |   |   |   |   |   hours.per.week <= 57:  <=50K (27.0/11.0)\n",
      "|   |   |   |   |   |   |   |   |   hours.per.week > 57:  >50K (6.0/2.0)\n",
      "|   |   |   |   |   |   |   |   age > 51:  >50K (7.0)\n",
      "|   |   |   |   education =  Masters:  >50K (144.0/15.0)\n",
      "|   |   |   |   education =  Preschool:  <=50K (4.0)\n",
      "|   |   |   |   education =  Prof-school\n",
      "|   |   |   |   |   age <= 61:  >50K (39.0/4.0)\n",
      "|   |   |   |   |   age > 61:  <=50K (3.0)\n",
      "|   |   |   |   education =  Some-college\n",
      "|   |   |   |   |   occupation =  Adm-clerical\n",
      "|   |   |   |   |   |   workclass =  Federal-gov:  >50K (4.0/1.0)\n",
      "|   |   |   |   |   |   workclass =  Local-gov:  >50K (3.0)\n",
      "|   |   |   |   |   |   workclass =  Private\n",
      "|   |   |   |   |   |   |   hours.per.week <= 39:  >50K (6.0)\n",
      "|   |   |   |   |   |   |   hours.per.week > 39\n",
      "|   |   |   |   |   |   |   |   hours.per.week <= 42:  <=50K (10.0/2.0)\n",
      "|   |   |   |   |   |   |   |   hours.per.week > 42:  >50K (3.0)\n",
      "|   |   |   |   |   |   workclass =  Self-emp-inc:  >50K (0.0)\n",
      "|   |   |   |   |   |   workclass =  Self-emp-not-inc:  >50K (0.0)\n",
      "|   |   |   |   |   |   workclass =  State-gov:  >50K (0.0)\n",
      "|   |   |   |   |   |   workclass =  Without-pay:  >50K (0.0)\n",
      "|   |   |   |   |   occupation =  Armed-Forces:  >50K (0.0)\n",
      "|   |   |   |   |   occupation =  Craft-repair:  >50K (64.0/25.0)\n",
      "|   |   |   |   |   occupation =  Exec-managerial:  >50K (53.0/10.0)\n",
      "|   |   |   |   |   occupation =  Farming-fishing:  <=50K (13.0/1.0)\n",
      "|   |   |   |   |   occupation =  Handlers-cleaners:  >50K (5.0/2.0)\n",
      "|   |   |   |   |   occupation =  Machine-op-inspct\n",
      "|   |   |   |   |   |   capital.gain <= 1471\n",
      "|   |   |   |   |   |   |   age <= 38:  >50K (7.0/2.0)\n",
      "|   |   |   |   |   |   |   age > 38:  <=50K (5.0/1.0)\n",
      "|   |   |   |   |   |   capital.gain > 1471:  <=50K (2.0/1.0)\n",
      "|   |   |   |   |   occupation =  Other-service:  >50K (6.0/1.0)\n",
      "|   |   |   |   |   occupation =  Priv-house-serv:  >50K (0.0)\n",
      "|   |   |   |   |   occupation =  Prof-specialty:  >50K (24.0/5.0)\n",
      "|   |   |   |   |   occupation =  Protective-serv\n",
      "|   |   |   |   |   |   age <= 57:  >50K (14.0/3.0)\n",
      "|   |   |   |   |   |   age > 57:  <=50K (4.0)\n",
      "|   |   |   |   |   occupation =  Sales:  >50K (48.0/17.0)\n",
      "|   |   |   |   |   occupation =  Tech-support:  >50K (21.0/2.0)\n",
      "|   |   |   |   |   occupation =  Transport-moving:  <=50K (21.0/9.0)\n",
      "|   |   |   capital.loss > 1762\n",
      "|   |   |   |   capital.loss <= 1980:  >50K (146.0/1.0)\n",
      "|   |   |   |   capital.loss > 1980\n",
      "|   |   |   |   |   capital.loss <= 2057:  <=50K (6.0)\n",
      "|   |   |   |   |   capital.loss > 2057:  >50K (23.0/1.0)\n",
      "|   |   marital.status =  Married-spouse-absent:  <=50K (31.0/5.0)\n",
      "|   |   marital.status =  Never-married\n",
      "|   |   |   relationship =  Husband:  <=50K (0.0)\n",
      "|   |   |   relationship =  Not-in-family\n",
      "|   |   |   |   education =  10th:  <=50K (3.0/1.0)\n",
      "|   |   |   |   education =  11th:  <=50K (1.0)\n",
      "|   |   |   |   education =  12th:  <=50K (2.0)\n",
      "|   |   |   |   education =  1st-4th:  <=50K (2.0)\n",
      "|   |   |   |   education =  5th-6th:  <=50K (2.0)\n",
      "|   |   |   |   education =  7th-8th:  <=50K (4.0/1.0)\n",
      "|   |   |   |   education =  9th:  <=50K (2.0)\n",
      "|   |   |   |   education =  Assoc-acdm:  <=50K (11.0/3.0)\n",
      "|   |   |   |   education =  Assoc-voc:  <=50K (15.0/2.0)\n",
      "|   |   |   |   education =  Bachelors\n",
      "|   |   |   |   |   hours.per.week <= 42:  <=50K (35.0/4.0)\n",
      "|   |   |   |   |   hours.per.week > 42\n",
      "|   |   |   |   |   |   workclass =  Federal-gov:  >50K (1.0)\n",
      "|   |   |   |   |   |   workclass =  Local-gov:  <=50K (5.0/1.0)\n",
      "|   |   |   |   |   |   workclass =  Private\n",
      "|   |   |   |   |   |   |   occupation =  Adm-clerical:  >50K (0.0)\n",
      "|   |   |   |   |   |   |   occupation =  Armed-Forces:  >50K (0.0)\n",
      "|   |   |   |   |   |   |   occupation =  Craft-repair:  >50K (0.0)\n",
      "|   |   |   |   |   |   |   occupation =  Exec-managerial:  >50K (10.0/2.0)\n",
      "|   |   |   |   |   |   |   occupation =  Farming-fishing:  >50K (0.0)\n",
      "|   |   |   |   |   |   |   occupation =  Handlers-cleaners:  >50K (0.0)\n",
      "|   |   |   |   |   |   |   occupation =  Machine-op-inspct:  >50K (0.0)\n",
      "|   |   |   |   |   |   |   occupation =  Other-service:  >50K (0.0)\n",
      "|   |   |   |   |   |   |   occupation =  Priv-house-serv:  >50K (0.0)\n",
      "|   |   |   |   |   |   |   occupation =  Prof-specialty\n",
      "|   |   |   |   |   |   |   |   race =  Amer-Indian-Eskimo:  <=50K (0.0)\n",
      "|   |   |   |   |   |   |   |   race =  Asian-Pac-Islander:  <=50K (0.0)\n",
      "|   |   |   |   |   |   |   |   race =  Black:  >50K (2.0)\n",
      "|   |   |   |   |   |   |   |   race =  Other:  <=50K (0.0)\n",
      "|   |   |   |   |   |   |   |   race =  White:  <=50K (10.0/1.0)\n",
      "|   |   |   |   |   |   |   occupation =  Protective-serv:  >50K (0.0)\n",
      "|   |   |   |   |   |   |   occupation =  Sales:  >50K (7.0/2.0)\n",
      "|   |   |   |   |   |   |   occupation =  Tech-support:  >50K (0.0)\n",
      "|   |   |   |   |   |   |   occupation =  Transport-moving:  >50K (0.0)\n",
      "|   |   |   |   |   |   workclass =  Self-emp-inc:  <=50K (0.0)\n",
      "|   |   |   |   |   |   workclass =  Self-emp-not-inc:  <=50K (1.0)\n",
      "|   |   |   |   |   |   workclass =  State-gov:  <=50K (0.0)\n",
      "|   |   |   |   |   |   workclass =  Without-pay:  <=50K (0.0)\n",
      "|   |   |   |   education =  Doctorate:  >50K (11.0)\n",
      "|   |   |   |   education =  HS-grad:  <=50K (70.0/7.0)\n",
      "|   |   |   |   education =  Masters:  <=50K (32.0/12.0)\n",
      "|   |   |   |   education =  Preschool:  <=50K (0.0)\n",
      "|   |   |   |   education =  Prof-school\n",
      "|   |   |   |   |   hours.per.week <= 57:  >50K (8.0)\n",
      "|   |   |   |   |   hours.per.week > 57:  <=50K (3.0/1.0)\n",
      "|   |   |   |   education =  Some-college\n",
      "|   |   |   |   |   capital.loss <= 653:  <=50K (43.0/8.0)\n",
      "|   |   |   |   |   capital.loss > 653:  >50K (4.0/1.0)\n",
      "|   |   |   relationship =  Other-relative:  <=50K (16.0)\n",
      "|   |   |   relationship =  Own-child:  <=50K (66.0/3.0)\n",
      "|   |   |   relationship =  Unmarried:  <=50K (42.0/1.0)\n",
      "|   |   |   relationship =  Wife:  <=50K (0.0)\n",
      "|   |   marital.status =  Separated:  <=50K (70.0/10.0)\n",
      "|   |   marital.status =  Widowed:  <=50K (63.0/12.0)\n",
      "capital.gain > 5013:  >50K (391.0/5.0)\n",
      "\n",
      "Number of Leaves  : \t177\n",
      "\n",
      "Size of the tree : \t219\n",
      "\n"
     ]
    },
    {
     "data": {
      "text/plain": [
       "        \n",
       "          <=50K  >50K\n",
       "   <=50K   1699   308\n",
       "   >50K     316  1677"
      ]
     },
     "metadata": {},
     "output_type": "display_data"
    },
    {
     "data": {
      "text/plain": [
       "\n",
       "=== Summary ===\n",
       "\n",
       "Correctly Classified Instances        3376               84.4    %\n",
       "Incorrectly Classified Instances       624               15.6    %\n",
       "Kappa statistic                          0.688 \n",
       "Mean absolute error                      0.2345\n",
       "Root mean squared error                  0.3424\n",
       "Relative absolute error                 46.898  %\n",
       "Root relative squared error             68.4821 %\n",
       "Total Number of Instances             4000     \n",
       "\n",
       "=== Confusion Matrix ===\n",
       "\n",
       "    a    b   <-- classified as\n",
       " 1699  308 |    a =  <=50K\n",
       "  316 1677 |    b =  >50K"
      ]
     },
     "metadata": {},
     "output_type": "display_data"
    }
   ],
   "source": [
    "print(mdl)\n",
    "table(adult.train$income, predict(mdl))\n",
    "summary(mdl)"
   ]
  },
  {
   "cell_type": "code",
   "execution_count": 6,
   "metadata": {
    "collapsed": false
   },
   "outputs": [
    {
     "name": "stdout",
     "output_type": "stream",
     "text": [
      "J48 pruned tree\n",
      "------------------\n",
      "\n",
      "capital.gain <= 5013\n",
      "|   age <= 27:  <=50K (663.0/51.0)\n",
      "|   age > 27\n",
      "|   |   marital.status =  Divorced\n",
      "|   |   |   hours.per.week <= 43:  <=50K (306.0/47.0)\n",
      "|   |   |   hours.per.week > 43\n",
      "|   |   |   |   workclass =  Federal-gov:  >50K (6.0)\n",
      "|   |   |   |   workclass =  Local-gov:  <=50K (11.0/2.0)\n",
      "|   |   |   |   workclass =  Private\n",
      "|   |   |   |   |   education =  10th:  <=50K (1.0)\n",
      "|   |   |   |   |   education =  11th:  <=50K (1.0)\n",
      "|   |   |   |   |   education =  12th:  >50K (2.0)\n",
      "|   |   |   |   |   education =  1st-4th:  <=50K (0.0)\n",
      "|   |   |   |   |   education =  5th-6th:  <=50K (1.0)\n",
      "|   |   |   |   |   education =  7th-8th:  <=50K (2.0)\n",
      "|   |   |   |   |   education =  9th:  <=50K (0.0)\n",
      "|   |   |   |   |   education =  Assoc-acdm:  <=50K (3.0/1.0)\n",
      "|   |   |   |   |   education =  Assoc-voc:  <=50K (3.0/1.0)\n",
      "|   |   |   |   |   education =  Bachelors:  >50K (20.0/6.0)\n",
      "|   |   |   |   |   education =  Doctorate:  <=50K (0.0)\n",
      "|   |   |   |   |   education =  HS-grad:  <=50K (28.0/6.0)\n",
      "|   |   |   |   |   education =  Masters:  >50K (5.0/1.0)\n",
      "|   |   |   |   |   education =  Preschool:  <=50K (0.0)\n",
      "|   |   |   |   |   education =  Prof-school:  <=50K (0.0)\n",
      "|   |   |   |   |   education =  Some-college:  <=50K (15.0/6.0)\n",
      "|   |   |   |   workclass =  Self-emp-inc:  <=50K (9.0/4.0)\n",
      "|   |   |   |   workclass =  Self-emp-not-inc:  >50K (13.0/3.0)\n",
      "|   |   |   |   workclass =  State-gov:  <=50K (3.0/1.0)\n",
      "|   |   |   |   workclass =  Without-pay:  <=50K (0.0)\n",
      "|   |   marital.status =  Married-AF-spouse:  >50K (5.0/1.0)\n",
      "|   |   marital.status =  Married-civ-spouse\n",
      "|   |   |   capital.loss <= 1762\n",
      "|   |   |   |   education =  10th\n",
      "|   |   |   |   |   age <= 50:  <=50K (13.0/3.0)\n",
      "|   |   |   |   |   age > 50:  >50K (14.0/6.0)\n",
      "|   |   |   |   education =  11th:  <=50K (32.0/7.0)\n",
      "|   |   |   |   education =  12th:  <=50K (9.0/4.0)\n",
      "|   |   |   |   education =  1st-4th:  <=50K (4.0/2.0)\n",
      "|   |   |   |   education =  5th-6th:  <=50K (12.0/2.0)\n",
      "|   |   |   |   education =  7th-8th:  <=50K (37.0/8.0)\n",
      "|   |   |   |   education =  9th:  <=50K (19.0/6.0)\n",
      "|   |   |   |   education =  Assoc-acdm:  >50K (56.0/16.0)\n",
      "|   |   |   |   education =  Assoc-voc:  >50K (88.0/30.0)\n",
      "|   |   |   |   education =  Bachelors:  >50K (379.0/63.0)\n",
      "|   |   |   |   education =  Doctorate:  >50K (37.0/2.0)\n",
      "|   |   |   |   education =  HS-grad\n",
      "|   |   |   |   |   hours.per.week <= 39:  <=50K (67.0/21.0)\n",
      "|   |   |   |   |   hours.per.week > 39\n",
      "|   |   |   |   |   |   race =  Amer-Indian-Eskimo:  <=50K (4.0)\n",
      "|   |   |   |   |   |   race =  Asian-Pac-Islander:  <=50K (14.0/3.0)\n",
      "|   |   |   |   |   |   race =  Black:  <=50K (27.0/13.0)\n",
      "|   |   |   |   |   |   race =  Other:  <=50K (1.0)\n",
      "|   |   |   |   |   |   race =  White:  >50K (449.0/172.0)\n",
      "|   |   |   |   education =  Masters:  >50K (144.0/15.0)\n",
      "|   |   |   |   education =  Preschool:  <=50K (4.0)\n",
      "|   |   |   |   education =  Prof-school:  >50K (42.0/7.0)\n",
      "|   |   |   |   education =  Some-college:  >50K (313.0/109.0)\n",
      "|   |   |   capital.loss > 1762:  >50K (175.0/8.0)\n",
      "|   |   marital.status =  Married-spouse-absent:  <=50K (31.0/5.0)\n",
      "|   |   marital.status =  Never-married:  <=50K (408.0/83.0)\n",
      "|   |   marital.status =  Separated:  <=50K (70.0/10.0)\n",
      "|   |   marital.status =  Widowed:  <=50K (63.0/12.0)\n",
      "capital.gain > 5013:  >50K (391.0/5.0)\n",
      "\n",
      "Number of Leaves  : \t53\n",
      "\n",
      "Size of the tree : \t64\n",
      "\n"
     ]
    }
   ],
   "source": [
    "print(mdl.2)\n"
   ]
  },
  {
   "cell_type": "code",
   "execution_count": 7,
   "metadata": {
    "collapsed": false
   },
   "outputs": [
    {
     "name": "stdout",
     "output_type": "stream",
     "text": [
      "J48 pruned tree\n",
      "------------------\n",
      "\n",
      "marital.status =  Married-civ-spouse\n",
      "|   capital.gain <= 5013.0\n",
      "|   |   native.country =  Mexico:  <=50K (29.0/5.0)\n",
      "|   |   native.country !=  Mexico\n",
      "|   |   |   education =  7th-8th:  <=50K (38.0/8.0)\n",
      "|   |   |   education !=  7th-8th\n",
      "|   |   |   |   education =  11th:  <=50K (39.0/9.0)\n",
      "|   |   |   |   education !=  11th\n",
      "|   |   |   |   |   capital.loss <= 1762.0\n",
      "|   |   |   |   |   |   education =  Doctorate:  >50K (37.0/2.0)\n",
      "|   |   |   |   |   |   education !=  Doctorate\n",
      "|   |   |   |   |   |   |   education =  Masters:  >50K (145.0/16.0)\n",
      "|   |   |   |   |   |   |   education !=  Masters\n",
      "|   |   |   |   |   |   |   |   education =  Bachelors:  >50K (394.0/68.0)\n",
      "|   |   |   |   |   |   |   |   education !=  Bachelors\n",
      "|   |   |   |   |   |   |   |   |   occupation =  Exec-managerial:  >50K (163.0/32.0)\n",
      "|   |   |   |   |   |   |   |   |   occupation !=  Exec-managerial\n",
      "|   |   |   |   |   |   |   |   |   |   education =  Prof-school:  >50K (39.0/6.0)\n",
      "|   |   |   |   |   |   |   |   |   |   education !=  Prof-school\n",
      "|   |   |   |   |   |   |   |   |   |   |   occupation =  Tech-support:  >50K (48.0/8.0)\n",
      "|   |   |   |   |   |   |   |   |   |   |   occupation !=  Tech-support\n",
      "|   |   |   |   |   |   |   |   |   |   |   |   occupation =  Prof-specialty\n",
      "|   |   |   |   |   |   |   |   |   |   |   |   |   age <= 31.0:  <=50K (10.0/3.0)\n",
      "|   |   |   |   |   |   |   |   |   |   |   |   |   age > 31.0:  >50K (55.0/9.0)\n",
      "|   |   |   |   |   |   |   |   |   |   |   |   occupation !=  Prof-specialty\n",
      "|   |   |   |   |   |   |   |   |   |   |   |   |   age <= 28.0:  <=50K (97.0/26.0)\n",
      "|   |   |   |   |   |   |   |   |   |   |   |   |   age > 28.0\n",
      "|   |   |   |   |   |   |   |   |   |   |   |   |   |   occupation =  Farming-fishing:  <=50K (54.0/17.0)\n",
      "|   |   |   |   |   |   |   |   |   |   |   |   |   |   occupation !=  Farming-fishing\n",
      "|   |   |   |   |   |   |   |   |   |   |   |   |   |   |   workclass =  Federal-gov:  >50K (26.0/6.0)\n",
      "|   |   |   |   |   |   |   |   |   |   |   |   |   |   |   workclass !=  Federal-gov\n",
      "|   |   |   |   |   |   |   |   |   |   |   |   |   |   |   |   education =  9th:  <=50K (15.0/5.0)\n",
      "|   |   |   |   |   |   |   |   |   |   |   |   |   |   |   |   education !=  9th\n",
      "|   |   |   |   |   |   |   |   |   |   |   |   |   |   |   |   |   age <= 59.0\n",
      "|   |   |   |   |   |   |   |   |   |   |   |   |   |   |   |   |   |   race =  Asian-Pac-Islander\n",
      "|   |   |   |   |   |   |   |   |   |   |   |   |   |   |   |   |   |   |   education =  HS-grad:  <=50K (12.0/2.0)\n",
      "|   |   |   |   |   |   |   |   |   |   |   |   |   |   |   |   |   |   |   education !=  HS-grad:  >50K (11.0/4.0)\n",
      "|   |   |   |   |   |   |   |   |   |   |   |   |   |   |   |   |   |   race !=  Asian-Pac-Islander\n",
      "|   |   |   |   |   |   |   |   |   |   |   |   |   |   |   |   |   |   |   hours.per.week <= 55.0\n",
      "|   |   |   |   |   |   |   |   |   |   |   |   |   |   |   |   |   |   |   |   occupation =  Transport-moving:  <=50K (66.0/27.0)\n",
      "|   |   |   |   |   |   |   |   |   |   |   |   |   |   |   |   |   |   |   |   occupation !=  Transport-moving\n",
      "|   |   |   |   |   |   |   |   |   |   |   |   |   |   |   |   |   |   |   |   |   workclass =  Local-gov:  >50K (33.0/8.0)\n",
      "|   |   |   |   |   |   |   |   |   |   |   |   |   |   |   |   |   |   |   |   |   workclass !=  Local-gov\n",
      "|   |   |   |   |   |   |   |   |   |   |   |   |   |   |   |   |   |   |   |   |   |   occupation =  Handlers-cleaners:  >50K (14.0/4.0)\n",
      "|   |   |   |   |   |   |   |   |   |   |   |   |   |   |   |   |   |   |   |   |   |   occupation !=  Handlers-cleaners\n",
      "|   |   |   |   |   |   |   |   |   |   |   |   |   |   |   |   |   |   |   |   |   |   |   occupation =  Protective-serv:  <=50K (12.0/4.0)\n",
      "|   |   |   |   |   |   |   |   |   |   |   |   |   |   |   |   |   |   |   |   |   |   |   occupation !=  Protective-serv\n",
      "|   |   |   |   |   |   |   |   |   |   |   |   |   |   |   |   |   |   |   |   |   |   |   |   age <= 44.0\n",
      "|   |   |   |   |   |   |   |   |   |   |   |   |   |   |   |   |   |   |   |   |   |   |   |   |   relationship =  Wife:  >50K (41.0/16.0)\n",
      "|   |   |   |   |   |   |   |   |   |   |   |   |   |   |   |   |   |   |   |   |   |   |   |   |   relationship !=  Wife\n",
      "|   |   |   |   |   |   |   |   |   |   |   |   |   |   |   |   |   |   |   |   |   |   |   |   |   |   hours.per.week <= 39.0:  <=50K (21.0/3.0)\n",
      "|   |   |   |   |   |   |   |   |   |   |   |   |   |   |   |   |   |   |   |   |   |   |   |   |   |   hours.per.week > 39.0\n",
      "|   |   |   |   |   |   |   |   |   |   |   |   |   |   |   |   |   |   |   |   |   |   |   |   |   |   |   occupation =  Sales:  >50K (33.0/14.0)\n",
      "|   |   |   |   |   |   |   |   |   |   |   |   |   |   |   |   |   |   |   |   |   |   |   |   |   |   |   occupation !=  Sales\n",
      "|   |   |   |   |   |   |   |   |   |   |   |   |   |   |   |   |   |   |   |   |   |   |   |   |   |   |   |   workclass =  Private:  <=50K (140.0/62.0)\n",
      "|   |   |   |   |   |   |   |   |   |   |   |   |   |   |   |   |   |   |   |   |   |   |   |   |   |   |   |   workclass !=  Private:  >50K (10.0/4.0)\n",
      "|   |   |   |   |   |   |   |   |   |   |   |   |   |   |   |   |   |   |   |   |   |   |   |   age > 44.0\n",
      "|   |   |   |   |   |   |   |   |   |   |   |   |   |   |   |   |   |   |   |   |   |   |   |   |   relationship =  Wife:  <=50K (23.0/9.0)\n",
      "|   |   |   |   |   |   |   |   |   |   |   |   |   |   |   |   |   |   |   |   |   |   |   |   |   relationship !=  Wife:  >50K (159.0/51.0)\n",
      "|   |   |   |   |   |   |   |   |   |   |   |   |   |   |   |   |   |   |   hours.per.week > 55.0:  >50K (64.0/15.0)\n",
      "|   |   |   |   |   |   |   |   |   |   |   |   |   |   |   |   |   age > 59.0:  <=50K (60.0/19.0)\n",
      "|   |   |   |   |   capital.loss > 1762.0:  >50K (176.0/6.0)\n",
      "|   capital.gain > 5013.0:  >50K (309.0/1.0)\n",
      "marital.status !=  Married-civ-spouse\n",
      "|   capital.gain <= 4650.0\n",
      "|   |   hours.per.week <= 43.0:  <=50K (1174.0/99.0)\n",
      "|   |   hours.per.week > 43.0\n",
      "|   |   |   workclass =  Federal-gov:  >50K (18.0/4.0)\n",
      "|   |   |   workclass !=  Federal-gov\n",
      "|   |   |   |   relationship =  Own-child:  <=50K (36.0/1.0)\n",
      "|   |   |   |   relationship !=  Own-child\n",
      "|   |   |   |   |   age <= 25.0:  <=50K (31.0/1.0)\n",
      "|   |   |   |   |   age > 25.0\n",
      "|   |   |   |   |   |   capital.loss <= 1092.0\n",
      "|   |   |   |   |   |   |   education =  HS-grad:  <=50K (65.0/12.0)\n",
      "|   |   |   |   |   |   |   education !=  HS-grad\n",
      "|   |   |   |   |   |   |   |   occupation =  Exec-managerial\n",
      "|   |   |   |   |   |   |   |   |   sex =  Female:  <=50K (25.0/11.0)\n",
      "|   |   |   |   |   |   |   |   |   sex !=  Female:  >50K (20.0/4.0)\n",
      "|   |   |   |   |   |   |   |   occupation !=  Exec-managerial\n",
      "|   |   |   |   |   |   |   |   |   sex =  Female:  <=50K (57.0/13.0)\n",
      "|   |   |   |   |   |   |   |   |   sex !=  Female\n",
      "|   |   |   |   |   |   |   |   |   |   education =  Some-college:  <=50K (25.0/5.0)\n",
      "|   |   |   |   |   |   |   |   |   |   education !=  Some-college\n",
      "|   |   |   |   |   |   |   |   |   |   |   marital.status =  Divorced:  >50K (17.0/6.0)\n",
      "|   |   |   |   |   |   |   |   |   |   |   marital.status !=  Divorced\n",
      "|   |   |   |   |   |   |   |   |   |   |   |   occupation =  Sales:  >50K (10.0/3.0)\n",
      "|   |   |   |   |   |   |   |   |   |   |   |   occupation !=  Sales:  <=50K (36.0/15.0)\n",
      "|   |   |   |   |   |   capital.loss > 1092.0:  >50K (23.0/7.0)\n",
      "|   capital.gain > 4650.0:  >50K (90.0/4.0)\n",
      "\n",
      "Number of Leaves  : \t46\n",
      "\n",
      "Size of the tree : \t91\n",
      "\n"
     ]
    }
   ],
   "source": [
    "print(mdl.3)"
   ]
  },
  {
   "cell_type": "markdown",
   "metadata": {},
   "source": [
    "### Problem 2\n",
    "Select any two out of the tree decision trees. Perform k-fold cross validation on\n",
    "both of them. Compare the results. Which one is more likely to perform better\n",
    "on the test dataset?\n"
   ]
  },
  {
   "cell_type": "code",
   "execution_count": 8,
   "metadata": {
    "collapsed": false
   },
   "outputs": [
    {
     "data": {
      "text/plain": [
       "=== 10 Fold Cross Validation ===\n",
       "\n",
       "=== Summary ===\n",
       "\n",
       "Correctly Classified Instances        3188               79.7    %\n",
       "Incorrectly Classified Instances       812               20.3    %\n",
       "Kappa statistic                          0.5941\n",
       "Mean absolute error                      0.2809\n",
       "Root mean squared error                  0.3824\n",
       "Relative absolute error                 56.1726 %\n",
       "Root relative squared error             76.4777 %\n",
       "Total Number of Instances             4000     \n",
       "\n",
       "=== Detailed Accuracy By Class ===\n",
       "\n",
       "                 TP Rate  FP Rate  Precision  Recall   F-Measure  MCC      ROC Area  PRC Area  Class\n",
       "                 0.775    0.181    0.812      0.775    0.793      0.595    0.864     0.838      <=50K\n",
       "                 0.819    0.225    0.783      0.819    0.801      0.595    0.864     0.860      >50K\n",
       "Weighted Avg.    0.797    0.203    0.798      0.797    0.797      0.595    0.864     0.849     \n",
       "\n",
       "=== Confusion Matrix ===\n",
       "\n",
       "    a    b   <-- classified as\n",
       " 1556  451 |    a =  <=50K\n",
       "  361 1632 |    b =  >50K"
      ]
     },
     "metadata": {},
     "output_type": "display_data"
    },
    {
     "data": {
      "text/plain": [
       "=== 10 Fold Cross Validation ===\n",
       "\n",
       "=== Summary ===\n",
       "\n",
       "Correctly Classified Instances        3224               80.6    %\n",
       "Incorrectly Classified Instances       776               19.4    %\n",
       "Kappa statistic                          0.612 \n",
       "Mean absolute error                      0.26  \n",
       "Root mean squared error                  0.3719\n",
       "Relative absolute error                 52.0044 %\n",
       "Root relative squared error             74.3734 %\n",
       "Total Number of Instances             4000     \n",
       "\n",
       "=== Detailed Accuracy By Class ===\n",
       "\n",
       "                 TP Rate  FP Rate  Precision  Recall   F-Measure  MCC      ROC Area  PRC Area  Class\n",
       "                 0.791    0.179    0.817      0.791    0.804      0.612    0.882     0.869      <=50K\n",
       "                 0.821    0.209    0.796      0.821    0.808      0.612    0.882     0.881      >50K\n",
       "Weighted Avg.    0.806    0.194    0.806      0.806    0.806      0.612    0.882     0.875     \n",
       "\n",
       "=== Confusion Matrix ===\n",
       "\n",
       "    a    b   <-- classified as\n",
       " 1587  420 |    a =  <=50K\n",
       "  356 1637 |    b =  >50K"
      ]
     },
     "metadata": {},
     "output_type": "display_data"
    }
   ],
   "source": [
    "evaluate_Weka_classifier(mdl.2, class = T, numFolds = 10)\n",
    "evaluate_Weka_classifier(mdl.3, class = T, numFolds = 10)\n"
   ]
  },
  {
   "cell_type": "markdown",
   "metadata": {},
   "source": [
    "### Problem 3\n",
    "Perform holdout cross validations on the two classifiers selected in Problem 2.\n",
    "1. Compare the results between the two classifiers.\n",
    "2. Does the results from holdout cross validation agree with k-fold cross\n",
    "validation?\n"
   ]
  },
  {
   "cell_type": "markdown",
   "metadata": {},
   "source": [
    "### Problem 4\n",
    "Load the adult test dataset, and predict the classes in the testing dataset.\n",
    "Compare the performance of the two classifiers. Present the ROC curve and\n",
    "confusion matrix."
   ]
  },
  {
   "cell_type": "code",
   "execution_count": 9,
   "metadata": {
    "collapsed": false
   },
   "outputs": [],
   "source": [
    "adult.test <- read.csv(\"adult_test.csv\")\n",
    "p.2 <- predict(mdl.2, newdata = adult.test, type = c(\"class\"))\n",
    "p.3 <- predict(mdl.3, newdata = adult.test, type = c(\"class\"))"
   ]
  },
  {
   "cell_type": "code",
   "execution_count": 10,
   "metadata": {
    "collapsed": false
   },
   "outputs": [
    {
     "data": {
      "text/html": [
       "0.769"
      ],
      "text/latex": [
       "0.769"
      ],
      "text/markdown": [
       "0.769"
      ],
      "text/plain": [
       "[1] 0.769"
      ]
     },
     "metadata": {},
     "output_type": "display_data"
    }
   ],
   "source": [
    "## accuracy of model p.2\n",
    "accuracy_p_2 = sum(adult.test$income == p.2)/length(p.2)\n",
    "\n",
    "accuracy_p_2"
   ]
  },
  {
   "cell_type": "code",
   "execution_count": 11,
   "metadata": {
    "collapsed": false
   },
   "outputs": [
    {
     "data": {
      "text/html": [
       "0.6"
      ],
      "text/latex": [
       "0.6"
      ],
      "text/markdown": [
       "0.6"
      ],
      "text/plain": [
       "[1] 0.6"
      ]
     },
     "metadata": {},
     "output_type": "display_data"
    }
   ],
   "source": [
    "## accuracy of model p.3\n",
    "accuracy_p_3 = sum(adult.test$income == p.3)/length(p.3)\n",
    "accuracy_p_3\n"
   ]
  },
  {
   "cell_type": "code",
   "execution_count": null,
   "metadata": {
    "collapsed": true
   },
   "outputs": [],
   "source": []
  }
 ],
 "metadata": {
  "anaconda-cloud": {},
  "kernelspec": {
   "display_name": "R",
   "language": "R",
   "name": "ir"
  },
  "language_info": {
   "codemirror_mode": "r",
   "file_extension": ".r",
   "mimetype": "text/x-r-source",
   "name": "R",
   "pygments_lexer": "r",
   "version": "3.3.2"
  }
 },
 "nbformat": 4,
 "nbformat_minor": 1
}
