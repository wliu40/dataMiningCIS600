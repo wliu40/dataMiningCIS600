{
 "cells": [
  {
   "cell_type": "markdown",
   "metadata": {},
   "source": [
    "## Lab 4"
   ]
  },
  {
   "cell_type": "code",
   "execution_count": 1,
   "metadata": {
    "collapsed": false
   },
   "outputs": [
    {
     "name": "stderr",
     "output_type": "stream",
     "text": [
      "Loading required package: NLP\n"
     ]
    }
   ],
   "source": [
    "library(tm)\n",
    "library(e1071)"
   ]
  },
  {
   "cell_type": "code",
   "execution_count": 2,
   "metadata": {
    "collapsed": false
   },
   "outputs": [
    {
     "name": "stdout",
     "output_type": "stream",
     "text": [
      "[1] \"ham\"\n"
     ]
    },
    {
     "data": {
      "text/html": [
       "<table>\n",
       "<thead><tr><th scope=col>type</th><th scope=col>text</th></tr></thead>\n",
       "<tbody>\n",
       "\t<tr><td>ham                                                                                                                                                              </td><td>Hope you are having a good week. Just checking in                                                                                                                </td></tr>\n",
       "\t<tr><td>ham                                                                                                                                                              </td><td>K..give back my thanks.                                                                                                                                          </td></tr>\n",
       "\t<tr><td>ham                                                                                                                                                              </td><td>Am also doing in cbe only. But have to pay.                                                                                                                      </td></tr>\n",
       "\t<tr><td>spam                                                                                                                                                             </td><td>complimentary 4 STAR Ibiza Holiday or ￡10,000 cash needs your URGENT collection. 09066364349 NOW from Landline not to lose out! Box434SK38WP150PPM18+           </td></tr>\n",
       "\t<tr><td>spam                                                                                                                                                             </td><td>okmail: Dear Dave this is your final notice to collect your 4* Tenerife Holiday or #5000 CASH award! Call 09061743806 from landline. TCs SAE Box326 CW25WX 150ppm</td></tr>\n",
       "\t<tr><td>ham                                                                                                                                                              </td><td>Aiya we discuss later lar... Pick u up at 4 is it?                                                                                                               </td></tr>\n",
       "</tbody>\n",
       "</table>\n"
      ],
      "text/latex": [
       "\\begin{tabular}{r|ll}\n",
       " type & text\\\\\n",
       "\\hline\n",
       "\t ham                                                                                                                                                               & Hope you are having a good week. Just checking in                                                                                                                \\\\\n",
       "\t ham                                                                                                                                                               & K..give back my thanks.                                                                                                                                          \\\\\n",
       "\t ham                                                                                                                                                               & Am also doing in cbe only. But have to pay.                                                                                                                      \\\\\n",
       "\t spam                                                                                                                                                              & complimentary 4 STAR Ibiza Holiday or ￡10,000 cash needs your URGENT collection. 09066364349 NOW from Landline not to lose out! Box434SK38WP150PPM18+           \\\\\n",
       "\t spam                                                                                                                                                                & okmail: Dear Dave this is your final notice to collect your 4* Tenerife Holiday or \\#5000 CASH award! Call 09061743806 from landline. TCs SAE Box326 CW25WX 150ppm\\\\\n",
       "\t ham                                                                                                                                                               & Aiya we discuss later lar... Pick u up at 4 is it?                                                                                                               \\\\\n",
       "\\end{tabular}\n"
      ],
      "text/markdown": [
       "\n",
       "type | text | \n",
       "|---|---|---|---|---|---|\n",
       "| ham                                                                                                                                                               | Hope you are having a good week. Just checking in                                                                                                                 | \n",
       "| ham                                                                                                                                                               | K..give back my thanks.                                                                                                                                           | \n",
       "| ham                                                                                                                                                               | Am also doing in cbe only. But have to pay.                                                                                                                       | \n",
       "| spam                                                                                                                                                              | complimentary 4 STAR Ibiza Holiday or ￡10,000 cash needs your URGENT collection. 09066364349 NOW from Landline not to lose out! Box434SK38WP150PPM18+            | \n",
       "| spam                                                                                                                                                              | okmail: Dear Dave this is your final notice to collect your 4* Tenerife Holiday or #5000 CASH award! Call 09061743806 from landline. TCs SAE Box326 CW25WX 150ppm | \n",
       "| ham                                                                                                                                                               | Aiya we discuss later lar... Pick u up at 4 is it?                                                                                                                | \n",
       "\n",
       "\n"
      ],
      "text/plain": [
       "  type\n",
       "1 ham \n",
       "2 ham \n",
       "3 ham \n",
       "4 spam\n",
       "5 spam\n",
       "6 ham \n",
       "  text                                                                                                                                                             \n",
       "1 Hope you are having a good week. Just checking in                                                                                                                \n",
       "2 K..give back my thanks.                                                                                                                                          \n",
       "3 Am also doing in cbe only. But have to pay.                                                                                                                      \n",
       "4 complimentary 4 STAR Ibiza Holiday or ￡10,000 cash needs your URGENT collection. 09066364349 NOW from Landline not to lose out! Box434SK38WP150PPM18+           \n",
       "5 okmail: Dear Dave this is your final notice to collect your 4* Tenerife Holiday or #5000 CASH award! Call 09061743806 from landline. TCs SAE Box326 CW25WX 150ppm\n",
       "6 Aiya we discuss later lar... Pick u up at 4 is it?                                                                                                               "
      ]
     },
     "metadata": {},
     "output_type": "display_data"
    },
    {
     "name": "stdout",
     "output_type": "stream",
     "text": [
      "[1] 5559    2\n"
     ]
    },
    {
     "data": {
      "text/html": [
       "'ham'"
      ],
      "text/latex": [
       "'ham'"
      ],
      "text/markdown": [
       "'ham'"
      ],
      "text/plain": [
       "[1] \"ham\""
      ]
     },
     "metadata": {},
     "output_type": "display_data"
    }
   ],
   "source": [
    "sms_raw <-read.csv(\"F:/dataMining600/Lab4/sms_spam.csv\",stringsAsFactors = FALSE)\n",
    "print(sms_raw$type[239])\n",
    "### this is important to the \" duplicated row.names\" error\n",
    "#colnames(sms_raw) <- c(colnames(sms_raw)[-1],\"x\")\n",
    "#sms_raw$x <- NULL\n",
    "### \n",
    "head(sms_raw)\n",
    "print(dim(sms_raw))\n",
    "sms_raw$type[239]"
   ]
  },
  {
   "cell_type": "code",
   "execution_count": 3,
   "metadata": {
    "collapsed": false
   },
   "outputs": [
    {
     "data": {
      "text/plain": [
       "<<VCorpus>>\n",
       "Metadata:  corpus specific: 0, document level (indexed): 0\n",
       "Content:  documents: 5559"
      ]
     },
     "metadata": {},
     "output_type": "display_data"
    }
   ],
   "source": [
    "sms_corpus <- VCorpus(VectorSource(sms_raw$text))\n",
    "sms_corpus\n",
    "\n",
    "## the following code is to clean the text by delete all the non-ascii characters\n",
    "for(i in 1:length(sms_raw$text)){\n",
    "     sms_raw$text[i] = iconv(sms_raw$text[i], \"latin1\", \"ASCII\", sub=\"\")\n",
    "}\n",
    "\n",
    "## have to remvoe all the non-ascii chars before excuting the following:\n",
    "sms_corpus_clean <- tm_map(sms_corpus, removeNumbers)\n",
    "sms_corpus_clean <- tm_map(sms_corpus_clean,removePunctuation)\n",
    "sms_corpus_clean <- tm_map(sms_corpus_clean,content_transformer(tolower))"
   ]
  },
  {
   "cell_type": "code",
   "execution_count": 11,
   "metadata": {
    "collapsed": false
   },
   "outputs": [
    {
     "name": "stdout",
     "output_type": "stream",
     "text": [
      "<<DocumentTermMatrix (documents: 5559, terms: 8390)>>\n",
      "Non-/sparse entries: 57560/46582450\n",
      "Sparsity           : 100%\n",
      "Maximal term length: 40\n",
      "Weighting          : term frequency (tf)\n",
      "Sample             :\n",
      "      Terms\n",
      "Docs   and are call for have now that the you your\n",
      "  1628   4   3    0   1    0   0    1   2   5    0\n",
      "  2046   4   0    0   0    4   0    2  10  13    0\n",
      "  2993   3   1    0   2    2   0    1   2   4    1\n",
      "  313    4   0    0   6    1   0    2   8   0    0\n",
      "  3522   1   0    0   1    0   0    0   2   0    0\n",
      "  399    1   0    0   1    0   0    0   2   0    0\n",
      "  4493   1   0    0   2    0   0    2   2   5    0\n",
      "  5279   0   0    0   3    1   0    1   1   0    0\n",
      "  64     1   0    0   0    0   0    1   3   4    0\n",
      "  808    1   0    0   1    3   0    1   2   3    0\n",
      "<<VCorpus>>\n",
      "Metadata:  corpus specific: 0, document level (indexed): 0\n",
      "Content:  documents: 4\n"
     ]
    }
   ],
   "source": [
    "sms_dtm <- DocumentTermMatrix(sms_corpus_clean)\n",
    "inspect(sms_dtm)\n",
    "print (sms_corpus_clean[1:4])\n"
   ]
  },
  {
   "cell_type": "code",
   "execution_count": 23,
   "metadata": {
    "collapsed": false
   },
   "outputs": [
    {
     "name": "stdout",
     "output_type": "stream",
     "text": [
      "[1] 4447.2\n",
      "[1] 1111.8\n",
      "<<DocumentTermMatrix (documents: 5559, terms: 8390)>>\n",
      "Non-/sparse entries: 57560/46582450\n",
      "Sparsity           : 100%\n",
      "Maximal term length: 40\n",
      "Weighting          : term frequency (tf)\n",
      "Sample             :\n",
      "      Terms\n",
      "Docs   and are call for have now that the you your\n",
      "  1628   4   3    0   1    0   0    1   2   5    0\n",
      "  2046   4   0    0   0    4   0    2  10  13    0\n",
      "  2993   3   1    0   2    2   0    1   2   4    1\n",
      "  313    4   0    0   6    1   0    2   8   0    0\n",
      "  3522   1   0    0   1    0   0    0   2   0    0\n",
      "  399    1   0    0   1    0   0    0   2   0    0\n",
      "  4493   1   0    0   2    0   0    2   2   5    0\n",
      "  5279   0   0    0   3    1   0    1   1   0    0\n",
      "  64     1   0    0   0    0   0    1   3   4    0\n",
      "  808    1   0    0   1    3   0    1   2   3    0\n"
     ]
    }
   ],
   "source": [
    "train_size <- nrow(sms_dtm)*0.8\n",
    "test_size <- nrow(sms_dtm)*0.2\n",
    "print(train_size)\n",
    "print(test_size)\n",
    "\n",
    "sms_dtm_train <- sms_dtm[1:train_size, ]\n",
    "sms_dtm_test <- sms_dtm[train_size+1:test_size, ]\n",
    "inspect(sms_dtm)\n",
    "\n",
    "sms_train_labels = sms_raw$type[1:train_size]\n",
    "sms_test_labels = sms_raw$type[train_size+1:test_size]"
   ]
  },
  {
   "cell_type": "code",
   "execution_count": 24,
   "metadata": {
    "collapsed": true
   },
   "outputs": [],
   "source": [
    "freq_terms <- findFreqTerms(sms_dtm_train, 10)\n",
    "# create DTMs with only the frequent terms\n",
    "sms_dtm_freq_train <- sms_dtm_train[ , freq_terms]\n",
    "sms_dtm_freq_test <- sms_dtm_test[ , freq_terms]\n"
   ]
  },
  {
   "cell_type": "code",
   "execution_count": 25,
   "metadata": {
    "collapsed": false
   },
   "outputs": [
    {
     "name": "stdout",
     "output_type": "stream",
     "text": [
      "<<DocumentTermMatrix (documents: 4447, terms: 763)>>\n",
      "Non-/sparse entries: 33434/3359627\n",
      "Sparsity           : 99%\n",
      "Maximal term length: 15\n",
      "Weighting          : term frequency (tf)\n",
      "Sample             :\n",
      "      Terms\n",
      "Docs   and are call for have now that the you your\n",
      "  1613   3   0    0   0    0   0    3   3   8    0\n",
      "  1628   4   3    0   1    0   0    1   2   5    0\n",
      "  2046   4   0    0   0    4   0    2  10  13    0\n",
      "  2993   3   1    0   2    2   0    1   2   4    1\n",
      "  313    4   0    0   6    1   0    2   8   0    0\n",
      "  3522   1   0    0   1    0   0    0   2   0    0\n",
      "  3854   1   1    0   0    0   0    1   3   4    0\n",
      "  399    1   0    0   1    0   0    0   2   0    0\n",
      "  64     1   0    0   0    0   0    1   3   4    0\n",
      "  808    1   0    0   1    3   0    1   2   3    0\n"
     ]
    }
   ],
   "source": [
    "inspect(sms_dtm_freq_train)"
   ]
  },
  {
   "cell_type": "code",
   "execution_count": 27,
   "metadata": {
    "collapsed": false
   },
   "outputs": [],
   "source": [
    "convert_counts <- function(x)\n",
    "{\n",
    "x <- ifelse(x > 0, \"Yes\", \"No\")\n",
    "}\n",
    "sms_train <- apply(sms_dtm_freq_train, MARGIN = 2,convert_counts)\n",
    "sms_test <- apply(sms_dtm_freq_test, MARGIN = 2,convert_counts)\n",
    "\n",
    "sms_classifier <- naiveBayes(as.matrix(sms_train),as.factor(sms_train_labels))"
   ]
  },
  {
   "cell_type": "code",
   "execution_count": 28,
   "metadata": {
    "collapsed": true
   },
   "outputs": [],
   "source": [
    "sms_test_pred <- predict(sms_classifier,as.matrix(sms_test))"
   ]
  },
  {
   "cell_type": "code",
   "execution_count": 29,
   "metadata": {
    "collapsed": false
   },
   "outputs": [
    {
     "data": {
      "text/plain": [
       "         Actual\n",
       "Predicted ham spam\n",
       "     ham  956   22\n",
       "     spam   5  128"
      ]
     },
     "metadata": {},
     "output_type": "display_data"
    }
   ],
   "source": [
    "table(\"Predicted\" = sms_test_pred, \"Actual\" = sms_test_labels)"
   ]
  },
  {
   "cell_type": "code",
   "execution_count": null,
   "metadata": {
    "collapsed": true
   },
   "outputs": [],
   "source": []
  },
  {
   "cell_type": "code",
   "execution_count": null,
   "metadata": {
    "collapsed": true
   },
   "outputs": [],
   "source": []
  }
 ],
 "metadata": {
  "kernelspec": {
   "display_name": "R",
   "language": "R",
   "name": "ir"
  },
  "language_info": {
   "codemirror_mode": "r",
   "file_extension": ".r",
   "mimetype": "text/x-r-source",
   "name": "R",
   "pygments_lexer": "r",
   "version": "3.3.2"
  }
 },
 "nbformat": 4,
 "nbformat_minor": 1
}
